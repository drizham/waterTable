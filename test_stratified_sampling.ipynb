{
 "cells": [
  {
   "cell_type": "markdown",
   "metadata": {},
   "source": [
    "### Stratified Sampling Example\n",
    "Use stratified sampling when the sample set contains inhomogenous populations (non equal proportions). The stratified shuffle split object contains the train_index & test_index, NOTE: that this might only be accessed by looping within the strat-shuf-split object"
   ]
  },
  {
   "cell_type": "code",
   "execution_count": 1,
   "metadata": {
    "collapsed": false
   },
   "outputs": [],
   "source": [
    "import numpy as np\n",
    "from sklearn.cross_validation import StratifiedShuffleSplit\n",
    "X = np.array([[1, 2], [3, 4], [1, 2], [3, 4],[8,7],[5,4],[19,32], [5,1],[7,4],[9,4],\n",
    "             [1, 2], [3, 4], [1, 2], [3, 4],[8,7],[5,4],[19,32], [5,1],[7,4],[9,4]])\n",
    "y = np.array([0, 0, 0,0,0,0,0, 0, 0,0,0,0,2,2,2,2,2,2,1,1])"
   ]
  },
  {
   "cell_type": "code",
   "execution_count": 2,
   "metadata": {
    "collapsed": false
   },
   "outputs": [
    {
     "name": "stdout",
     "output_type": "stream",
     "text": [
      "StratifiedShuffleSplit(labels=[0 0 0 0 0 0 0 0 0 0 0 0 2 2 2 2 2 2 1 1], n_iter=2, test_size=0.33, random_state=0)\n"
     ]
    }
   ],
   "source": [
    "sss = StratifiedShuffleSplit(y, 2, test_size=0.33, random_state=0)\n",
    "print(sss)"
   ]
  },
  {
   "cell_type": "code",
   "execution_count": 3,
   "metadata": {
    "collapsed": false
   },
   "outputs": [
    {
     "data": {
      "text/plain": [
       "sklearn.cross_validation.StratifiedShuffleSplit"
      ]
     },
     "execution_count": 3,
     "metadata": {},
     "output_type": "execute_result"
    }
   ],
   "source": [
    "type(sss)"
   ]
  },
  {
   "cell_type": "code",
   "execution_count": 4,
   "metadata": {
    "collapsed": false
   },
   "outputs": [
    {
     "name": "stdout",
     "output_type": "stream",
     "text": [
      "TRAIN indices: [ 4  1 13 12  6 10  2 15 17  8 11 19  7] TEST indices: [18 14  3 16  5  0  9]\n",
      "TRAIN indices: [ 2 18  1 10  4 16 12  9 13  6  8 14  5] TEST indices: [19 17  3  7  0 15 11]\n"
     ]
    }
   ],
   "source": [
    "for train_index, test_index in sss:\n",
    "    print(\"TRAIN indices:\", train_index, \"TEST indices:\", test_index)\n",
    "#...    X_train, X_test = X[train_index], X[test_index]"
   ]
  },
  {
   "cell_type": "code",
   "execution_count": 5,
   "metadata": {
    "collapsed": false
   },
   "outputs": [
    {
     "name": "stdout",
     "output_type": "stream",
     "text": [
      "[0 1 0 0 0 2 2 0 2 0 0 2 0]\n",
      "[1 2 0 0 0 2 0]\n"
     ]
    }
   ],
   "source": [
    "print(y[train_index])\n",
    "print(y[test_index])"
   ]
  },
  {
   "cell_type": "markdown",
   "metadata": {},
   "source": [
    "#### Test on Real Data"
   ]
  },
  {
   "cell_type": "code",
   "execution_count": 6,
   "metadata": {
    "collapsed": false
   },
   "outputs": [],
   "source": [
    "# Test on real data\n",
    "import pandas as pd\n",
    "features_df = pd.DataFrame.from_csv(\"well_data.csv\") # features data\n",
    "labels_df   = pd.DataFrame.from_csv(\"well_labels.csv\") # labels"
   ]
  },
  {
   "cell_type": "code",
   "execution_count": 7,
   "metadata": {
    "collapsed": false
   },
   "outputs": [
    {
     "name": "stdout",
     "output_type": "stream",
     "text": [
      "       status_group\n",
      "id                 \n",
      "69572             2\n",
      "8776              2\n",
      "34310             2\n",
      "67743             0\n",
      "19728             2\n"
     ]
    }
   ],
   "source": [
    "#function to map the labels from string to ints\n",
    "def label_map(y):\n",
    "   if y==\"functional\":\n",
    "       return 2\n",
    "   elif y==\"functional needs repair\":\n",
    "       return 1\n",
    "   else:\n",
    "       return 0\n",
    "labels_df = labels_df.applymap(label_map) # map labels\n",
    "#test\n",
    "print( labels_df.head() )"
   ]
  },
  {
   "cell_type": "code",
   "execution_count": 8,
   "metadata": {
    "collapsed": false
   },
   "outputs": [
    {
     "data": {
      "text/plain": [
       "array([2, 0, 1])"
      ]
     },
     "execution_count": 8,
     "metadata": {},
     "output_type": "execute_result"
    }
   ],
   "source": [
    "# Check that the labels have been encoded to ints 0,1,2\n",
    "labels_df['status_group'].unique()"
   ]
  },
  {
   "cell_type": "code",
   "execution_count": 9,
   "metadata": {
    "collapsed": true
   },
   "outputs": [],
   "source": [
    "# NOTE the data prep is ommited - droping columns, string encoding and OHE\n",
    "# Can't use the data as is in ML algo\n",
    "\n",
    "# The features and labels are taken out of their dataframe\n",
    "# and put into a numpy.ndarray and list, respectively.\n",
    "X = features_df.as_matrix()\n",
    "y = labels_df[\"status_group\"]# .tolist()"
   ]
  },
  {
   "cell_type": "code",
   "execution_count": 10,
   "metadata": {
    "collapsed": false
   },
   "outputs": [
    {
     "name": "stdout",
     "output_type": "stream",
     "text": [
      "TRAIN: [56033 42149 50644 ..., 23965 52811 37112] TEST: [52237  4107 28169 ..., 54782  2110  3833]\n",
      "TRAIN: [31788 54920  3600 ..., 37340 40168 39623] TEST: [21495  5759  4607 ..., 28518   447 26835]\n"
     ]
    }
   ],
   "source": [
    "# Data setup\n",
    "#X_train, X_test, y_train, y_test = sklearn.cross_validation.train_test_split(X, y, test_size=0.33, random_state=42)\n",
    "\n",
    "#sss = StratifiedShuffleSplit(y, 3, test_size=0.5, random_state=0)\n",
    "#X_train, X_test, y_train, y_test = StratifiedShuffleSplit(X, y, test_size=0.33, random_state=42)\n",
    "\n",
    "sss = StratifiedShuffleSplit(y,2, test_size=0.2, random_state=42)\n",
    "for train_index, test_index in sss:\n",
    "    print(\"TRAIN:\", train_index, \"TEST:\", test_index)\n",
    "    #X_train, X_test = X[train_index], X[test_index]\n",
    "    #y_train, y_test = y[train_index], y[test_index]"
   ]
  },
  {
   "cell_type": "code",
   "execution_count": 11,
   "metadata": {
    "collapsed": false
   },
   "outputs": [
    {
     "name": "stdout",
     "output_type": "stream",
     "text": [
      "Training n: 47520\n",
      "Test n: 11880\n"
     ]
    }
   ],
   "source": [
    "print ('Training n: ' + str(len(train_index)))\n",
    "print ('Test n: ' + str(len(test_index)))"
   ]
  },
  {
   "cell_type": "code",
   "execution_count": 12,
   "metadata": {
    "collapsed": false
   },
   "outputs": [
    {
     "name": "stdout",
     "output_type": "stream",
     "text": [
      "0.25\n"
     ]
    }
   ],
   "source": [
    "test_proportion = len(test_index) / len(train_index)\n",
    "print(test_proportion)"
   ]
  },
  {
   "cell_type": "code",
   "execution_count": 13,
   "metadata": {
    "collapsed": false
   },
   "outputs": [],
   "source": [
    "#y[test_index] # <- NaNs in here are I guess the training data\n",
    "test_label_df = pd.DataFrame(y[test_index], columns=['labels'])"
   ]
  },
  {
   "cell_type": "markdown",
   "metadata": {},
   "source": [
    "Check the proportions of labels in % the training set"
   ]
  },
  {
   "cell_type": "code",
   "execution_count": 14,
   "metadata": {
    "collapsed": false
   },
   "outputs": [
    {
     "data": {
      "text/plain": [
       "status_group\n",
       "0    30.677609\n",
       "1     5.784933\n",
       "2    43.396465\n",
       "dtype: float64"
      ]
     },
     "execution_count": 14,
     "metadata": {},
     "output_type": "execute_result"
    }
   ],
   "source": [
    "train0 = y[train_index]\n",
    "train0 = train0.to_frame()\n",
    "train0.groupby('status_group').size() * 100 / len(train_index)"
   ]
  },
  {
   "cell_type": "markdown",
   "metadata": {},
   "source": [
    "Check the proportions in % of labels in the test set"
   ]
  },
  {
   "cell_type": "code",
   "execution_count": 15,
   "metadata": {
    "collapsed": false
   },
   "outputs": [
    {
     "data": {
      "text/plain": [
       "status_group\n",
       "0    30.808081\n",
       "1     6.153199\n",
       "2    43.367003\n",
       "dtype: float64"
      ]
     },
     "execution_count": 15,
     "metadata": {},
     "output_type": "execute_result"
    }
   ],
   "source": [
    "test0 = y[test_index]\n",
    "test0 = test0.to_frame()\n",
    "test0.groupby('status_group').size() * 100 / len(test_index)"
   ]
  },
  {
   "cell_type": "code",
   "execution_count": null,
   "metadata": {
    "collapsed": true
   },
   "outputs": [],
   "source": []
  }
 ],
 "metadata": {
  "kernelspec": {
   "display_name": "Python 3",
   "language": "python",
   "name": "python3"
  },
  "language_info": {
   "codemirror_mode": {
    "name": "ipython",
    "version": 3
   },
   "file_extension": ".py",
   "mimetype": "text/x-python",
   "name": "python",
   "nbconvert_exporter": "python",
   "pygments_lexer": "ipython3",
   "version": "3.4.5"
  }
 },
 "nbformat": 4,
 "nbformat_minor": 0
}
