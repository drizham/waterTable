{
 "cells": [
  {
   "cell_type": "markdown",
   "metadata": {},
   "source": [
    "### Minimal Manipulation to Get a Machine Learning Pipeline Running"
   ]
  },
  {
   "cell_type": "markdown",
   "metadata": {},
   "source": [
    "Notebook inspired by: https://civisanalytics.com/blog/data-science/2015/12/17/workflows-in-python-getting-data-ready-to-build-models/"
   ]
  },
  {
   "cell_type": "markdown",
   "metadata": {},
   "source": [
    "Data source: https://www.drivendata.org/competitions/7/page/25/"
   ]
  },
  {
   "cell_type": "markdown",
   "metadata": {},
   "source": [
    "<ol>\n",
    "<li>Load the features and label data *.csv files as pandas dataframes</li>\n",
    "<li>Map target label from string to int</li>\n",
    "<li>steps</li>\n",
    "</ol>"
   ]
  },
  {
   "cell_type": "markdown",
   "metadata": {},
   "source": [
    "Load data as dataframes"
   ]
  },
  {
   "cell_type": "code",
   "execution_count": 14,
   "metadata": {
    "collapsed": false
   },
   "outputs": [
    {
     "name": "stdout",
     "output_type": "stream",
     "text": [
      "         status_group\n",
      "id                   \n",
      "69572      functional\n",
      "8776       functional\n",
      "34310      functional\n",
      "67743  non functional\n"
     ]
    }
   ],
   "source": [
    "import pandas as pd\n",
    "import numpy as np\n",
    "\n",
    "features_df = pd.DataFrame.from_csv(\"well_data.csv\")   # features data\n",
    "labels_df   = pd.DataFrame.from_csv(\"well_labels.csv\") # labels\n",
    "print( labels_df.head(4) )"
   ]
  },
  {
   "cell_type": "markdown",
   "metadata": {},
   "source": [
    "There are three target well labels in the data\n",
    "<ol>\n",
    "<li>functional</li>\n",
    "<li>non functional</li>\n",
    "<li>functional needs repair</li>\n",
    "</ol>"
   ]
  },
  {
   "cell_type": "code",
   "execution_count": 15,
   "metadata": {
    "collapsed": false
   },
   "outputs": [
    {
     "name": "stdout",
     "output_type": "stream",
     "text": [
      "functional\n",
      "non functional\n",
      "functional needs repair\n"
     ]
    }
   ],
   "source": [
    "for x in labels_df['status_group'].unique():  #list all the unique entries of the labels\n",
    "    print (x)"
   ]
  },
  {
   "cell_type": "markdown",
   "metadata": {},
   "source": [
    "The target variable must be mapped from string labels to integers (a scikit learn requirement), e.g. 'functional' maps to 2 "
   ]
  },
  {
   "cell_type": "code",
   "execution_count": 16,
   "metadata": {
    "collapsed": false
   },
   "outputs": [
    {
     "name": "stdout",
     "output_type": "stream",
     "text": [
      "       status_group\n",
      "id                 \n",
      "69572             2\n",
      "8776              2\n",
      "34310             2\n",
      "67743             0\n",
      "19728             2\n"
     ]
    }
   ],
   "source": [
    "#function to map the labels from string to ints\n",
    "#read a string and maps it to one of three integer values 0, 1 & 2\n",
    "def label_map(y):\n",
    "   if y==\"functional\":\n",
    "       return 2\n",
    "   elif y==\"functional needs repair\":\n",
    "       return 1\n",
    "   else:\n",
    "       return 0\n",
    "labels_df = labels_df.applymap(label_map) # map labels\n",
    "\n",
    "#test\n",
    "print( labels_df.head() )"
   ]
  },
  {
   "cell_type": "code",
   "execution_count": 17,
   "metadata": {
    "collapsed": false
   },
   "outputs": [
    {
     "name": "stdout",
     "output_type": "stream",
     "text": [
      "2\n",
      "0\n",
      "1\n"
     ]
    }
   ],
   "source": [
    "# Check that the labels have been encoded to ints 0,1,2\n",
    "for x in labels_df['status_group'].unique():\n",
    "    print (x)"
   ]
  },
  {
   "cell_type": "markdown",
   "metadata": {},
   "source": [
    "Check the distribution of the targets - the sub populations are varied"
   ]
  },
  {
   "cell_type": "code",
   "execution_count": 22,
   "metadata": {
    "collapsed": false
   },
   "outputs": [
    {
     "name": "stdout",
     "output_type": "stream",
     "text": [
      "status_group\n",
      "0    22824\n",
      "1     4317\n",
      "2    32259\n",
      "dtype: int64\n"
     ]
    },
    {
     "data": {
      "image/png": "[encoded data removed]",
      "text/plain": [
       "<matplotlib.figure.Figure at 0x10949ffd0>"
      ]
     },
     "metadata": {},
     "output_type": "display_data"
    }
   ],
   "source": [
    "import matplotlib.pyplot as plt\n",
    "%matplotlib inline\n",
    "plt.hist(labels_df['status_group'])\n",
    "print(labels_df.groupby('status_group').size())"
   ]
  },
  {
   "cell_type": "markdown",
   "metadata": {},
   "source": [
    "Peek at the features data frame, they are a mix of categorical and non categorical data"
   ]
  },
  {
   "cell_type": "code",
   "execution_count": 6,
   "metadata": {
    "collapsed": false
   },
   "outputs": [
    {
     "data": {
      "text/html": [
       "<div>\n",
       "<table border=\"1\" class=\"dataframe\">\n",
       "  <thead>\n",
       "    <tr style=\"text-align: right;\">\n",
       "      <th></th>\n",
       "      <th>amount_tsh</th>\n",
       "      <th>date_recorded</th>\n",
       "      <th>funder</th>\n",
       "      <th>gps_height</th>\n",
       "      <th>installer</th>\n",
       "      <th>longitude</th>\n",
       "      <th>latitude</th>\n",
       "      <th>wpt_name</th>\n",
       "      <th>num_private</th>\n",
       "      <th>basin</th>\n",
       "      <th>...</th>\n",
       "      <th>payment_type</th>\n",
       "      <th>water_quality</th>\n",
       "      <th>quality_group</th>\n",
       "      <th>quantity</th>\n",
       "      <th>quantity_group</th>\n",
       "      <th>source</th>\n",
       "      <th>source_type</th>\n",
       "      <th>source_class</th>\n",
       "      <th>waterpoint_type</th>\n",
       "      <th>waterpoint_type_group</th>\n",
       "    </tr>\n",
       "    <tr>\n",
       "      <th>id</th>\n",
       "      <th></th>\n",
       "      <th></th>\n",
       "      <th></th>\n",
       "      <th></th>\n",
       "      <th></th>\n",
       "      <th></th>\n",
       "      <th></th>\n",
       "      <th></th>\n",
       "      <th></th>\n",
       "      <th></th>\n",
       "      <th></th>\n",
       "      <th></th>\n",
       "      <th></th>\n",
       "      <th></th>\n",
       "      <th></th>\n",
       "      <th></th>\n",
       "      <th></th>\n",
       "      <th></th>\n",
       "      <th></th>\n",
       "      <th></th>\n",
       "      <th></th>\n",
       "    </tr>\n",
       "  </thead>\n",
       "  <tbody>\n",
       "    <tr>\n",
       "      <th>69572</th>\n",
       "      <td>6000</td>\n",
       "      <td>2011-03-14</td>\n",
       "      <td>Roman</td>\n",
       "      <td>1390</td>\n",
       "      <td>Roman</td>\n",
       "      <td>34.938093</td>\n",
       "      <td>-9.856322</td>\n",
       "      <td>none</td>\n",
       "      <td>0</td>\n",
       "      <td>Lake Nyasa</td>\n",
       "      <td>...</td>\n",
       "      <td>annually</td>\n",
       "      <td>soft</td>\n",
       "      <td>good</td>\n",
       "      <td>enough</td>\n",
       "      <td>enough</td>\n",
       "      <td>spring</td>\n",
       "      <td>spring</td>\n",
       "      <td>groundwater</td>\n",
       "      <td>communal standpipe</td>\n",
       "      <td>communal standpipe</td>\n",
       "    </tr>\n",
       "    <tr>\n",
       "      <th>8776</th>\n",
       "      <td>0</td>\n",
       "      <td>2013-03-06</td>\n",
       "      <td>Grumeti</td>\n",
       "      <td>1399</td>\n",
       "      <td>GRUMETI</td>\n",
       "      <td>34.698766</td>\n",
       "      <td>-2.147466</td>\n",
       "      <td>Zahanati</td>\n",
       "      <td>0</td>\n",
       "      <td>Lake Victoria</td>\n",
       "      <td>...</td>\n",
       "      <td>never pay</td>\n",
       "      <td>soft</td>\n",
       "      <td>good</td>\n",
       "      <td>insufficient</td>\n",
       "      <td>insufficient</td>\n",
       "      <td>rainwater harvesting</td>\n",
       "      <td>rainwater harvesting</td>\n",
       "      <td>surface</td>\n",
       "      <td>communal standpipe</td>\n",
       "      <td>communal standpipe</td>\n",
       "    </tr>\n",
       "  </tbody>\n",
       "</table>\n",
       "<p>2 rows × 39 columns</p>\n",
       "</div>"
      ],
      "text/plain": [
       "       amount_tsh date_recorded   funder  gps_height installer  longitude  \\\n",
       "id                                                                          \n",
       "69572        6000    2011-03-14    Roman        1390     Roman  34.938093   \n",
       "8776            0    2013-03-06  Grumeti        1399   GRUMETI  34.698766   \n",
       "\n",
       "       latitude  wpt_name  num_private          basin          ...           \\\n",
       "id                                                             ...            \n",
       "69572 -9.856322      none            0     Lake Nyasa          ...            \n",
       "8776  -2.147466  Zahanati            0  Lake Victoria          ...            \n",
       "\n",
       "      payment_type water_quality  quality_group      quantity quantity_group  \\\n",
       "id                                                                             \n",
       "69572     annually          soft           good        enough         enough   \n",
       "8776     never pay          soft           good  insufficient   insufficient   \n",
       "\n",
       "                     source           source_type source_class  \\\n",
       "id                                                               \n",
       "69572                spring                spring  groundwater   \n",
       "8776   rainwater harvesting  rainwater harvesting      surface   \n",
       "\n",
       "          waterpoint_type waterpoint_type_group  \n",
       "id                                               \n",
       "69572  communal standpipe    communal standpipe  \n",
       "8776   communal standpipe    communal standpipe  \n",
       "\n",
       "[2 rows x 39 columns]"
      ]
     },
     "execution_count": 6,
     "metadata": {},
     "output_type": "execute_result"
    }
   ],
   "source": [
    "features_df.head(2)"
   ]
  },
  {
   "cell_type": "markdown",
   "metadata": {},
   "source": [
    "There are categorical variables in the dataset but on a first pass, only look at the continous variables"
   ]
  },
  {
   "cell_type": "code",
   "execution_count": 24,
   "metadata": {
    "collapsed": false
   },
   "outputs": [
    {
     "data": {
      "text/html": [
       "<div>\n",
       "<table border=\"1\" class=\"dataframe\">\n",
       "  <thead>\n",
       "    <tr style=\"text-align: right;\">\n",
       "      <th></th>\n",
       "      <th>amount_tsh</th>\n",
       "      <th>gps_height</th>\n",
       "      <th>longitude</th>\n",
       "      <th>latitude</th>\n",
       "      <th>num_private</th>\n",
       "      <th>region_code</th>\n",
       "      <th>district_code</th>\n",
       "      <th>population</th>\n",
       "      <th>construction_year</th>\n",
       "    </tr>\n",
       "  </thead>\n",
       "  <tbody>\n",
       "    <tr>\n",
       "      <th>count</th>\n",
       "      <td>59400.000000</td>\n",
       "      <td>59400.000000</td>\n",
       "      <td>59400.000000</td>\n",
       "      <td>5.940000e+04</td>\n",
       "      <td>59400.000000</td>\n",
       "      <td>59400.000000</td>\n",
       "      <td>59400.000000</td>\n",
       "      <td>59400.000000</td>\n",
       "      <td>59400.000000</td>\n",
       "    </tr>\n",
       "    <tr>\n",
       "      <th>mean</th>\n",
       "      <td>317.650385</td>\n",
       "      <td>668.297239</td>\n",
       "      <td>34.077427</td>\n",
       "      <td>-5.706033e+00</td>\n",
       "      <td>0.474141</td>\n",
       "      <td>15.297003</td>\n",
       "      <td>5.629747</td>\n",
       "      <td>179.909983</td>\n",
       "      <td>1300.652475</td>\n",
       "    </tr>\n",
       "    <tr>\n",
       "      <th>std</th>\n",
       "      <td>2997.574558</td>\n",
       "      <td>693.116350</td>\n",
       "      <td>6.567432</td>\n",
       "      <td>2.946019e+00</td>\n",
       "      <td>12.236230</td>\n",
       "      <td>17.587406</td>\n",
       "      <td>9.633649</td>\n",
       "      <td>471.482176</td>\n",
       "      <td>951.620547</td>\n",
       "    </tr>\n",
       "    <tr>\n",
       "      <th>min</th>\n",
       "      <td>0.000000</td>\n",
       "      <td>-90.000000</td>\n",
       "      <td>0.000000</td>\n",
       "      <td>-1.164944e+01</td>\n",
       "      <td>0.000000</td>\n",
       "      <td>1.000000</td>\n",
       "      <td>0.000000</td>\n",
       "      <td>0.000000</td>\n",
       "      <td>0.000000</td>\n",
       "    </tr>\n",
       "    <tr>\n",
       "      <th>25%</th>\n",
       "      <td>0.000000</td>\n",
       "      <td>0.000000</td>\n",
       "      <td>33.090347</td>\n",
       "      <td>-8.540621e+00</td>\n",
       "      <td>0.000000</td>\n",
       "      <td>5.000000</td>\n",
       "      <td>2.000000</td>\n",
       "      <td>0.000000</td>\n",
       "      <td>0.000000</td>\n",
       "    </tr>\n",
       "    <tr>\n",
       "      <th>50%</th>\n",
       "      <td>0.000000</td>\n",
       "      <td>369.000000</td>\n",
       "      <td>34.908743</td>\n",
       "      <td>-5.021597e+00</td>\n",
       "      <td>0.000000</td>\n",
       "      <td>12.000000</td>\n",
       "      <td>3.000000</td>\n",
       "      <td>25.000000</td>\n",
       "      <td>1986.000000</td>\n",
       "    </tr>\n",
       "    <tr>\n",
       "      <th>75%</th>\n",
       "      <td>20.000000</td>\n",
       "      <td>1319.250000</td>\n",
       "      <td>37.178387</td>\n",
       "      <td>-3.326156e+00</td>\n",
       "      <td>0.000000</td>\n",
       "      <td>17.000000</td>\n",
       "      <td>5.000000</td>\n",
       "      <td>215.000000</td>\n",
       "      <td>2004.000000</td>\n",
       "    </tr>\n",
       "    <tr>\n",
       "      <th>max</th>\n",
       "      <td>350000.000000</td>\n",
       "      <td>2770.000000</td>\n",
       "      <td>40.345193</td>\n",
       "      <td>-2.000000e-08</td>\n",
       "      <td>1776.000000</td>\n",
       "      <td>99.000000</td>\n",
       "      <td>80.000000</td>\n",
       "      <td>30500.000000</td>\n",
       "      <td>2013.000000</td>\n",
       "    </tr>\n",
       "  </tbody>\n",
       "</table>\n",
       "</div>"
      ],
      "text/plain": [
       "          amount_tsh    gps_height     longitude      latitude   num_private  \\\n",
       "count   59400.000000  59400.000000  59400.000000  5.940000e+04  59400.000000   \n",
       "mean      317.650385    668.297239     34.077427 -5.706033e+00      0.474141   \n",
       "std      2997.574558    693.116350      6.567432  2.946019e+00     12.236230   \n",
       "min         0.000000    -90.000000      0.000000 -1.164944e+01      0.000000   \n",
       "25%         0.000000      0.000000     33.090347 -8.540621e+00      0.000000   \n",
       "50%         0.000000    369.000000     34.908743 -5.021597e+00      0.000000   \n",
       "75%        20.000000   1319.250000     37.178387 -3.326156e+00      0.000000   \n",
       "max    350000.000000   2770.000000     40.345193 -2.000000e-08   1776.000000   \n",
       "\n",
       "        region_code  district_code    population  construction_year  \n",
       "count  59400.000000   59400.000000  59400.000000       59400.000000  \n",
       "mean      15.297003       5.629747    179.909983        1300.652475  \n",
       "std       17.587406       9.633649    471.482176         951.620547  \n",
       "min        1.000000       0.000000      0.000000           0.000000  \n",
       "25%        5.000000       2.000000      0.000000           0.000000  \n",
       "50%       12.000000       3.000000     25.000000        1986.000000  \n",
       "75%       17.000000       5.000000    215.000000        2004.000000  \n",
       "max       99.000000      80.000000  30500.000000        2013.000000  "
      ]
     },
     "execution_count": 24,
     "metadata": {},
     "output_type": "execute_result"
    }
   ],
   "source": [
    "features_df.describe()"
   ]
  },
  {
   "cell_type": "code",
   "execution_count": 38,
   "metadata": {
    "collapsed": false
   },
   "outputs": [],
   "source": [
    "#features_df.columns.map(lambda x: print(x)) # one way of printing the list of features line by line\n",
    "#features_df.columns"
   ]
  },
  {
   "cell_type": "code",
   "execution_count": 27,
   "metadata": {
    "collapsed": false
   },
   "outputs": [
    {
     "data": {
      "text/html": [
       "<div>\n",
       "<table border=\"1\" class=\"dataframe\">\n",
       "  <thead>\n",
       "    <tr style=\"text-align: right;\">\n",
       "      <th></th>\n",
       "      <th>amount_tsh</th>\n",
       "      <th>gps_height</th>\n",
       "      <th>longitude</th>\n",
       "      <th>latitude</th>\n",
       "      <th>num_private</th>\n",
       "      <th>region_code</th>\n",
       "      <th>district_code</th>\n",
       "      <th>population</th>\n",
       "      <th>construction_year</th>\n",
       "    </tr>\n",
       "    <tr>\n",
       "      <th>id</th>\n",
       "      <th></th>\n",
       "      <th></th>\n",
       "      <th></th>\n",
       "      <th></th>\n",
       "      <th></th>\n",
       "      <th></th>\n",
       "      <th></th>\n",
       "      <th></th>\n",
       "      <th></th>\n",
       "    </tr>\n",
       "  </thead>\n",
       "  <tbody>\n",
       "    <tr>\n",
       "      <th>69572</th>\n",
       "      <td>6000</td>\n",
       "      <td>1390</td>\n",
       "      <td>34.938093</td>\n",
       "      <td>-9.856322</td>\n",
       "      <td>0</td>\n",
       "      <td>11</td>\n",
       "      <td>5</td>\n",
       "      <td>109</td>\n",
       "      <td>1999</td>\n",
       "    </tr>\n",
       "    <tr>\n",
       "      <th>8776</th>\n",
       "      <td>0</td>\n",
       "      <td>1399</td>\n",
       "      <td>34.698766</td>\n",
       "      <td>-2.147466</td>\n",
       "      <td>0</td>\n",
       "      <td>20</td>\n",
       "      <td>2</td>\n",
       "      <td>280</td>\n",
       "      <td>2010</td>\n",
       "    </tr>\n",
       "    <tr>\n",
       "      <th>34310</th>\n",
       "      <td>25</td>\n",
       "      <td>686</td>\n",
       "      <td>37.460664</td>\n",
       "      <td>-3.821329</td>\n",
       "      <td>0</td>\n",
       "      <td>21</td>\n",
       "      <td>4</td>\n",
       "      <td>250</td>\n",
       "      <td>2009</td>\n",
       "    </tr>\n",
       "    <tr>\n",
       "      <th>67743</th>\n",
       "      <td>0</td>\n",
       "      <td>263</td>\n",
       "      <td>38.486161</td>\n",
       "      <td>-11.155298</td>\n",
       "      <td>0</td>\n",
       "      <td>90</td>\n",
       "      <td>63</td>\n",
       "      <td>58</td>\n",
       "      <td>1986</td>\n",
       "    </tr>\n",
       "    <tr>\n",
       "      <th>19728</th>\n",
       "      <td>0</td>\n",
       "      <td>0</td>\n",
       "      <td>31.130847</td>\n",
       "      <td>-1.825359</td>\n",
       "      <td>0</td>\n",
       "      <td>18</td>\n",
       "      <td>1</td>\n",
       "      <td>0</td>\n",
       "      <td>0</td>\n",
       "    </tr>\n",
       "  </tbody>\n",
       "</table>\n",
       "</div>"
      ],
      "text/plain": [
       "       amount_tsh  gps_height  longitude   latitude  num_private  region_code  \\\n",
       "id                                                                              \n",
       "69572        6000        1390  34.938093  -9.856322            0           11   \n",
       "8776            0        1399  34.698766  -2.147466            0           20   \n",
       "34310          25         686  37.460664  -3.821329            0           21   \n",
       "67743           0         263  38.486161 -11.155298            0           90   \n",
       "19728           0           0  31.130847  -1.825359            0           18   \n",
       "\n",
       "       district_code  population  construction_year  \n",
       "id                                                   \n",
       "69572              5         109               1999  \n",
       "8776               2         280               2010  \n",
       "34310              4         250               2009  \n",
       "67743             63          58               1986  \n",
       "19728              1           0                  0  "
      ]
     },
     "execution_count": 27,
     "metadata": {},
     "output_type": "execute_result"
    }
   ],
   "source": [
    "# Get just the numeric variables by selecting only the variables that are not \"object\" datatypes.\n",
    "numeric_variables = list(features_df.dtypes[features_df.dtypes != \"object\"].index)\n",
    "features_df[numeric_variables].head()"
   ]
  },
  {
   "cell_type": "markdown",
   "metadata": {},
   "source": [
    "### Run Bare Metal Random Forest Classifier with Continuous Variables Only"
   ]
  },
  {
   "cell_type": "code",
   "execution_count": 41,
   "metadata": {
    "collapsed": true
   },
   "outputs": [],
   "source": [
    "# Continuous Data for bare metal ML\n",
    "X_numeric = features_df[numeric_variables]\n",
    "y = labels_df['status_group'].tolist()"
   ]
  },
  {
   "cell_type": "code",
   "execution_count": 42,
   "metadata": {
    "collapsed": false
   },
   "outputs": [
    {
     "name": "stdout",
     "output_type": "stream",
     "text": [
      "[ 0.71479798  0.7180303   0.70858586]\n"
     ]
    }
   ],
   "source": [
    "import sklearn\n",
    "clf = sklearn.ensemble.RandomForestClassifier(n_estimators=100, oob_score=True, random_state=42)\n",
    "score = sklearn.cross_validation.cross_val_score( clf, X_numeric, y )\n",
    "print( score )"
   ]
  },
  {
   "cell_type": "markdown",
   "metadata": {},
   "source": [
    "### Stratified Shuffle Split Sample\n",
    "Prepare stratified, shuffled and split data for the pipeline"
   ]
  },
  {
   "cell_type": "code",
   "execution_count": 57,
   "metadata": {
    "collapsed": false
   },
   "outputs": [
    {
     "name": "stdout",
     "output_type": "stream",
     "text": [
      "TRAIN indices: [56033 42149 50644 ..., 23965 52811 37112] TEST indices: [52237  4107 28169 ..., 54782  2110  3833]\n"
     ]
    }
   ],
   "source": [
    "from sklearn.cross_validation import StratifiedShuffleSplit\n",
    "test_proportion = 0.2 # proportion of data to be held out for testing\n",
    "seed = 42 # random state seed\n",
    "numtests = 1 # number of split sets to generate\n",
    "sss = StratifiedShuffleSplit(y,numtests, test_size=test_proportion, random_state=seed)\n",
    "for train_index, test_index in sss:\n",
    "    print(\"TRAIN indices:\", train_index, \"TEST indices:\", test_index)"
   ]
  },
  {
   "cell_type": "markdown",
   "metadata": {},
   "source": [
    "How the train and test data have been split"
   ]
  },
  {
   "cell_type": "code",
   "execution_count": 45,
   "metadata": {
    "collapsed": false
   },
   "outputs": [
    {
     "name": "stdout",
     "output_type": "stream",
     "text": [
      "47520\n",
      "11880\n",
      "59400\n"
     ]
    }
   ],
   "source": [
    "print(len(train_index))\n",
    "print(len(test_index))\n",
    "print(len(train_index) + len(test_index))"
   ]
  },
  {
   "cell_type": "markdown",
   "metadata": {},
   "source": [
    "Create the stratified training and testing data"
   ]
  },
  {
   "cell_type": "code",
   "execution_count": 58,
   "metadata": {
    "collapsed": false
   },
   "outputs": [],
   "source": [
    "X_numeric_train = X_numeric.iloc[train_index,]\n",
    "X_numeric_test = X_numeric.iloc[test_index,]\n",
    "y_test = labels_df.iloc[test_index] # iloc does not give those spurious NaNs\n",
    "y_test = y_test['status_group'].tolist()\n",
    "y_train = labels_df.iloc[train_index]\n",
    "y_train = y_train['status_group'].tolist()"
   ]
  },
  {
   "cell_type": "markdown",
   "metadata": {},
   "source": [
    "### Setup Basic Pipeline"
   ]
  },
  {
   "cell_type": "code",
   "execution_count": 52,
   "metadata": {
    "collapsed": true
   },
   "outputs": [],
   "source": [
    "import sklearn.pipeline\n",
    "steps = [('random_forest', clf)] \n",
    "pipeline = sklearn.pipeline.Pipeline(steps) ## Instantiate the pipeline\n",
    "clf = sklearn.ensemble.RandomForestClassifier()"
   ]
  },
  {
   "cell_type": "markdown",
   "metadata": {},
   "source": [
    "### Setup Grid Search & Run the Algo"
   ]
  },
  {
   "cell_type": "code",
   "execution_count": 56,
   "metadata": {
    "collapsed": false
   },
   "outputs": [
    {
     "name": "stdout",
     "output_type": "stream",
     "text": [
      "             precision    recall  f1-score   support\n",
      "\n",
      "          0       0.73      0.67      0.70      4565\n",
      "          1       0.67      0.19      0.30       863\n",
      "          2       0.73      0.85      0.78      6452\n",
      "\n",
      "avg / total       0.73      0.73      0.72     11880\n",
      "\n"
     ]
    }
   ],
   "source": [
    "import sklearn.grid_search\n",
    "\n",
    "parameters = dict(random_forest__min_samples_split=[5, 10], # [2, 3, 4, 5, 10]\n",
    "              random_forest__min_samples_leaf = [5, 10],\n",
    "              random_forest__n_estimators = [100, 200]) # the number of trees\n",
    "\n",
    "cv = sklearn.grid_search.GridSearchCV(pipeline, param_grid=parameters)\n",
    "\n",
    "cv.fit(X_numeric_train, y_train)\n",
    "y_predictions = cv.predict(X_numeric_test)\n",
    "report = sklearn.metrics.classification_report( y_test, y_predictions )\n",
    "print(report)"
   ]
  },
  {
   "cell_type": "markdown",
   "metadata": {},
   "source": [
    "With the minimal model completed we can move to model the data with the categorical data included"
   ]
  },
  {
   "cell_type": "markdown",
   "metadata": {},
   "source": [
    "### xxx"
   ]
  },
  {
   "cell_type": "code",
   "execution_count": null,
   "metadata": {
    "collapsed": true
   },
   "outputs": [],
   "source": []
  },
  {
   "cell_type": "code",
   "execution_count": null,
   "metadata": {
    "collapsed": true
   },
   "outputs": [],
   "source": []
  },
  {
   "cell_type": "code",
   "execution_count": null,
   "metadata": {
    "collapsed": true
   },
   "outputs": [],
   "source": []
  },
  {
   "cell_type": "code",
   "execution_count": null,
   "metadata": {
    "collapsed": true
   },
   "outputs": [],
   "source": []
  },
  {
   "cell_type": "code",
   "execution_count": null,
   "metadata": {
    "collapsed": true
   },
   "outputs": [],
   "source": []
  },
  {
   "cell_type": "code",
   "execution_count": 8,
   "metadata": {
    "collapsed": false
   },
   "outputs": [],
   "source": [
    "#set(features_df['funder'].tolist()) # to find all the unique entries in a column\n",
    "## example to show how dictionay is populated\n",
    "#unique_values = np.array(['zack', 'happy', 'funny', 'panda']).tolist()\n",
    "#unique_values\n",
    "#transformer_dict = {}\n",
    "#for ii, value in enumerate(unique_values):\n",
    "#    transformer_dict[value] = ii"
   ]
  },
  {
   "cell_type": "code",
   "execution_count": 9,
   "metadata": {
    "collapsed": false
   },
   "outputs": [
    {
     "name": "stdout",
     "output_type": "stream",
     "text": [
      "       amount_tsh date_recorded  funder  gps_height  installer  longitude  \\\n",
      "id                                                                          \n",
      "69572        6000    2011-03-14     842        1390        944  34.938093   \n",
      "8776            0    2013-03-06    1121        1399        120  34.698766   \n",
      "34310          25    2013-02-25    1153         686          4  37.460664   \n",
      "67743           0    2013-01-28    1039         263         82  38.486161   \n",
      "19728           0    2011-07-13    1247           0       1563  31.130847   \n",
      "\n",
      "        latitude  wpt_name  num_private  basin          ...            \\\n",
      "id                                                      ...             \n",
      "69572  -9.856322     34729            0      5          ...             \n",
      "8776   -2.147466     24432            0      7          ...             \n",
      "34310  -3.821329      5537            0      0          ...             \n",
      "67743 -11.155298      5228            0      4          ...             \n",
      "19728  -1.825359     19844            0      7          ...             \n",
      "\n",
      "       payment_type  water_quality  quality_group  quantity  quantity_group  \\\n",
      "id                                                                            \n",
      "69572             6              1              4         2               2   \n",
      "8776              4              1              4         0               0   \n",
      "34310             3              1              4         2               2   \n",
      "67743             4              1              4         3               3   \n",
      "19728             4              1              4         4               4   \n",
      "\n",
      "       source  source_type  source_class  waterpoint_type  \\\n",
      "id                                                          \n",
      "69572       6            5             2                1   \n",
      "8776        7            6             1                1   \n",
      "34310       5            4             1                3   \n",
      "67743       0            2             2                3   \n",
      "19728       7            6             1                1   \n",
      "\n",
      "       waterpoint_type_group  \n",
      "id                            \n",
      "69572                      1  \n",
      "8776                       1  \n",
      "34310                      1  \n",
      "67743                      1  \n",
      "19728                      1  \n",
      "\n",
      "[5 rows x 39 columns]\n"
     ]
    }
   ],
   "source": [
    "# This transforms the categorical features into ints\n",
    "# NOTE: This is NOT one-hot-encoding\n",
    "def transform_feature( df, column_name ):\n",
    "    \n",
    "    unique_values = set( df[column_name].tolist() ) # find unique entries in column\n",
    "    # init dict & populate dic, assign int to each elem in unique_values\n",
    "    transformer_dict = {}\n",
    "    for ii, value in enumerate(unique_values):\n",
    "        transformer_dict[value] = ii\n",
    "\n",
    "    def label_map(y):\n",
    "        return transformer_dict[y]\n",
    "    df[column_name] = df[column_name].apply( label_map )\n",
    "    return df\n",
    "\n",
    "### list of column names indicating which columns to transform; \n",
    "### this is just a start!  Use some of the print( labels_df.head() )\n",
    "### output upstream to help you decide which columns get the\n",
    "### transformation\n",
    "names_of_columns_to_transform = [\"funder\", \"installer\", \"wpt_name\", \"basin\", \"subvillage\",\n",
    "                    \"region\", \"lga\", \"ward\", \"public_meeting\", \"recorded_by\",\n",
    "                    \"scheme_management\", \"scheme_name\", \"permit\",\n",
    "                    \"extraction_type\", \"extraction_type_group\",\n",
    "                    \"extraction_type_class\",\n",
    "                    \"management\", \"management_group\",\n",
    "                    \"payment\", \"payment_type\",\n",
    "                    \"water_quality\", \"quality_group\", \"quantity\", \"quantity_group\",\n",
    "                    \"source\", \"source_type\", \"source_class\",\n",
    "                    \"waterpoint_type\", \"waterpoint_type_group\"]\n",
    "for column in names_of_columns_to_transform:\n",
    "    features_df = transform_feature( features_df, column )\n",
    "    \n",
    "print( features_df.head() )"
   ]
  },
  {
   "cell_type": "code",
   "execution_count": 10,
   "metadata": {
    "collapsed": false
   },
   "outputs": [
    {
     "name": "stdout",
     "output_type": "stream",
     "text": [
      "['amount_tsh' 'funder' 'gps_height' 'installer' 'longitude' 'latitude'\n",
      " 'wpt_name' 'num_private' 'basin' 'subvillage' 'region' 'region_code'\n",
      " 'district_code' 'lga' 'ward' 'population' 'public_meeting' 'recorded_by'\n",
      " 'scheme_management' 'scheme_name' 'permit' 'construction_year'\n",
      " 'extraction_type' 'extraction_type_group' 'extraction_type_class'\n",
      " 'management' 'management_group' 'payment' 'payment_type' 'water_quality'\n",
      " 'quality_group' 'quantity' 'quantity_group' 'source' 'source_type'\n",
      " 'source_class' 'waterpoint_type' 'waterpoint_type_group']\n"
     ]
    }
   ],
   "source": [
    "### remove the \"date_recorded\" column--we're not going to make use\n",
    "### of time-series data today\n",
    "features_df.drop(\"date_recorded\", axis=1, inplace=True)\n",
    "\n",
    "print(features_df.columns.values)"
   ]
  },
  {
   "cell_type": "code",
   "execution_count": 11,
   "metadata": {
    "collapsed": false
   },
   "outputs": [
    {
     "data": {
      "text/html": [
       "<div>\n",
       "<table border=\"1\" class=\"dataframe\">\n",
       "  <thead>\n",
       "    <tr style=\"text-align: right;\">\n",
       "      <th></th>\n",
       "      <th>amount_tsh</th>\n",
       "      <th>funder</th>\n",
       "      <th>gps_height</th>\n",
       "      <th>installer</th>\n",
       "      <th>longitude</th>\n",
       "      <th>latitude</th>\n",
       "      <th>wpt_name</th>\n",
       "      <th>num_private</th>\n",
       "      <th>basin</th>\n",
       "      <th>subvillage</th>\n",
       "      <th>...</th>\n",
       "      <th>payment_type</th>\n",
       "      <th>water_quality</th>\n",
       "      <th>quality_group</th>\n",
       "      <th>quantity</th>\n",
       "      <th>quantity_group</th>\n",
       "      <th>source</th>\n",
       "      <th>source_type</th>\n",
       "      <th>source_class</th>\n",
       "      <th>waterpoint_type</th>\n",
       "      <th>waterpoint_type_group</th>\n",
       "    </tr>\n",
       "    <tr>\n",
       "      <th>id</th>\n",
       "      <th></th>\n",
       "      <th></th>\n",
       "      <th></th>\n",
       "      <th></th>\n",
       "      <th></th>\n",
       "      <th></th>\n",
       "      <th></th>\n",
       "      <th></th>\n",
       "      <th></th>\n",
       "      <th></th>\n",
       "      <th></th>\n",
       "      <th></th>\n",
       "      <th></th>\n",
       "      <th></th>\n",
       "      <th></th>\n",
       "      <th></th>\n",
       "      <th></th>\n",
       "      <th></th>\n",
       "      <th></th>\n",
       "      <th></th>\n",
       "      <th></th>\n",
       "    </tr>\n",
       "  </thead>\n",
       "  <tbody>\n",
       "    <tr>\n",
       "      <th>69572</th>\n",
       "      <td>6000</td>\n",
       "      <td>842</td>\n",
       "      <td>1390</td>\n",
       "      <td>944</td>\n",
       "      <td>34.938093</td>\n",
       "      <td>-9.856322</td>\n",
       "      <td>34729</td>\n",
       "      <td>0</td>\n",
       "      <td>5</td>\n",
       "      <td>2799</td>\n",
       "      <td>...</td>\n",
       "      <td>6</td>\n",
       "      <td>1</td>\n",
       "      <td>4</td>\n",
       "      <td>2</td>\n",
       "      <td>2</td>\n",
       "      <td>6</td>\n",
       "      <td>5</td>\n",
       "      <td>2</td>\n",
       "      <td>1</td>\n",
       "      <td>1</td>\n",
       "    </tr>\n",
       "    <tr>\n",
       "      <th>8776</th>\n",
       "      <td>0</td>\n",
       "      <td>1121</td>\n",
       "      <td>1399</td>\n",
       "      <td>120</td>\n",
       "      <td>34.698766</td>\n",
       "      <td>-2.147466</td>\n",
       "      <td>24432</td>\n",
       "      <td>0</td>\n",
       "      <td>7</td>\n",
       "      <td>3155</td>\n",
       "      <td>...</td>\n",
       "      <td>4</td>\n",
       "      <td>1</td>\n",
       "      <td>4</td>\n",
       "      <td>0</td>\n",
       "      <td>0</td>\n",
       "      <td>7</td>\n",
       "      <td>6</td>\n",
       "      <td>1</td>\n",
       "      <td>1</td>\n",
       "      <td>1</td>\n",
       "    </tr>\n",
       "    <tr>\n",
       "      <th>34310</th>\n",
       "      <td>25</td>\n",
       "      <td>1153</td>\n",
       "      <td>686</td>\n",
       "      <td>4</td>\n",
       "      <td>37.460664</td>\n",
       "      <td>-3.821329</td>\n",
       "      <td>5537</td>\n",
       "      <td>0</td>\n",
       "      <td>0</td>\n",
       "      <td>19032</td>\n",
       "      <td>...</td>\n",
       "      <td>3</td>\n",
       "      <td>1</td>\n",
       "      <td>4</td>\n",
       "      <td>2</td>\n",
       "      <td>2</td>\n",
       "      <td>5</td>\n",
       "      <td>4</td>\n",
       "      <td>1</td>\n",
       "      <td>3</td>\n",
       "      <td>1</td>\n",
       "    </tr>\n",
       "  </tbody>\n",
       "</table>\n",
       "<p>3 rows × 38 columns</p>\n",
       "</div>"
      ],
      "text/plain": [
       "       amount_tsh  funder  gps_height  installer  longitude  latitude  \\\n",
       "id                                                                      \n",
       "69572        6000     842        1390        944  34.938093 -9.856322   \n",
       "8776            0    1121        1399        120  34.698766 -2.147466   \n",
       "34310          25    1153         686          4  37.460664 -3.821329   \n",
       "\n",
       "       wpt_name  num_private  basin  subvillage          ...            \\\n",
       "id                                                       ...             \n",
       "69572     34729            0      5        2799          ...             \n",
       "8776      24432            0      7        3155          ...             \n",
       "34310      5537            0      0       19032          ...             \n",
       "\n",
       "       payment_type  water_quality  quality_group  quantity  quantity_group  \\\n",
       "id                                                                            \n",
       "69572             6              1              4         2               2   \n",
       "8776              4              1              4         0               0   \n",
       "34310             3              1              4         2               2   \n",
       "\n",
       "       source  source_type  source_class  waterpoint_type  \\\n",
       "id                                                          \n",
       "69572       6            5             2                1   \n",
       "8776        7            6             1                1   \n",
       "34310       5            4             1                3   \n",
       "\n",
       "       waterpoint_type_group  \n",
       "id                            \n",
       "69572                      1  \n",
       "8776                       1  \n",
       "34310                      1  \n",
       "\n",
       "[3 rows x 38 columns]"
      ]
     },
     "execution_count": 11,
     "metadata": {},
     "output_type": "execute_result"
    }
   ],
   "source": [
    "features_df.head(3)"
   ]
  },
  {
   "cell_type": "code",
   "execution_count": 12,
   "metadata": {
    "collapsed": true
   },
   "outputs": [],
   "source": [
    "# The features and labels are taken out of their dataframe\n",
    "# and put into a numpy.ndarray and list, respectively.\n",
    "X = features_df.as_matrix()\n",
    "y = labels_df[\"status_group\"].tolist()"
   ]
  },
  {
   "cell_type": "code",
   "execution_count": 13,
   "metadata": {
    "collapsed": false
   },
   "outputs": [
    {
     "name": "stdout",
     "output_type": "stream",
     "text": [
      "[ 0.64818182  0.64777778  0.64550505]\n"
     ]
    }
   ],
   "source": [
    "# logistic regression\n",
    "import sklearn.linear_model\n",
    "import sklearn.cross_validation\n",
    "\n",
    "clf = sklearn.linear_model.LogisticRegression()\n",
    "score = sklearn.cross_validation.cross_val_score( clf, X, y )\n",
    "print( score )\n"
   ]
  },
  {
   "cell_type": "code",
   "execution_count": 14,
   "metadata": {
    "collapsed": false
   },
   "outputs": [
    {
     "name": "stdout",
     "output_type": "stream",
     "text": [
      "[ 0.74323232  0.73651515  0.74090909]\n"
     ]
    }
   ],
   "source": [
    "# random forest\n",
    "import sklearn.tree\n",
    "import sklearn.ensemble\n",
    "\n",
    "clf = sklearn.tree.DecisionTreeClassifier()\n",
    "score = sklearn.cross_validation.cross_val_score( clf, X, y )\n",
    "print( score )"
   ]
  },
  {
   "cell_type": "code",
   "execution_count": 15,
   "metadata": {
    "collapsed": false
   },
   "outputs": [
    {
     "name": "stdout",
     "output_type": "stream",
     "text": [
      "[ 0.78989899  0.78929293  0.78378788]\n"
     ]
    }
   ],
   "source": [
    "clf = sklearn.ensemble.RandomForestClassifier()\n",
    "score = sklearn.cross_validation.cross_val_score( clf, X, y )\n",
    "print( score )"
   ]
  },
  {
   "cell_type": "markdown",
   "metadata": {},
   "source": [
    "https://civisanalytics.com/blog/data-science/2015/12/23/workflows-in-python-curating-features-and-thinking-scientifically-about-algorithms/"
   ]
  },
  {
   "cell_type": "code",
   "execution_count": 16,
   "metadata": {
    "collapsed": false
   },
   "outputs": [
    {
     "data": {
      "text/plain": [
       "array([6, 4, 3, 5, 1, 0, 2])"
      ]
     },
     "execution_count": 16,
     "metadata": {},
     "output_type": "execute_result"
    }
   ],
   "source": [
    "features_df.payment_type.unique()"
   ]
  },
  {
   "cell_type": "code",
   "execution_count": 17,
   "metadata": {
    "collapsed": false
   },
   "outputs": [
    {
     "data": {
      "text/plain": [
       "OneHotEncoder(categorical_features='all', dtype=<class 'float'>,\n",
       "       handle_unknown='error', n_values='auto', sparse=True)"
      ]
     },
     "execution_count": 17,
     "metadata": {},
     "output_type": "execute_result"
    }
   ],
   "source": [
    "col = features_df.payment_type.tolist()\n",
    "col = np.reshape( col, (len(col), 1) )\n",
    "type(col)\n",
    "import sklearn.preprocessing\n",
    "enc = sklearn.preprocessing.OneHotEncoder()\n",
    "enc.fit(col)"
   ]
  },
  {
   "cell_type": "code",
   "execution_count": 18,
   "metadata": {
    "collapsed": true
   },
   "outputs": [],
   "source": [
    "# NOTE: OHE Only takes integers as input\n",
    "# 'The input to this transformer should be a matrix of integers' - from:\n",
    "# http://scikit-learn.org/stable/modules/generated/sklearn.preprocessing.OneHotEncoder.html\n",
    "# one-hot-encoder function that takes the data frame and the title of a column\n",
    "# and returns the same data frame but one-hot encoding performed on the indicated feature.\n",
    "# using the scikit-learn OneHotEncoder object, but pandas also has a function called get_dummies()\n",
    "#that does effectively the same thing. In fact, I find get_dummies() easier to use in many cases,\n",
    "#but I still find it worthwhile to see a more “manual” version of the transformation at least once.\n",
    "import sklearn.preprocessing\n",
    "\n",
    "def hot_encoder(df, column_name):\n",
    "    column = df[column_name].tolist()\n",
    "    column = np.reshape( column, (len(column), 1) )  ### needs to be an N x 1 numpy array\n",
    "    enc = sklearn.preprocessing.OneHotEncoder()\n",
    "    enc.fit( column )\n",
    "    new_column = enc.transform( column ).toarray()\n",
    "    column_titles = []\n",
    "    ### making titles for the new columns, and appending them to dataframe\n",
    "    for ii in range( len(new_column[0]) ):\n",
    "        this_column_name = column_name+\"_\"+str(ii)\n",
    "        df[this_column_name] = new_column[:,ii]\n",
    "    return df"
   ]
  },
  {
   "cell_type": "code",
   "execution_count": 19,
   "metadata": {
    "collapsed": false
   },
   "outputs": [
    {
     "name": "stdout",
     "output_type": "stream",
     "text": [
      "['amount_tsh' 'funder' 'gps_height' 'installer' 'longitude' 'latitude'\n",
      " 'wpt_name' 'num_private' 'basin' 'subvillage' 'region' 'region_code'\n",
      " 'district_code' 'lga' 'ward' 'population' 'public_meeting' 'recorded_by'\n",
      " 'scheme_management' 'scheme_name' 'permit' 'construction_year'\n",
      " 'extraction_type' 'extraction_type_group' 'extraction_type_class'\n",
      " 'management' 'management_group' 'payment' 'payment_type' 'water_quality'\n",
      " 'quality_group' 'quantity' 'quantity_group' 'source' 'source_type'\n",
      " 'source_class' 'waterpoint_type' 'waterpoint_type_group']\n"
     ]
    },
    {
     "data": {
      "text/html": [
       "<div>\n",
       "<table border=\"1\" class=\"dataframe\">\n",
       "  <thead>\n",
       "    <tr style=\"text-align: right;\">\n",
       "      <th></th>\n",
       "      <th>amount_tsh</th>\n",
       "      <th>gps_height</th>\n",
       "      <th>longitude</th>\n",
       "      <th>latitude</th>\n",
       "      <th>num_private</th>\n",
       "      <th>basin</th>\n",
       "      <th>region</th>\n",
       "      <th>region_code</th>\n",
       "      <th>district_code</th>\n",
       "      <th>lga</th>\n",
       "      <th>...</th>\n",
       "      <th>waterpoint_type_3</th>\n",
       "      <th>waterpoint_type_4</th>\n",
       "      <th>waterpoint_type_5</th>\n",
       "      <th>waterpoint_type_6</th>\n",
       "      <th>waterpoint_type_group_0</th>\n",
       "      <th>waterpoint_type_group_1</th>\n",
       "      <th>waterpoint_type_group_2</th>\n",
       "      <th>waterpoint_type_group_3</th>\n",
       "      <th>waterpoint_type_group_4</th>\n",
       "      <th>waterpoint_type_group_5</th>\n",
       "    </tr>\n",
       "    <tr>\n",
       "      <th>id</th>\n",
       "      <th></th>\n",
       "      <th></th>\n",
       "      <th></th>\n",
       "      <th></th>\n",
       "      <th></th>\n",
       "      <th></th>\n",
       "      <th></th>\n",
       "      <th></th>\n",
       "      <th></th>\n",
       "      <th></th>\n",
       "      <th></th>\n",
       "      <th></th>\n",
       "      <th></th>\n",
       "      <th></th>\n",
       "      <th></th>\n",
       "      <th></th>\n",
       "      <th></th>\n",
       "      <th></th>\n",
       "      <th></th>\n",
       "      <th></th>\n",
       "      <th></th>\n",
       "    </tr>\n",
       "  </thead>\n",
       "  <tbody>\n",
       "    <tr>\n",
       "      <th>69572</th>\n",
       "      <td>6000</td>\n",
       "      <td>1390</td>\n",
       "      <td>34.938093</td>\n",
       "      <td>-9.856322</td>\n",
       "      <td>0</td>\n",
       "      <td>5</td>\n",
       "      <td>17</td>\n",
       "      <td>11</td>\n",
       "      <td>5</td>\n",
       "      <td>94</td>\n",
       "      <td>...</td>\n",
       "      <td>0</td>\n",
       "      <td>0</td>\n",
       "      <td>0</td>\n",
       "      <td>0</td>\n",
       "      <td>0</td>\n",
       "      <td>1</td>\n",
       "      <td>0</td>\n",
       "      <td>0</td>\n",
       "      <td>0</td>\n",
       "      <td>0</td>\n",
       "    </tr>\n",
       "    <tr>\n",
       "      <th>8776</th>\n",
       "      <td>0</td>\n",
       "      <td>1399</td>\n",
       "      <td>34.698766</td>\n",
       "      <td>-2.147466</td>\n",
       "      <td>0</td>\n",
       "      <td>7</td>\n",
       "      <td>10</td>\n",
       "      <td>20</td>\n",
       "      <td>2</td>\n",
       "      <td>17</td>\n",
       "      <td>...</td>\n",
       "      <td>0</td>\n",
       "      <td>0</td>\n",
       "      <td>0</td>\n",
       "      <td>0</td>\n",
       "      <td>0</td>\n",
       "      <td>1</td>\n",
       "      <td>0</td>\n",
       "      <td>0</td>\n",
       "      <td>0</td>\n",
       "      <td>0</td>\n",
       "    </tr>\n",
       "    <tr>\n",
       "      <th>34310</th>\n",
       "      <td>25</td>\n",
       "      <td>686</td>\n",
       "      <td>37.460664</td>\n",
       "      <td>-3.821329</td>\n",
       "      <td>0</td>\n",
       "      <td>0</td>\n",
       "      <td>1</td>\n",
       "      <td>21</td>\n",
       "      <td>4</td>\n",
       "      <td>75</td>\n",
       "      <td>...</td>\n",
       "      <td>1</td>\n",
       "      <td>0</td>\n",
       "      <td>0</td>\n",
       "      <td>0</td>\n",
       "      <td>0</td>\n",
       "      <td>1</td>\n",
       "      <td>0</td>\n",
       "      <td>0</td>\n",
       "      <td>0</td>\n",
       "      <td>0</td>\n",
       "    </tr>\n",
       "    <tr>\n",
       "      <th>67743</th>\n",
       "      <td>0</td>\n",
       "      <td>263</td>\n",
       "      <td>38.486161</td>\n",
       "      <td>-11.155298</td>\n",
       "      <td>0</td>\n",
       "      <td>4</td>\n",
       "      <td>4</td>\n",
       "      <td>90</td>\n",
       "      <td>63</td>\n",
       "      <td>19</td>\n",
       "      <td>...</td>\n",
       "      <td>1</td>\n",
       "      <td>0</td>\n",
       "      <td>0</td>\n",
       "      <td>0</td>\n",
       "      <td>0</td>\n",
       "      <td>1</td>\n",
       "      <td>0</td>\n",
       "      <td>0</td>\n",
       "      <td>0</td>\n",
       "      <td>0</td>\n",
       "    </tr>\n",
       "    <tr>\n",
       "      <th>19728</th>\n",
       "      <td>0</td>\n",
       "      <td>0</td>\n",
       "      <td>31.130847</td>\n",
       "      <td>-1.825359</td>\n",
       "      <td>0</td>\n",
       "      <td>7</td>\n",
       "      <td>19</td>\n",
       "      <td>18</td>\n",
       "      <td>1</td>\n",
       "      <td>37</td>\n",
       "      <td>...</td>\n",
       "      <td>0</td>\n",
       "      <td>0</td>\n",
       "      <td>0</td>\n",
       "      <td>0</td>\n",
       "      <td>0</td>\n",
       "      <td>1</td>\n",
       "      <td>0</td>\n",
       "      <td>0</td>\n",
       "      <td>0</td>\n",
       "      <td>0</td>\n",
       "    </tr>\n",
       "  </tbody>\n",
       "</table>\n",
       "<p>5 rows × 3031 columns</p>\n",
       "</div>"
      ],
      "text/plain": [
       "       amount_tsh  gps_height  longitude   latitude  num_private  basin  \\\n",
       "id                                                                        \n",
       "69572        6000        1390  34.938093  -9.856322            0      5   \n",
       "8776            0        1399  34.698766  -2.147466            0      7   \n",
       "34310          25         686  37.460664  -3.821329            0      0   \n",
       "67743           0         263  38.486161 -11.155298            0      4   \n",
       "19728           0           0  31.130847  -1.825359            0      7   \n",
       "\n",
       "       region  region_code  district_code  lga           ...             \\\n",
       "id                                                       ...              \n",
       "69572      17           11              5   94           ...              \n",
       "8776       10           20              2   17           ...              \n",
       "34310       1           21              4   75           ...              \n",
       "67743       4           90             63   19           ...              \n",
       "19728      19           18              1   37           ...              \n",
       "\n",
       "       waterpoint_type_3  waterpoint_type_4  waterpoint_type_5  \\\n",
       "id                                                               \n",
       "69572                  0                  0                  0   \n",
       "8776                   0                  0                  0   \n",
       "34310                  1                  0                  0   \n",
       "67743                  1                  0                  0   \n",
       "19728                  0                  0                  0   \n",
       "\n",
       "       waterpoint_type_6  waterpoint_type_group_0  waterpoint_type_group_1  \\\n",
       "id                                                                           \n",
       "69572                  0                        0                        1   \n",
       "8776                   0                        0                        1   \n",
       "34310                  0                        0                        1   \n",
       "67743                  0                        0                        1   \n",
       "19728                  0                        0                        1   \n",
       "\n",
       "       waterpoint_type_group_2  waterpoint_type_group_3  \\\n",
       "id                                                        \n",
       "69572                        0                        0   \n",
       "8776                         0                        0   \n",
       "34310                        0                        0   \n",
       "67743                        0                        0   \n",
       "19728                        0                        0   \n",
       "\n",
       "       waterpoint_type_group_4  waterpoint_type_group_5  \n",
       "id                                                       \n",
       "69572                        0                        0  \n",
       "8776                         0                        0  \n",
       "34310                        0                        0  \n",
       "67743                        0                        0  \n",
       "19728                        0                        0  \n",
       "\n",
       "[5 rows x 3031 columns]"
      ]
     },
     "execution_count": 19,
     "metadata": {},
     "output_type": "execute_result"
    }
   ],
   "source": [
    "print(features_df.columns.values)\n",
    "\n",
    "\n",
    "features_df.drop( \"funder\", axis=1, inplace=True )\n",
    "features_df.drop( \"installer\", axis=1, inplace=True )\n",
    "features_df.drop( \"wpt_name\", axis=1, inplace=True )\n",
    "features_df.drop( \"subvillage\", axis=1, inplace=True )\n",
    "features_df.drop( \"ward\", axis=1, inplace=True )\n",
    "\n",
    "names_of_columns_to_transform.remove(\"funder\")\n",
    "names_of_columns_to_transform.remove(\"installer\")\n",
    "names_of_columns_to_transform.remove(\"wpt_name\")\n",
    "names_of_columns_to_transform.remove(\"subvillage\")\n",
    "names_of_columns_to_transform.remove(\"ward\")\n",
    "\n",
    "# perform OHE for columns of interest that needs to be transformed\n",
    "for feature in names_of_columns_to_transform:\n",
    "    features_df = hot_encoder( features_df, feature )\n",
    "\n",
    "features_df.head()"
   ]
  },
  {
   "cell_type": "code",
   "execution_count": 20,
   "metadata": {
    "collapsed": false
   },
   "outputs": [
    {
     "data": {
      "text/plain": [
       "(59400, 3031)"
      ]
     },
     "execution_count": 20,
     "metadata": {},
     "output_type": "execute_result"
    }
   ],
   "source": [
    "features_df.shape"
   ]
  },
  {
   "cell_type": "code",
   "execution_count": 21,
   "metadata": {
    "collapsed": false
   },
   "outputs": [
    {
     "data": {
      "text/plain": [
       "(59400, 3031)"
      ]
     },
     "execution_count": 21,
     "metadata": {},
     "output_type": "execute_result"
    }
   ],
   "source": [
    "X = features_df # update the training data to that that has been OHE\n",
    "X.shape # note the number of columns representing the number of features!"
   ]
  },
  {
   "cell_type": "code",
   "execution_count": 22,
   "metadata": {
    "collapsed": false
   },
   "outputs": [
    {
     "name": "stderr",
     "output_type": "stream",
     "text": [
      "/Users/Izham/apps/miniconda3/lib/python3.4/site-packages/sklearn/feature_selection/univariate_selection.py:111: UserWarning: Features [ 12 191] are constant.\n",
      "  UserWarning)\n"
     ]
    },
    {
     "name": "stdout",
     "output_type": "stream",
     "text": [
      "(59400, 800)\n"
     ]
    }
   ],
   "source": [
    "# select the best features 'or so'\n",
    "import sklearn.feature_selection\n",
    "\n",
    "select = sklearn.feature_selection.SelectKBest(k=800)\n",
    "X = features_df\n",
    "selected_X = select.fit_transform(X, y)\n",
    "\n",
    "print( selected_X.shape )"
   ]
  },
  {
   "cell_type": "code",
   "execution_count": 23,
   "metadata": {
    "collapsed": false
   },
   "outputs": [
    {
     "name": "stderr",
     "output_type": "stream",
     "text": [
      "/Users/Izham/apps/miniconda3/lib/python3.4/site-packages/sklearn/feature_selection/univariate_selection.py:111: UserWarning: Features [ 12 191] are constant.\n",
      "  UserWarning)\n"
     ]
    }
   ],
   "source": [
    "selected_X0 = select.fit(X, y)"
   ]
  },
  {
   "cell_type": "code",
   "execution_count": 24,
   "metadata": {
    "collapsed": false
   },
   "outputs": [],
   "source": [
    "# from warning above shows that column 12 and 191 are CONSTANT\n",
    "# test plot their value \n",
    "#X[X.columns[12]]\n",
    "#X[X.columns[191]]\n",
    "# NOTE: sklearn.feature_selection"
   ]
  },
  {
   "cell_type": "markdown",
   "metadata": {},
   "source": [
    "https://civisanalytics.com/blog/data-science/2016/01/06/workflows-python-using-pipeline-gridsearchcv-for-compact-code/"
   ]
  },
  {
   "cell_type": "code",
   "execution_count": 25,
   "metadata": {
    "collapsed": false
   },
   "outputs": [
    {
     "name": "stdout",
     "output_type": "stream",
     "text": [
      "[ 0.77762626  0.78409091  0.77686869]\n"
     ]
    }
   ],
   "source": [
    "# re-run the random forest with just a X features\n",
    "clf = sklearn.ensemble.RandomForestClassifier()\n",
    "score = sklearn.cross_validation.cross_val_score( clf, selected_X, y )\n",
    "print( score )"
   ]
  },
  {
   "cell_type": "markdown",
   "metadata": {},
   "source": [
    "### Pipeline Explanation\n",
    "- Import pipeline with:\n",
    "- import sklearn.pipeline\n",
    "<ol>\n",
    "<li>Import the required modules including the pipeline module</li>\n",
    "<li>Instantiate the required modules like select best and random forest classifier etc</li>\n",
    "<li>Build the steps list of tuples ('customNameOfStep', instantiatedStepVariableName) </li>\n",
    "<li>Instantiate pipeline </li>\n",
    "</ol>"
   ]
  },
  {
   "cell_type": "code",
   "execution_count": 27,
   "metadata": {
    "collapsed": false,
    "scrolled": true
   },
   "outputs": [
    {
     "name": "stderr",
     "output_type": "stream",
     "text": [
      "/Users/Izham/apps/miniconda3/lib/python3.4/site-packages/sklearn/feature_selection/univariate_selection.py:111: UserWarning: Features [  12  191  208  227  233  237  241  271  272  280  283  289  294  349  350\n",
      "  361  387  388  393  394  401  406  411  420  423  425  443  449  452  458\n",
      "  474  476  495  496  502  512  548  549  555  556  559  561  562  574  577\n",
      "  588  603  608  616  621  623  634  641  648  655  666  673  678  692  702\n",
      "  705  719  723  737  740  758  770  777  781  789  797  843  844  845  847\n",
      "  848  883  884  893  894  900  901  903  904  910  916  944  955  966  968\n",
      "  975  989 1015 1027 1028 1036 1045 1046 1055 1056 1063 1064 1080 1081 1089\n",
      " 1099 1118 1124 1133 1135 1159 1163 1164 1174 1178 1182 1184 1202 1209 1228\n",
      " 1239 1255 1258 1271 1286 1292 1302 1307 1315 1319 1338 1344 1362 1381 1384\n",
      " 1391 1406 1410 1417 1418 1429 1430 1449 1451 1461 1465 1477 1478 1480 1512\n",
      " 1515 1524 1534 1539 1545 1546 1547 1552 1558 1559 1578 1584 1597 1600 1607\n",
      " 1611 1618 1643 1644 1657 1678 1683 1693 1695 1697 1700 1712 1715 1717 1722\n",
      " 1742 1751 1767 1800 1801 1804 1818 1831 1840 1843 1849 1869 1871 1876 1879\n",
      " 1883 1888 1889 1895 1899 1912 1925 1937 1938 1939 1940 1956 1976 1982 1986\n",
      " 1987 1996 1997 1999 2005 2007 2015 2017 2026 2031 2041 2042 2079 2093 2095\n",
      " 2129 2141 2145 2146 2148 2156 2159 2167 2170 2185 2196 2198 2200 2232 2249\n",
      " 2263 2264 2273 2284 2291 2300 2304 2305 2320 2321 2338 2340 2356 2371 2390\n",
      " 2407 2425 2428 2438 2452 2453 2457 2472 2479 2485 2498 2507 2522 2534 2543\n",
      " 2569 2580 2590 2600 2606 2621 2622 2629 2634 2642 2646 2647 2652 2653 2659\n",
      " 2664 2696 2697 2709 2726 2734 2742 2751 2769 2774 2782 2792 2794 2810 2824\n",
      " 2838 2843 2846 2850 2869] are constant.\n",
      "  UserWarning)\n"
     ]
    },
    {
     "name": "stdout",
     "output_type": "stream",
     "text": [
      "             precision    recall  f1-score   support\n",
      "\n",
      "          0       0.76      0.76      0.76      7458\n",
      "          1       0.39      0.37      0.38      1425\n",
      "          2       0.80      0.80      0.80     10719\n",
      "\n",
      "avg / total       0.75      0.75      0.75     19602\n",
      "\n"
     ]
    }
   ],
   "source": [
    "# Data setup\n",
    "X_train, X_test, y_train, y_test = sklearn.cross_validation.train_test_split(X, y, test_size=0.33, random_state=42)\n",
    "\n",
    "import sklearn.pipeline\n",
    "\n",
    "# initialize the modules that will be used in the pipeline\n",
    "# select the minimal k best features\n",
    "select = sklearn.feature_selection.SelectKBest(k=50)\n",
    "# initialize classifier\n",
    "clf = sklearn.ensemble.RandomForestClassifier()\n",
    "\n",
    "# Build the steps list of tuples ('customNameOfStep', instantiatedStepVariableName)\n",
    "# Note the customNameOfStep - is a user selected name\n",
    "# instantiatedStepVariableName - this is the variable name of the instantiated \n",
    "steps = [('feature_selection', select),\n",
    "        ('random_forest', clf)]\n",
    "\n",
    "# Instantiate the pipeline\n",
    "pipeline = sklearn.pipeline.Pipeline(steps)\n",
    "\n",
    "### fit your pipeline on X_train and y_train\n",
    "pipeline.fit( X_train, y_train )\n",
    "### call pipeline.predict() on your X_test data to make a set of test predictions\n",
    "y_prediction = pipeline.predict( X_test )\n",
    "### test your predictions using sklearn.classification_report()\n",
    "report = sklearn.metrics.classification_report( y_test, y_prediction )\n",
    "### and print the report\n",
    "print(report)"
   ]
  },
  {
   "cell_type": "markdown",
   "metadata": {},
   "source": [
    "https://civisanalytics.com/blog/data-science/2016/01/06/workflows-python-using-pipeline-gridsearchcv-for-compact-code/"
   ]
  },
  {
   "cell_type": "code",
   "execution_count": 28,
   "metadata": {
    "collapsed": false
   },
   "outputs": [
    {
     "data": {
      "text/plain": [
       "Pipeline(steps=[('feature_selection', SelectKBest(k=50, score_func=<function f_classif at 0x10cc2b7b8>)), ('random_forest', RandomForestClassifier(bootstrap=True, class_weight=None, criterion='gini',\n",
       "            max_depth=None, max_features='auto', max_leaf_nodes=None,\n",
       "            min_samples_leaf=1, min_samples_split=2,\n",
       "            min_weight_fraction_leaf=0.0, n_estimators=10, n_jobs=1,\n",
       "            oob_score=False, random_state=None, verbose=0,\n",
       "            warm_start=False))])"
      ]
     },
     "execution_count": 28,
     "metadata": {},
     "output_type": "execute_result"
    }
   ],
   "source": [
    "pipeline"
   ]
  },
  {
   "cell_type": "code",
   "execution_count": null,
   "metadata": {
    "collapsed": false
   },
   "outputs": [],
   "source": []
  },
  {
   "cell_type": "code",
   "execution_count": 29,
   "metadata": {
    "collapsed": false
   },
   "outputs": [
    {
     "name": "stdout",
     "output_type": "stream",
     "text": [
      "             precision    recall  f1-score   support\n",
      "\n",
      "          0       0.76      0.76      0.76      7458\n",
      "          1       0.39      0.37      0.38      1425\n",
      "          2       0.80      0.80      0.80     10719\n",
      "\n",
      "avg / total       0.75      0.75      0.75     19602\n",
      "\n"
     ]
    }
   ],
   "source": [
    "print(report)"
   ]
  },
  {
   "cell_type": "markdown",
   "metadata": {},
   "source": [
    "### Stratified Shuffle Split Sample"
   ]
  },
  {
   "cell_type": "code",
   "execution_count": 30,
   "metadata": {
    "collapsed": false
   },
   "outputs": [
    {
     "name": "stdout",
     "output_type": "stream",
     "text": [
      "TRAIN indices: [56033 42149 50644 ..., 23965 52811 37112] TEST indices: [52237  4107 28169 ..., 54782  2110  3833]\n",
      "TRAIN indices: [31788 54920  3600 ..., 37340 40168 39623] TEST indices: [21495  5759  4607 ..., 28518   447 26835]\n"
     ]
    }
   ],
   "source": [
    "from sklearn.cross_validation import StratifiedShuffleSplit\n",
    "sss = StratifiedShuffleSplit(y,2, test_size=0.2, random_state=42)\n",
    "for train_index, test_index in sss:\n",
    "    print(\"TRAIN indices:\", train_index, \"TEST indices:\", test_index)"
   ]
  },
  {
   "cell_type": "code",
   "execution_count": 31,
   "metadata": {
    "collapsed": false
   },
   "outputs": [
    {
     "data": {
      "text/plain": [
       "(59400, 3031)"
      ]
     },
     "execution_count": 31,
     "metadata": {},
     "output_type": "execute_result"
    }
   ],
   "source": [
    "X.shape"
   ]
  },
  {
   "cell_type": "code",
   "execution_count": 32,
   "metadata": {
    "collapsed": false
   },
   "outputs": [
    {
     "name": "stdout",
     "output_type": "stream",
     "text": [
      "47520\n",
      "11880\n",
      "59400\n"
     ]
    }
   ],
   "source": [
    "#X_train = X[train_index]\n",
    "print(len(train_index))\n",
    "print(len(test_index))\n",
    "print(len(train_index) + len(test_index))"
   ]
  },
  {
   "cell_type": "code",
   "execution_count": 33,
   "metadata": {
    "collapsed": false
   },
   "outputs": [
    {
     "name": "stdout",
     "output_type": "stream",
     "text": [
      "(47520, 3031)\n",
      "(11880, 3031)\n"
     ]
    }
   ],
   "source": [
    "X_train = X.iloc[train_index,]\n",
    "X_test = X.iloc[test_index,]\n",
    "y_train = labels_df.values[train_index]\n",
    "y_test = labels_df.values[test_index]\n",
    "print(X_train.shape)\n",
    "print(X_test.shape)"
   ]
  },
  {
   "cell_type": "code",
   "execution_count": 34,
   "metadata": {
    "collapsed": false
   },
   "outputs": [
    {
     "data": {
      "text/plain": [
       "pandas.core.frame.DataFrame"
      ]
     },
     "execution_count": 34,
     "metadata": {},
     "output_type": "execute_result"
    }
   ],
   "source": [
    "type(labels_df)"
   ]
  },
  {
   "cell_type": "code",
   "execution_count": 35,
   "metadata": {
    "collapsed": false
   },
   "outputs": [],
   "source": [
    "#y_train = y_train.tolist()\n",
    "#y_test = y_test.tolist()\n",
    "#print(len(y_train))\n",
    "#print(len(y_test))"
   ]
  },
  {
   "cell_type": "code",
   "execution_count": 36,
   "metadata": {
    "collapsed": false
   },
   "outputs": [
    {
     "data": {
      "text/plain": [
       "(47520, 3031)"
      ]
     },
     "execution_count": 36,
     "metadata": {},
     "output_type": "execute_result"
    }
   ],
   "source": [
    "X_train.dropna().shape"
   ]
  },
  {
   "cell_type": "code",
   "execution_count": 37,
   "metadata": {
    "collapsed": false
   },
   "outputs": [
    {
     "data": {
      "text/plain": [
       "(11880, 3031)"
      ]
     },
     "execution_count": 37,
     "metadata": {},
     "output_type": "execute_result"
    }
   ],
   "source": [
    "X_test.dropna().shape"
   ]
  },
  {
   "cell_type": "code",
   "execution_count": 38,
   "metadata": {
    "collapsed": false
   },
   "outputs": [
    {
     "data": {
      "text/plain": [
       "47520"
      ]
     },
     "execution_count": 38,
     "metadata": {},
     "output_type": "execute_result"
    }
   ],
   "source": [
    "len(y_train)"
   ]
  },
  {
   "cell_type": "code",
   "execution_count": 39,
   "metadata": {
    "collapsed": false
   },
   "outputs": [
    {
     "name": "stdout",
     "output_type": "stream",
     "text": [
      "<class 'list'>\n",
      "11880\n"
     ]
    }
   ],
   "source": [
    "y_test = labels_df.iloc[test_index] # iloc does not give those spurious NaNs\n",
    "y_test0 = y_test['status_group'].tolist()\n",
    "print(type(y_test0))\n",
    "print(len(y_test0))"
   ]
  },
  {
   "cell_type": "code",
   "execution_count": 40,
   "metadata": {
    "collapsed": false
   },
   "outputs": [
    {
     "name": "stdout",
     "output_type": "stream",
     "text": [
      "<class 'list'>\n",
      "47520\n"
     ]
    }
   ],
   "source": [
    "y_train = labels_df.iloc[train_index]\n",
    "y_train0 = y_train['status_group'].tolist()\n",
    "print(type(y_train0))\n",
    "print(len(y_train0))"
   ]
  },
  {
   "cell_type": "code",
   "execution_count": 41,
   "metadata": {
    "collapsed": false
   },
   "outputs": [],
   "source": [
    "#out = np.concatenate(input_list).ravel().tolist()"
   ]
  },
  {
   "cell_type": "code",
   "execution_count": 42,
   "metadata": {
    "collapsed": false
   },
   "outputs": [
    {
     "name": "stdout",
     "output_type": "stream",
     "text": [
      "[ 0.74731726  0.75131006  0.75528758]\n"
     ]
    }
   ],
   "source": [
    "# random forest\n",
    "import sklearn.tree\n",
    "import sklearn.ensemble\n",
    "\n",
    "clf = sklearn.tree.DecisionTreeClassifier()\n",
    "score = sklearn.cross_validation.cross_val_score( clf, X_train, y_train0 )\n",
    "print( score )"
   ]
  },
  {
   "cell_type": "code",
   "execution_count": 43,
   "metadata": {
    "collapsed": false
   },
   "outputs": [
    {
     "name": "stdout",
     "output_type": "stream",
     "text": [
      "[ 0.77168287  0.77814256  0.77776375]\n"
     ]
    }
   ],
   "source": [
    "clf = sklearn.ensemble.RandomForestClassifier()\n",
    "score = sklearn.cross_validation.cross_val_score( clf, X_train, y_train0 )\n",
    "print( score )"
   ]
  },
  {
   "cell_type": "code",
   "execution_count": 44,
   "metadata": {
    "collapsed": false
   },
   "outputs": [
    {
     "name": "stderr",
     "output_type": "stream",
     "text": [
      "/Users/Izham/apps/miniconda3/lib/python3.4/site-packages/sklearn/feature_selection/univariate_selection.py:111: UserWarning: Features [  12  191  204  208  209  227  230  233  237  238  242  250  254  257  268\n",
      "  272  273  280  289  304  309  338  349  362  371  375  376  380  383  389\n",
      "  392  394  402  406  408  415  416  418  420  436  437  452  454  455  460\n",
      "  467  486  491  496  497  505  507  516  518  528  545  549  555  561  563\n",
      "  574  577  578  587  588  589  594  596  604  608  610  611  616  621  634\n",
      "  641  647  649  660  661  675  677  688  692  698  701  702  707  709  712\n",
      "  714  718  723  724  740  754  755  775  779  780  781  783  789  797  810\n",
      "  812  825  830  849  852  857  865  867  872  878  884  893  897  898  900\n",
      "  915  916  924  925  928  944  960  965  966  972  977  984  987  989  992\n",
      "  994 1003 1011 1013 1028 1036 1046 1052 1055 1056 1063 1064 1065 1067 1073\n",
      " 1081 1082 1083 1087 1089 1097 1099 1123 1135 1136 1138 1150 1151 1155 1159\n",
      " 1163 1167 1171 1174 1176 1179 1180 1184 1191 1193 1197 1198 1202 1216 1227\n",
      " 1234 1235 1243 1244 1255 1256 1261 1262 1272 1278 1285 1292 1295 1296 1306\n",
      " 1307 1308 1314 1315 1317 1321 1323 1339 1342 1344 1361 1362 1370 1380 1382\n",
      " 1384 1388 1395 1402 1403 1406 1407 1410 1412 1413 1420 1422 1425 1435 1446\n",
      " 1449 1455 1461 1464 1466 1471 1478 1479 1480 1483 1488 1489 1490 1512 1515\n",
      " 1518 1524 1538 1543 1552 1571 1578 1587 1597 1601 1607 1611 1630 1637 1653\n",
      " 1655 1669 1675 1683 1688 1695 1697 1700 1706 1714 1717 1721 1723 1739 1741\n",
      " 1744 1746 1748 1751 1759 1767 1782 1809 1818 1820 1831 1833 1840 1847 1860\n",
      " 1867 1873 1876 1887 1888 1889 1891 1896 1910 1913 1915 1927 1934 1935 1939\n",
      " 1940 1955 1956 1958 1960 1971 1977 1982 1987 1999 2002 2015 2017 2021 2027\n",
      " 2028 2046 2049 2050 2051 2057 2059 2065 2071 2072 2077 2079 2082 2083 2090\n",
      " 2098 2108 2113 2118 2119 2120 2121 2126 2129 2132 2141 2143 2148 2151 2154\n",
      " 2156 2173 2185 2187 2201 2205 2206 2212 2219 2229 2234 2238 2249 2264 2267\n",
      " 2270 2274 2285 2288 2289 2300 2302 2303 2305 2320 2321 2336 2338 2350 2356\n",
      " 2367 2371 2399 2403 2407 2413 2421 2423 2425 2428 2433 2435 2437 2438 2441\n",
      " 2452 2454 2467 2478 2479 2497 2526 2534 2540 2541 2561 2568 2578 2583 2590\n",
      " 2593 2594 2595 2598 2600 2612 2617 2621 2629 2646 2652 2654 2657 2659 2664\n",
      " 2668 2672 2676 2688 2693 2697 2708 2712 2714 2718 2733 2734 2757 2760 2779\n",
      " 2782 2796 2809 2810 2820 2838 2846 2851 2854 2861 2871 2872 2878 2886 2889\n",
      " 2891] are constant.\n",
      "  UserWarning)\n",
      "/Users/Izham/apps/miniconda3/lib/python3.4/site-packages/sklearn/feature_selection/univariate_selection.py:111: UserWarning: Features [  12  153  191  208  241  250  257  260  263  271  276  277  280  284  294\n",
      "  303  304  309  333  344  349  353  362  372  378  387  393  398  402  406\n",
      "  416  419  443  446  448  449  455  458  478  494  495  499  516  521  532\n",
      "  536  545  547  548  549  560  570  574  578  587  591  611  613  620  621\n",
      "  623  629  631  638  647  651  663  664  666  671  673  679  705  716  718\n",
      "  719  720  724  735  740  747  754  755  758  770  780  781  785  789  792\n",
      "  824  830  842  845  847  848  852  853  863  865  870  872  885  893  894\n",
      "  897  898  900  907  914  916  925  936  950  958  960  966  987  988  992\n",
      "  993  994  998  999 1000 1001 1005 1006 1011 1014 1017 1028 1035 1036 1043\n",
      " 1051 1055 1071 1072 1073 1074 1080 1087 1089 1091 1095 1099 1102 1103 1106\n",
      " 1121 1124 1138 1139 1145 1150 1163 1174 1178 1181 1182 1184 1197 1228 1235\n",
      " 1237 1239 1244 1248 1251 1255 1256 1261 1262 1273 1285 1286 1295 1302 1303\n",
      " 1308 1309 1315 1317 1319 1320 1321 1323 1338 1339 1348 1359 1360 1361 1362\n",
      " 1378 1399 1402 1404 1410 1417 1421 1422 1425 1435 1437 1441 1443 1446 1449\n",
      " 1461 1465 1467 1479 1482 1483 1486 1488 1491 1498 1517 1523 1533 1534 1535\n",
      " 1545 1547 1572 1580 1581 1584 1589 1596 1601 1614 1618 1629 1630 1633 1669\n",
      " 1681 1687 1714 1715 1716 1721 1723 1751 1759 1777 1778 1782 1784 1801 1802\n",
      " 1804 1805 1807 1809 1811 1820 1828 1831 1833 1834 1840 1844 1860 1883 1895\n",
      " 1896 1899 1902 1903 1908 1913 1915 1925 1935 1938 1939 1946 1952 1982 1987\n",
      " 1997 2011 2017 2019 2021 2027 2031 2044 2057 2058 2083 2084 2090 2093 2104\n",
      " 2120 2131 2132 2138 2140 2141 2143 2145 2148 2151 2156 2159 2160 2176 2182\n",
      " 2188 2189 2196 2198 2200 2207 2224 2232 2234 2242 2249 2252 2259 2261 2263\n",
      " 2276 2284 2304 2305 2320 2333 2336 2338 2339 2340 2360 2370 2371 2375 2376\n",
      " 2390 2399 2403 2407 2421 2423 2426 2434 2435 2437 2454 2463 2468 2471 2472\n",
      " 2488 2501 2507 2523 2534 2535 2536 2543 2552 2557 2568 2590 2606 2617 2622\n",
      " 2634 2647 2682 2685 2687 2688 2693 2695 2704 2712 2714 2726 2742 2760 2761\n",
      " 2773 2774 2778 2792 2800 2806 2815 2819 2820 2825 2832 2834 2850 2854 2857\n",
      " 2862 2864 2869 2871 2887 2892] are constant.\n",
      "  UserWarning)\n",
      "/Users/Izham/apps/miniconda3/lib/python3.4/site-packages/sklearn/feature_selection/univariate_selection.py:111: UserWarning: Features [  12  191  208  211  216  223  225  236  239  243  250  257  274  280  283\n",
      "  288  304  307  309  315  325  349  350  352  361  362  381  382  388  401\n",
      "  402  406  411  416  422  423  455  461  476  479  480  502  506  512  516\n",
      "  519  522  525  533  545  549  556  559  568  569  571  574  575  578  587\n",
      "  603  611  621  647  655  667  681  683  685  686  694  718  724  737  740\n",
      "  754  755  764  773  777  780  781  789  790  793  794  806  819  822  826\n",
      "  829  830  833  834  844  852  854  859  861  862  865  872  883  887  893\n",
      "  895  897  898  900  901  902  903  904  910  916  921  925  927  930  949\n",
      "  952  955  960  966  968  973  987  992  994 1011 1015 1028 1031 1036 1040\n",
      " 1045 1055 1066 1070 1073 1087 1089 1099 1107 1113 1118 1119 1126 1132 1138\n",
      " 1142 1148 1150 1163 1164 1174 1184 1190 1192 1197 1201 1209 1235 1244 1255\n",
      " 1256 1258 1261 1262 1269 1271 1277 1279 1285 1295 1308 1315 1317 1321 1323\n",
      " 1339 1349 1351 1361 1362 1374 1381 1389 1390 1391 1393 1402 1410 1418 1422\n",
      " 1425 1429 1430 1435 1440 1446 1447 1449 1451 1461 1477 1479 1483 1487 1488\n",
      " 1493 1510 1522 1540 1544 1546 1551 1559 1563 1565 1576 1592 1594 1601 1610\n",
      " 1624 1625 1630 1640 1643 1644 1649 1656 1657 1659 1669 1682 1689 1693 1699\n",
      " 1701 1707 1712 1714 1718 1721 1722 1723 1728 1736 1742 1743 1747 1749 1751\n",
      " 1756 1757 1759 1761 1769 1775 1781 1782 1786 1796 1800 1803 1806 1809 1810\n",
      " 1820 1825 1831 1832 1833 1840 1843 1851 1852 1853 1855 1860 1862 1863 1864\n",
      " 1869 1871 1879 1893 1896 1912 1913 1914 1915 1924 1935 1939 1945 1947 1948\n",
      " 1957 1967 1968 1980 1982 1984 1986 1987 1996 2005 2008 2017 2021 2026 2027\n",
      " 2041 2043 2054 2057 2078 2083 2090 2095 2103 2106 2120 2127 2132 2141 2143\n",
      " 2148 2151 2156 2161 2167 2204 2210 2223 2234 2235 2239 2245 2249 2273 2291\n",
      " 2294 2299 2305 2309 2312 2313 2314 2320 2324 2329 2331 2336 2338 2346 2362\n",
      " 2371 2389 2399 2403 2407 2421 2422 2423 2429 2430 2435 2437 2439 2443 2450\n",
      " 2453 2454 2455 2457 2459 2462 2481 2485 2487 2492 2493 2506 2513 2519 2534\n",
      " 2544 2567 2568 2569 2571 2580 2585 2586 2590 2591 2617 2619 2627 2633 2639\n",
      " 2658 2667 2679 2688 2693 2712 2714 2736 2745 2751 2758 2760 2763 2769 2772\n",
      " 2775 2790 2791 2794 2803 2812 2820 2824 2827 2843 2854 2858 2871 2873 2877\n",
      " 2882 2900 2918] are constant.\n",
      "  UserWarning)\n",
      "/Users/Izham/apps/miniconda3/lib/python3.4/site-packages/sklearn/feature_selection/univariate_selection.py:111: UserWarning: Features [  12  191  204  208  209  227  230  233  237  238  242  250  254  257  268\n",
      "  272  273  280  289  304  309  338  349  362  371  375  376  380  383  389\n",
      "  392  394  402  406  408  415  416  418  420  436  437  452  454  455  460\n",
      "  467  486  491  496  497  505  507  516  518  528  545  549  555  561  563\n",
      "  574  577  578  587  588  589  594  596  604  608  610  611  616  621  634\n",
      "  641  647  649  660  661  675  677  688  692  698  701  702  707  709  712\n",
      "  714  718  723  724  740  754  755  775  779  780  781  783  789  797  810\n",
      "  812  825  830  849  852  857  865  867  872  878  884  893  897  898  900\n",
      "  915  916  924  925  928  944  960  965  966  972  977  984  987  989  992\n",
      "  994 1003 1011 1013 1028 1036 1046 1052 1055 1056 1063 1064 1065 1067 1073\n",
      " 1081 1082 1083 1087 1089 1097 1099 1123 1135 1136 1138 1150 1151 1155 1159\n",
      " 1163 1167 1171 1174 1176 1179 1180 1184 1191 1193 1197 1198 1202 1216 1227\n",
      " 1234 1235 1243 1244 1255 1256 1261 1262 1272 1278 1285 1292 1295 1296 1306\n",
      " 1307 1308 1314 1315 1317 1321 1323 1339 1342 1344 1361 1362 1370 1380 1382\n",
      " 1384 1388 1395 1402 1403 1406 1407 1410 1412 1413 1420 1422 1425 1435 1446\n",
      " 1449 1455 1461 1464 1466 1471 1478 1479 1480 1483 1488 1489 1490 1512 1515\n",
      " 1518 1524 1538 1543 1552 1571 1578 1587 1597 1601 1607 1611 1630 1637 1653\n",
      " 1655 1669 1675 1683 1688 1695 1697 1700 1706 1714 1717 1721 1723 1739 1741\n",
      " 1744 1746 1748 1751 1759 1767 1782 1809 1818 1820 1831 1833 1840 1847 1860\n",
      " 1867 1873 1876 1887 1888 1889 1891 1896 1910 1913 1915 1927 1934 1935 1939\n",
      " 1940 1955 1956 1958 1960 1971 1977 1982 1987 1999 2002 2015 2017 2021 2027\n",
      " 2028 2046 2049 2050 2051 2057 2059 2065 2071 2072 2077 2079 2082 2083 2090\n",
      " 2098 2108 2113 2118 2119 2120 2121 2126 2129 2132 2141 2143 2148 2151 2154\n",
      " 2156 2173 2185 2187 2201 2205 2206 2212 2219 2229 2234 2238 2249 2264 2267\n",
      " 2270 2274 2285 2288 2289 2300 2302 2303 2305 2320 2321 2336 2338 2350 2356\n",
      " 2367 2371 2399 2403 2407 2413 2421 2423 2425 2428 2433 2435 2437 2438 2441\n",
      " 2452 2454 2467 2478 2479 2497 2526 2534 2540 2541 2561 2568 2578 2583 2590\n",
      " 2593 2594 2595 2598 2600 2612 2617 2621 2629 2646 2652 2654 2657 2659 2664\n",
      " 2668 2672 2676 2688 2693 2697 2708 2712 2714 2718 2733 2734 2757 2760 2779\n",
      " 2782 2796 2809 2810 2820 2838 2846 2851 2854 2861 2871 2872 2878 2886 2889\n",
      " 2891] are constant.\n",
      "  UserWarning)\n",
      "/Users/Izham/apps/miniconda3/lib/python3.4/site-packages/sklearn/feature_selection/univariate_selection.py:111: UserWarning: Features [  12  153  191  208  241  250  257  260  263  271  276  277  280  284  294\n",
      "  303  304  309  333  344  349  353  362  372  378  387  393  398  402  406\n",
      "  416  419  443  446  448  449  455  458  478  494  495  499  516  521  532\n",
      "  536  545  547  548  549  560  570  574  578  587  591  611  613  620  621\n",
      "  623  629  631  638  647  651  663  664  666  671  673  679  705  716  718\n",
      "  719  720  724  735  740  747  754  755  758  770  780  781  785  789  792\n",
      "  824  830  842  845  847  848  852  853  863  865  870  872  885  893  894\n",
      "  897  898  900  907  914  916  925  936  950  958  960  966  987  988  992\n",
      "  993  994  998  999 1000 1001 1005 1006 1011 1014 1017 1028 1035 1036 1043\n",
      " 1051 1055 1071 1072 1073 1074 1080 1087 1089 1091 1095 1099 1102 1103 1106\n",
      " 1121 1124 1138 1139 1145 1150 1163 1174 1178 1181 1182 1184 1197 1228 1235\n",
      " 1237 1239 1244 1248 1251 1255 1256 1261 1262 1273 1285 1286 1295 1302 1303\n",
      " 1308 1309 1315 1317 1319 1320 1321 1323 1338 1339 1348 1359 1360 1361 1362\n",
      " 1378 1399 1402 1404 1410 1417 1421 1422 1425 1435 1437 1441 1443 1446 1449\n",
      " 1461 1465 1467 1479 1482 1483 1486 1488 1491 1498 1517 1523 1533 1534 1535\n",
      " 1545 1547 1572 1580 1581 1584 1589 1596 1601 1614 1618 1629 1630 1633 1669\n",
      " 1681 1687 1714 1715 1716 1721 1723 1751 1759 1777 1778 1782 1784 1801 1802\n",
      " 1804 1805 1807 1809 1811 1820 1828 1831 1833 1834 1840 1844 1860 1883 1895\n",
      " 1896 1899 1902 1903 1908 1913 1915 1925 1935 1938 1939 1946 1952 1982 1987\n",
      " 1997 2011 2017 2019 2021 2027 2031 2044 2057 2058 2083 2084 2090 2093 2104\n",
      " 2120 2131 2132 2138 2140 2141 2143 2145 2148 2151 2156 2159 2160 2176 2182\n",
      " 2188 2189 2196 2198 2200 2207 2224 2232 2234 2242 2249 2252 2259 2261 2263\n",
      " 2276 2284 2304 2305 2320 2333 2336 2338 2339 2340 2360 2370 2371 2375 2376\n",
      " 2390 2399 2403 2407 2421 2423 2426 2434 2435 2437 2454 2463 2468 2471 2472\n",
      " 2488 2501 2507 2523 2534 2535 2536 2543 2552 2557 2568 2590 2606 2617 2622\n",
      " 2634 2647 2682 2685 2687 2688 2693 2695 2704 2712 2714 2726 2742 2760 2761\n",
      " 2773 2774 2778 2792 2800 2806 2815 2819 2820 2825 2832 2834 2850 2854 2857\n",
      " 2862 2864 2869 2871 2887 2892] are constant.\n",
      "  UserWarning)\n",
      "/Users/Izham/apps/miniconda3/lib/python3.4/site-packages/sklearn/feature_selection/univariate_selection.py:111: UserWarning: Features [  12  191  208  211  216  223  225  236  239  243  250  257  274  280  283\n",
      "  288  304  307  309  315  325  349  350  352  361  362  381  382  388  401\n",
      "  402  406  411  416  422  423  455  461  476  479  480  502  506  512  516\n",
      "  519  522  525  533  545  549  556  559  568  569  571  574  575  578  587\n",
      "  603  611  621  647  655  667  681  683  685  686  694  718  724  737  740\n",
      "  754  755  764  773  777  780  781  789  790  793  794  806  819  822  826\n",
      "  829  830  833  834  844  852  854  859  861  862  865  872  883  887  893\n",
      "  895  897  898  900  901  902  903  904  910  916  921  925  927  930  949\n",
      "  952  955  960  966  968  973  987  992  994 1011 1015 1028 1031 1036 1040\n",
      " 1045 1055 1066 1070 1073 1087 1089 1099 1107 1113 1118 1119 1126 1132 1138\n",
      " 1142 1148 1150 1163 1164 1174 1184 1190 1192 1197 1201 1209 1235 1244 1255\n",
      " 1256 1258 1261 1262 1269 1271 1277 1279 1285 1295 1308 1315 1317 1321 1323\n",
      " 1339 1349 1351 1361 1362 1374 1381 1389 1390 1391 1393 1402 1410 1418 1422\n",
      " 1425 1429 1430 1435 1440 1446 1447 1449 1451 1461 1477 1479 1483 1487 1488\n",
      " 1493 1510 1522 1540 1544 1546 1551 1559 1563 1565 1576 1592 1594 1601 1610\n",
      " 1624 1625 1630 1640 1643 1644 1649 1656 1657 1659 1669 1682 1689 1693 1699\n",
      " 1701 1707 1712 1714 1718 1721 1722 1723 1728 1736 1742 1743 1747 1749 1751\n",
      " 1756 1757 1759 1761 1769 1775 1781 1782 1786 1796 1800 1803 1806 1809 1810\n",
      " 1820 1825 1831 1832 1833 1840 1843 1851 1852 1853 1855 1860 1862 1863 1864\n",
      " 1869 1871 1879 1893 1896 1912 1913 1914 1915 1924 1935 1939 1945 1947 1948\n",
      " 1957 1967 1968 1980 1982 1984 1986 1987 1996 2005 2008 2017 2021 2026 2027\n",
      " 2041 2043 2054 2057 2078 2083 2090 2095 2103 2106 2120 2127 2132 2141 2143\n",
      " 2148 2151 2156 2161 2167 2204 2210 2223 2234 2235 2239 2245 2249 2273 2291\n",
      " 2294 2299 2305 2309 2312 2313 2314 2320 2324 2329 2331 2336 2338 2346 2362\n",
      " 2371 2389 2399 2403 2407 2421 2422 2423 2429 2430 2435 2437 2439 2443 2450\n",
      " 2453 2454 2455 2457 2459 2462 2481 2485 2487 2492 2493 2506 2513 2519 2534\n",
      " 2544 2567 2568 2569 2571 2580 2585 2586 2590 2591 2617 2619 2627 2633 2639\n",
      " 2658 2667 2679 2688 2693 2712 2714 2736 2745 2751 2758 2760 2763 2769 2772\n",
      " 2775 2790 2791 2794 2803 2812 2820 2824 2827 2843 2854 2858 2871 2873 2877\n",
      " 2882 2900 2918] are constant.\n",
      "  UserWarning)\n",
      "/Users/Izham/apps/miniconda3/lib/python3.4/site-packages/sklearn/feature_selection/univariate_selection.py:111: UserWarning: Features [  12  191  204  208  209  227  230  233  237  238  242  250  254  257  268\n",
      "  272  273  280  289  304  309  338  349  362  371  375  376  380  383  389\n",
      "  392  394  402  406  408  415  416  418  420  436  437  452  454  455  460\n",
      "  467  486  491  496  497  505  507  516  518  528  545  549  555  561  563\n",
      "  574  577  578  587  588  589  594  596  604  608  610  611  616  621  634\n",
      "  641  647  649  660  661  675  677  688  692  698  701  702  707  709  712\n",
      "  714  718  723  724  740  754  755  775  779  780  781  783  789  797  810\n",
      "  812  825  830  849  852  857  865  867  872  878  884  893  897  898  900\n",
      "  915  916  924  925  928  944  960  965  966  972  977  984  987  989  992\n",
      "  994 1003 1011 1013 1028 1036 1046 1052 1055 1056 1063 1064 1065 1067 1073\n",
      " 1081 1082 1083 1087 1089 1097 1099 1123 1135 1136 1138 1150 1151 1155 1159\n",
      " 1163 1167 1171 1174 1176 1179 1180 1184 1191 1193 1197 1198 1202 1216 1227\n",
      " 1234 1235 1243 1244 1255 1256 1261 1262 1272 1278 1285 1292 1295 1296 1306\n",
      " 1307 1308 1314 1315 1317 1321 1323 1339 1342 1344 1361 1362 1370 1380 1382\n",
      " 1384 1388 1395 1402 1403 1406 1407 1410 1412 1413 1420 1422 1425 1435 1446\n",
      " 1449 1455 1461 1464 1466 1471 1478 1479 1480 1483 1488 1489 1490 1512 1515\n",
      " 1518 1524 1538 1543 1552 1571 1578 1587 1597 1601 1607 1611 1630 1637 1653\n",
      " 1655 1669 1675 1683 1688 1695 1697 1700 1706 1714 1717 1721 1723 1739 1741\n",
      " 1744 1746 1748 1751 1759 1767 1782 1809 1818 1820 1831 1833 1840 1847 1860\n",
      " 1867 1873 1876 1887 1888 1889 1891 1896 1910 1913 1915 1927 1934 1935 1939\n",
      " 1940 1955 1956 1958 1960 1971 1977 1982 1987 1999 2002 2015 2017 2021 2027\n",
      " 2028 2046 2049 2050 2051 2057 2059 2065 2071 2072 2077 2079 2082 2083 2090\n",
      " 2098 2108 2113 2118 2119 2120 2121 2126 2129 2132 2141 2143 2148 2151 2154\n",
      " 2156 2173 2185 2187 2201 2205 2206 2212 2219 2229 2234 2238 2249 2264 2267\n",
      " 2270 2274 2285 2288 2289 2300 2302 2303 2305 2320 2321 2336 2338 2350 2356\n",
      " 2367 2371 2399 2403 2407 2413 2421 2423 2425 2428 2433 2435 2437 2438 2441\n",
      " 2452 2454 2467 2478 2479 2497 2526 2534 2540 2541 2561 2568 2578 2583 2590\n",
      " 2593 2594 2595 2598 2600 2612 2617 2621 2629 2646 2652 2654 2657 2659 2664\n",
      " 2668 2672 2676 2688 2693 2697 2708 2712 2714 2718 2733 2734 2757 2760 2779\n",
      " 2782 2796 2809 2810 2820 2838 2846 2851 2854 2861 2871 2872 2878 2886 2889\n",
      " 2891] are constant.\n",
      "  UserWarning)\n",
      "/Users/Izham/apps/miniconda3/lib/python3.4/site-packages/sklearn/feature_selection/univariate_selection.py:111: UserWarning: Features [  12  153  191  208  241  250  257  260  263  271  276  277  280  284  294\n",
      "  303  304  309  333  344  349  353  362  372  378  387  393  398  402  406\n",
      "  416  419  443  446  448  449  455  458  478  494  495  499  516  521  532\n",
      "  536  545  547  548  549  560  570  574  578  587  591  611  613  620  621\n",
      "  623  629  631  638  647  651  663  664  666  671  673  679  705  716  718\n",
      "  719  720  724  735  740  747  754  755  758  770  780  781  785  789  792\n",
      "  824  830  842  845  847  848  852  853  863  865  870  872  885  893  894\n",
      "  897  898  900  907  914  916  925  936  950  958  960  966  987  988  992\n",
      "  993  994  998  999 1000 1001 1005 1006 1011 1014 1017 1028 1035 1036 1043\n",
      " 1051 1055 1071 1072 1073 1074 1080 1087 1089 1091 1095 1099 1102 1103 1106\n",
      " 1121 1124 1138 1139 1145 1150 1163 1174 1178 1181 1182 1184 1197 1228 1235\n",
      " 1237 1239 1244 1248 1251 1255 1256 1261 1262 1273 1285 1286 1295 1302 1303\n",
      " 1308 1309 1315 1317 1319 1320 1321 1323 1338 1339 1348 1359 1360 1361 1362\n",
      " 1378 1399 1402 1404 1410 1417 1421 1422 1425 1435 1437 1441 1443 1446 1449\n",
      " 1461 1465 1467 1479 1482 1483 1486 1488 1491 1498 1517 1523 1533 1534 1535\n",
      " 1545 1547 1572 1580 1581 1584 1589 1596 1601 1614 1618 1629 1630 1633 1669\n",
      " 1681 1687 1714 1715 1716 1721 1723 1751 1759 1777 1778 1782 1784 1801 1802\n",
      " 1804 1805 1807 1809 1811 1820 1828 1831 1833 1834 1840 1844 1860 1883 1895\n",
      " 1896 1899 1902 1903 1908 1913 1915 1925 1935 1938 1939 1946 1952 1982 1987\n",
      " 1997 2011 2017 2019 2021 2027 2031 2044 2057 2058 2083 2084 2090 2093 2104\n",
      " 2120 2131 2132 2138 2140 2141 2143 2145 2148 2151 2156 2159 2160 2176 2182\n",
      " 2188 2189 2196 2198 2200 2207 2224 2232 2234 2242 2249 2252 2259 2261 2263\n",
      " 2276 2284 2304 2305 2320 2333 2336 2338 2339 2340 2360 2370 2371 2375 2376\n",
      " 2390 2399 2403 2407 2421 2423 2426 2434 2435 2437 2454 2463 2468 2471 2472\n",
      " 2488 2501 2507 2523 2534 2535 2536 2543 2552 2557 2568 2590 2606 2617 2622\n",
      " 2634 2647 2682 2685 2687 2688 2693 2695 2704 2712 2714 2726 2742 2760 2761\n",
      " 2773 2774 2778 2792 2800 2806 2815 2819 2820 2825 2832 2834 2850 2854 2857\n",
      " 2862 2864 2869 2871 2887 2892] are constant.\n",
      "  UserWarning)\n",
      "/Users/Izham/apps/miniconda3/lib/python3.4/site-packages/sklearn/feature_selection/univariate_selection.py:111: UserWarning: Features [  12  191  208  211  216  223  225  236  239  243  250  257  274  280  283\n",
      "  288  304  307  309  315  325  349  350  352  361  362  381  382  388  401\n",
      "  402  406  411  416  422  423  455  461  476  479  480  502  506  512  516\n",
      "  519  522  525  533  545  549  556  559  568  569  571  574  575  578  587\n",
      "  603  611  621  647  655  667  681  683  685  686  694  718  724  737  740\n",
      "  754  755  764  773  777  780  781  789  790  793  794  806  819  822  826\n",
      "  829  830  833  834  844  852  854  859  861  862  865  872  883  887  893\n",
      "  895  897  898  900  901  902  903  904  910  916  921  925  927  930  949\n",
      "  952  955  960  966  968  973  987  992  994 1011 1015 1028 1031 1036 1040\n",
      " 1045 1055 1066 1070 1073 1087 1089 1099 1107 1113 1118 1119 1126 1132 1138\n",
      " 1142 1148 1150 1163 1164 1174 1184 1190 1192 1197 1201 1209 1235 1244 1255\n",
      " 1256 1258 1261 1262 1269 1271 1277 1279 1285 1295 1308 1315 1317 1321 1323\n",
      " 1339 1349 1351 1361 1362 1374 1381 1389 1390 1391 1393 1402 1410 1418 1422\n",
      " 1425 1429 1430 1435 1440 1446 1447 1449 1451 1461 1477 1479 1483 1487 1488\n",
      " 1493 1510 1522 1540 1544 1546 1551 1559 1563 1565 1576 1592 1594 1601 1610\n",
      " 1624 1625 1630 1640 1643 1644 1649 1656 1657 1659 1669 1682 1689 1693 1699\n",
      " 1701 1707 1712 1714 1718 1721 1722 1723 1728 1736 1742 1743 1747 1749 1751\n",
      " 1756 1757 1759 1761 1769 1775 1781 1782 1786 1796 1800 1803 1806 1809 1810\n",
      " 1820 1825 1831 1832 1833 1840 1843 1851 1852 1853 1855 1860 1862 1863 1864\n",
      " 1869 1871 1879 1893 1896 1912 1913 1914 1915 1924 1935 1939 1945 1947 1948\n",
      " 1957 1967 1968 1980 1982 1984 1986 1987 1996 2005 2008 2017 2021 2026 2027\n",
      " 2041 2043 2054 2057 2078 2083 2090 2095 2103 2106 2120 2127 2132 2141 2143\n",
      " 2148 2151 2156 2161 2167 2204 2210 2223 2234 2235 2239 2245 2249 2273 2291\n",
      " 2294 2299 2305 2309 2312 2313 2314 2320 2324 2329 2331 2336 2338 2346 2362\n",
      " 2371 2389 2399 2403 2407 2421 2422 2423 2429 2430 2435 2437 2439 2443 2450\n",
      " 2453 2454 2455 2457 2459 2462 2481 2485 2487 2492 2493 2506 2513 2519 2534\n",
      " 2544 2567 2568 2569 2571 2580 2585 2586 2590 2591 2617 2619 2627 2633 2639\n",
      " 2658 2667 2679 2688 2693 2712 2714 2736 2745 2751 2758 2760 2763 2769 2772\n",
      " 2775 2790 2791 2794 2803 2812 2820 2824 2827 2843 2854 2858 2871 2873 2877\n",
      " 2882 2900 2918] are constant.\n",
      "  UserWarning)\n",
      "/Users/Izham/apps/miniconda3/lib/python3.4/site-packages/sklearn/feature_selection/univariate_selection.py:111: UserWarning: Features [  12  191  204  208  209  227  230  233  237  238  242  250  254  257  268\n",
      "  272  273  280  289  304  309  338  349  362  371  375  376  380  383  389\n",
      "  392  394  402  406  408  415  416  418  420  436  437  452  454  455  460\n",
      "  467  486  491  496  497  505  507  516  518  528  545  549  555  561  563\n",
      "  574  577  578  587  588  589  594  596  604  608  610  611  616  621  634\n",
      "  641  647  649  660  661  675  677  688  692  698  701  702  707  709  712\n",
      "  714  718  723  724  740  754  755  775  779  780  781  783  789  797  810\n",
      "  812  825  830  849  852  857  865  867  872  878  884  893  897  898  900\n",
      "  915  916  924  925  928  944  960  965  966  972  977  984  987  989  992\n",
      "  994 1003 1011 1013 1028 1036 1046 1052 1055 1056 1063 1064 1065 1067 1073\n",
      " 1081 1082 1083 1087 1089 1097 1099 1123 1135 1136 1138 1150 1151 1155 1159\n",
      " 1163 1167 1171 1174 1176 1179 1180 1184 1191 1193 1197 1198 1202 1216 1227\n",
      " 1234 1235 1243 1244 1255 1256 1261 1262 1272 1278 1285 1292 1295 1296 1306\n",
      " 1307 1308 1314 1315 1317 1321 1323 1339 1342 1344 1361 1362 1370 1380 1382\n",
      " 1384 1388 1395 1402 1403 1406 1407 1410 1412 1413 1420 1422 1425 1435 1446\n",
      " 1449 1455 1461 1464 1466 1471 1478 1479 1480 1483 1488 1489 1490 1512 1515\n",
      " 1518 1524 1538 1543 1552 1571 1578 1587 1597 1601 1607 1611 1630 1637 1653\n",
      " 1655 1669 1675 1683 1688 1695 1697 1700 1706 1714 1717 1721 1723 1739 1741\n",
      " 1744 1746 1748 1751 1759 1767 1782 1809 1818 1820 1831 1833 1840 1847 1860\n",
      " 1867 1873 1876 1887 1888 1889 1891 1896 1910 1913 1915 1927 1934 1935 1939\n",
      " 1940 1955 1956 1958 1960 1971 1977 1982 1987 1999 2002 2015 2017 2021 2027\n",
      " 2028 2046 2049 2050 2051 2057 2059 2065 2071 2072 2077 2079 2082 2083 2090\n",
      " 2098 2108 2113 2118 2119 2120 2121 2126 2129 2132 2141 2143 2148 2151 2154\n",
      " 2156 2173 2185 2187 2201 2205 2206 2212 2219 2229 2234 2238 2249 2264 2267\n",
      " 2270 2274 2285 2288 2289 2300 2302 2303 2305 2320 2321 2336 2338 2350 2356\n",
      " 2367 2371 2399 2403 2407 2413 2421 2423 2425 2428 2433 2435 2437 2438 2441\n",
      " 2452 2454 2467 2478 2479 2497 2526 2534 2540 2541 2561 2568 2578 2583 2590\n",
      " 2593 2594 2595 2598 2600 2612 2617 2621 2629 2646 2652 2654 2657 2659 2664\n",
      " 2668 2672 2676 2688 2693 2697 2708 2712 2714 2718 2733 2734 2757 2760 2779\n",
      " 2782 2796 2809 2810 2820 2838 2846 2851 2854 2861 2871 2872 2878 2886 2889\n",
      " 2891] are constant.\n",
      "  UserWarning)\n",
      "/Users/Izham/apps/miniconda3/lib/python3.4/site-packages/sklearn/feature_selection/univariate_selection.py:111: UserWarning: Features [  12  153  191  208  241  250  257  260  263  271  276  277  280  284  294\n",
      "  303  304  309  333  344  349  353  362  372  378  387  393  398  402  406\n",
      "  416  419  443  446  448  449  455  458  478  494  495  499  516  521  532\n",
      "  536  545  547  548  549  560  570  574  578  587  591  611  613  620  621\n",
      "  623  629  631  638  647  651  663  664  666  671  673  679  705  716  718\n",
      "  719  720  724  735  740  747  754  755  758  770  780  781  785  789  792\n",
      "  824  830  842  845  847  848  852  853  863  865  870  872  885  893  894\n",
      "  897  898  900  907  914  916  925  936  950  958  960  966  987  988  992\n",
      "  993  994  998  999 1000 1001 1005 1006 1011 1014 1017 1028 1035 1036 1043\n",
      " 1051 1055 1071 1072 1073 1074 1080 1087 1089 1091 1095 1099 1102 1103 1106\n",
      " 1121 1124 1138 1139 1145 1150 1163 1174 1178 1181 1182 1184 1197 1228 1235\n",
      " 1237 1239 1244 1248 1251 1255 1256 1261 1262 1273 1285 1286 1295 1302 1303\n",
      " 1308 1309 1315 1317 1319 1320 1321 1323 1338 1339 1348 1359 1360 1361 1362\n",
      " 1378 1399 1402 1404 1410 1417 1421 1422 1425 1435 1437 1441 1443 1446 1449\n",
      " 1461 1465 1467 1479 1482 1483 1486 1488 1491 1498 1517 1523 1533 1534 1535\n",
      " 1545 1547 1572 1580 1581 1584 1589 1596 1601 1614 1618 1629 1630 1633 1669\n",
      " 1681 1687 1714 1715 1716 1721 1723 1751 1759 1777 1778 1782 1784 1801 1802\n",
      " 1804 1805 1807 1809 1811 1820 1828 1831 1833 1834 1840 1844 1860 1883 1895\n",
      " 1896 1899 1902 1903 1908 1913 1915 1925 1935 1938 1939 1946 1952 1982 1987\n",
      " 1997 2011 2017 2019 2021 2027 2031 2044 2057 2058 2083 2084 2090 2093 2104\n",
      " 2120 2131 2132 2138 2140 2141 2143 2145 2148 2151 2156 2159 2160 2176 2182\n",
      " 2188 2189 2196 2198 2200 2207 2224 2232 2234 2242 2249 2252 2259 2261 2263\n",
      " 2276 2284 2304 2305 2320 2333 2336 2338 2339 2340 2360 2370 2371 2375 2376\n",
      " 2390 2399 2403 2407 2421 2423 2426 2434 2435 2437 2454 2463 2468 2471 2472\n",
      " 2488 2501 2507 2523 2534 2535 2536 2543 2552 2557 2568 2590 2606 2617 2622\n",
      " 2634 2647 2682 2685 2687 2688 2693 2695 2704 2712 2714 2726 2742 2760 2761\n",
      " 2773 2774 2778 2792 2800 2806 2815 2819 2820 2825 2832 2834 2850 2854 2857\n",
      " 2862 2864 2869 2871 2887 2892] are constant.\n",
      "  UserWarning)\n",
      "/Users/Izham/apps/miniconda3/lib/python3.4/site-packages/sklearn/feature_selection/univariate_selection.py:111: UserWarning: Features [  12  191  208  211  216  223  225  236  239  243  250  257  274  280  283\n",
      "  288  304  307  309  315  325  349  350  352  361  362  381  382  388  401\n",
      "  402  406  411  416  422  423  455  461  476  479  480  502  506  512  516\n",
      "  519  522  525  533  545  549  556  559  568  569  571  574  575  578  587\n",
      "  603  611  621  647  655  667  681  683  685  686  694  718  724  737  740\n",
      "  754  755  764  773  777  780  781  789  790  793  794  806  819  822  826\n",
      "  829  830  833  834  844  852  854  859  861  862  865  872  883  887  893\n",
      "  895  897  898  900  901  902  903  904  910  916  921  925  927  930  949\n",
      "  952  955  960  966  968  973  987  992  994 1011 1015 1028 1031 1036 1040\n",
      " 1045 1055 1066 1070 1073 1087 1089 1099 1107 1113 1118 1119 1126 1132 1138\n",
      " 1142 1148 1150 1163 1164 1174 1184 1190 1192 1197 1201 1209 1235 1244 1255\n",
      " 1256 1258 1261 1262 1269 1271 1277 1279 1285 1295 1308 1315 1317 1321 1323\n",
      " 1339 1349 1351 1361 1362 1374 1381 1389 1390 1391 1393 1402 1410 1418 1422\n",
      " 1425 1429 1430 1435 1440 1446 1447 1449 1451 1461 1477 1479 1483 1487 1488\n",
      " 1493 1510 1522 1540 1544 1546 1551 1559 1563 1565 1576 1592 1594 1601 1610\n",
      " 1624 1625 1630 1640 1643 1644 1649 1656 1657 1659 1669 1682 1689 1693 1699\n",
      " 1701 1707 1712 1714 1718 1721 1722 1723 1728 1736 1742 1743 1747 1749 1751\n",
      " 1756 1757 1759 1761 1769 1775 1781 1782 1786 1796 1800 1803 1806 1809 1810\n",
      " 1820 1825 1831 1832 1833 1840 1843 1851 1852 1853 1855 1860 1862 1863 1864\n",
      " 1869 1871 1879 1893 1896 1912 1913 1914 1915 1924 1935 1939 1945 1947 1948\n",
      " 1957 1967 1968 1980 1982 1984 1986 1987 1996 2005 2008 2017 2021 2026 2027\n",
      " 2041 2043 2054 2057 2078 2083 2090 2095 2103 2106 2120 2127 2132 2141 2143\n",
      " 2148 2151 2156 2161 2167 2204 2210 2223 2234 2235 2239 2245 2249 2273 2291\n",
      " 2294 2299 2305 2309 2312 2313 2314 2320 2324 2329 2331 2336 2338 2346 2362\n",
      " 2371 2389 2399 2403 2407 2421 2422 2423 2429 2430 2435 2437 2439 2443 2450\n",
      " 2453 2454 2455 2457 2459 2462 2481 2485 2487 2492 2493 2506 2513 2519 2534\n",
      " 2544 2567 2568 2569 2571 2580 2585 2586 2590 2591 2617 2619 2627 2633 2639\n",
      " 2658 2667 2679 2688 2693 2712 2714 2736 2745 2751 2758 2760 2763 2769 2772\n",
      " 2775 2790 2791 2794 2803 2812 2820 2824 2827 2843 2854 2858 2871 2873 2877\n",
      " 2882 2900 2918] are constant.\n",
      "  UserWarning)\n",
      "/Users/Izham/apps/miniconda3/lib/python3.4/site-packages/sklearn/feature_selection/univariate_selection.py:111: UserWarning: Features [  12  191  208  250  257  280  304  309  349  362  402  406  416  455  516\n",
      "  545  549  574  578  587  611  621  647  718  724  740  754  755  780  781\n",
      "  789  830  852  865  872  893  897  898  900  916  925  960  966  987  992\n",
      "  994 1011 1028 1036 1055 1073 1087 1089 1099 1138 1150 1163 1174 1184 1197\n",
      " 1235 1244 1255 1256 1261 1262 1285 1295 1308 1315 1317 1321 1323 1339 1361\n",
      " 1362 1402 1410 1422 1425 1435 1446 1449 1461 1479 1483 1488 1601 1630 1669\n",
      " 1714 1721 1723 1751 1759 1782 1809 1820 1831 1833 1840 1860 1896 1913 1915\n",
      " 1935 1939 1982 1987 2017 2021 2027 2057 2083 2090 2120 2132 2141 2143 2148\n",
      " 2151 2156 2234 2249 2305 2320 2336 2338 2371 2399 2403 2407 2421 2423 2435\n",
      " 2437 2454 2534 2568 2590 2617 2688 2693 2712 2714 2760 2820 2854 2871] are constant.\n",
      "  UserWarning)\n"
     ]
    }
   ],
   "source": [
    "import sklearn.grid_search\n",
    "\n",
    "\n",
    "parameters = dict(feature_selection__k=[100], # could be more [100, 200] \n",
    "              #random_forest__n_estimators=[50], # [50, 100, 200] # the number of trees\n",
    "              random_forest__min_samples_split=[10], # [2, 3, 4, 5, 10]\n",
    "              random_forest__min_samples_leaf = [5, 10],\n",
    "              random_forest__n_estimators = [10, 20])\n",
    "\n",
    "cv = sklearn.grid_search.GridSearchCV(pipeline, param_grid=parameters)\n",
    "\n",
    "cv.fit(X_train, y_train0)\n",
    "y_predictions = cv.predict(X_test)\n",
    "report = sklearn.metrics.classification_report( y_test0, y_predictions )"
   ]
  },
  {
   "cell_type": "code",
   "execution_count": 45,
   "metadata": {
    "collapsed": false
   },
   "outputs": [
    {
     "name": "stdout",
     "output_type": "stream",
     "text": [
      "             precision    recall  f1-score   support\n",
      "\n",
      "          0       0.82      0.71      0.76      4565\n",
      "          1       0.63      0.17      0.27       863\n",
      "          2       0.76      0.91      0.83      6452\n",
      "\n",
      "avg / total       0.78      0.78      0.76     11880\n",
      "\n"
     ]
    }
   ],
   "source": [
    "print(report)"
   ]
  },
  {
   "cell_type": "code",
   "execution_count": null,
   "metadata": {
    "collapsed": true
   },
   "outputs": [],
   "source": []
  }
 ],
 "metadata": {
  "kernelspec": {
   "display_name": "Python 3",
   "language": "python",
   "name": "python3"
  },
  "language_info": {
   "codemirror_mode": {
    "name": "ipython",
    "version": 3
   },
   "file_extension": ".py",
   "mimetype": "text/x-python",
   "name": "python",
   "nbconvert_exporter": "python",
   "pygments_lexer": "ipython3",
   "version": "3.4.5"
  }
 },
 "nbformat": 4,
 "nbformat_minor": 0
}
