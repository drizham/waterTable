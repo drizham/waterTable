{
 "cells": [
  {
   "cell_type": "markdown",
   "metadata": {},
   "source": [
    "https://civisanalytics.com/blog/data-science/2015/12/17/workflows-in-python-getting-data-ready-to-build-models/"
   ]
  },
  {
   "cell_type": "markdown",
   "metadata": {},
   "source": [
    "Data source: https://www.drivendata.org/competitions/7/page/25/"
   ]
  },
  {
   "cell_type": "markdown",
   "metadata": {},
   "source": [
    "<ol>\n",
    "<li>steps</li>\n",
    "<li>steps</li>\n",
    "<li>steps</li>\n",
    "</ol>"
   ]
  },
  {
   "cell_type": "code",
   "execution_count": 16,
   "metadata": {
    "collapsed": false
   },
   "outputs": [
    {
     "name": "stdout",
     "output_type": "stream",
     "text": [
      "         status_group\n",
      "id                   \n",
      "69572      functional\n",
      "8776       functional\n",
      "34310      functional\n",
      "67743  non functional\n"
     ]
    }
   ],
   "source": [
    "import pandas as pd\n",
    "import numpy as np\n",
    "\n",
    "features_df = pd.DataFrame.from_csv(\"well_data.csv\") # features data\n",
    "labels_df   = pd.DataFrame.from_csv(\"well_labels.csv\") # labels\n",
    "print( labels_df.head(4) )"
   ]
  },
  {
   "cell_type": "code",
   "execution_count": 17,
   "metadata": {
    "collapsed": false
   },
   "outputs": [
    {
     "data": {
      "text/plain": [
       "array(['functional', 'non functional', 'functional needs repair'], dtype=object)"
      ]
     },
     "execution_count": 17,
     "metadata": {},
     "output_type": "execute_result"
    }
   ],
   "source": [
    "# list all the unique entries of the labels\n",
    "labels_df['status_group'].unique()"
   ]
  },
  {
   "cell_type": "code",
   "execution_count": 18,
   "metadata": {
    "collapsed": false
   },
   "outputs": [
    {
     "name": "stdout",
     "output_type": "stream",
     "text": [
      "       status_group\n",
      "id                 \n",
      "69572             2\n",
      "8776              2\n",
      "34310             2\n",
      "67743             0\n",
      "19728             2\n"
     ]
    }
   ],
   "source": [
    "#function to map the labels from string to ints\n",
    "def label_map(y):\n",
    "   if y==\"functional\":\n",
    "       return 2\n",
    "   elif y==\"functional needs repair\":\n",
    "       return 1\n",
    "   else:\n",
    "       return 0\n",
    "labels_df = labels_df.applymap(label_map) # map labels\n",
    "\n",
    "#test\n",
    "print( labels_df.head() )"
   ]
  },
  {
   "cell_type": "code",
   "execution_count": 19,
   "metadata": {
    "collapsed": false
   },
   "outputs": [
    {
     "data": {
      "text/plain": [
       "array([2, 0, 1])"
      ]
     },
     "execution_count": 19,
     "metadata": {},
     "output_type": "execute_result"
    }
   ],
   "source": [
    "# Check that the labels have been encoded to ints 0,1,2\n",
    "labels_df['status_group'].unique()"
   ]
  },
  {
   "cell_type": "code",
   "execution_count": 60,
   "metadata": {
    "collapsed": false
   },
   "outputs": [
    {
     "data": {
      "text/plain": [
       "status_group\n",
       "0    22824\n",
       "1     4317\n",
       "2    32259\n",
       "dtype: int64"
      ]
     },
     "execution_count": 60,
     "metadata": {},
     "output_type": "execute_result"
    }
   ],
   "source": [
    "%matplotlib inline\n",
    "labels_df.groupby('status_group').size()#.plot()"
   ]
  },
  {
   "cell_type": "code",
   "execution_count": 20,
   "metadata": {
    "collapsed": false
   },
   "outputs": [
    {
     "data": {
      "text/html": [
       "<div>\n",
       "<table border=\"1\" class=\"dataframe\">\n",
       "  <thead>\n",
       "    <tr style=\"text-align: right;\">\n",
       "      <th></th>\n",
       "      <th>amount_tsh</th>\n",
       "      <th>date_recorded</th>\n",
       "      <th>funder</th>\n",
       "      <th>gps_height</th>\n",
       "      <th>installer</th>\n",
       "      <th>longitude</th>\n",
       "      <th>latitude</th>\n",
       "      <th>wpt_name</th>\n",
       "      <th>num_private</th>\n",
       "      <th>basin</th>\n",
       "      <th>...</th>\n",
       "      <th>payment_type</th>\n",
       "      <th>water_quality</th>\n",
       "      <th>quality_group</th>\n",
       "      <th>quantity</th>\n",
       "      <th>quantity_group</th>\n",
       "      <th>source</th>\n",
       "      <th>source_type</th>\n",
       "      <th>source_class</th>\n",
       "      <th>waterpoint_type</th>\n",
       "      <th>waterpoint_type_group</th>\n",
       "    </tr>\n",
       "    <tr>\n",
       "      <th>id</th>\n",
       "      <th></th>\n",
       "      <th></th>\n",
       "      <th></th>\n",
       "      <th></th>\n",
       "      <th></th>\n",
       "      <th></th>\n",
       "      <th></th>\n",
       "      <th></th>\n",
       "      <th></th>\n",
       "      <th></th>\n",
       "      <th></th>\n",
       "      <th></th>\n",
       "      <th></th>\n",
       "      <th></th>\n",
       "      <th></th>\n",
       "      <th></th>\n",
       "      <th></th>\n",
       "      <th></th>\n",
       "      <th></th>\n",
       "      <th></th>\n",
       "      <th></th>\n",
       "    </tr>\n",
       "  </thead>\n",
       "  <tbody>\n",
       "    <tr>\n",
       "      <th>69572</th>\n",
       "      <td>6000</td>\n",
       "      <td>2011-03-14</td>\n",
       "      <td>Roman</td>\n",
       "      <td>1390</td>\n",
       "      <td>Roman</td>\n",
       "      <td>34.938093</td>\n",
       "      <td>-9.856322</td>\n",
       "      <td>none</td>\n",
       "      <td>0</td>\n",
       "      <td>Lake Nyasa</td>\n",
       "      <td>...</td>\n",
       "      <td>annually</td>\n",
       "      <td>soft</td>\n",
       "      <td>good</td>\n",
       "      <td>enough</td>\n",
       "      <td>enough</td>\n",
       "      <td>spring</td>\n",
       "      <td>spring</td>\n",
       "      <td>groundwater</td>\n",
       "      <td>communal standpipe</td>\n",
       "      <td>communal standpipe</td>\n",
       "    </tr>\n",
       "    <tr>\n",
       "      <th>8776</th>\n",
       "      <td>0</td>\n",
       "      <td>2013-03-06</td>\n",
       "      <td>Grumeti</td>\n",
       "      <td>1399</td>\n",
       "      <td>GRUMETI</td>\n",
       "      <td>34.698766</td>\n",
       "      <td>-2.147466</td>\n",
       "      <td>Zahanati</td>\n",
       "      <td>0</td>\n",
       "      <td>Lake Victoria</td>\n",
       "      <td>...</td>\n",
       "      <td>never pay</td>\n",
       "      <td>soft</td>\n",
       "      <td>good</td>\n",
       "      <td>insufficient</td>\n",
       "      <td>insufficient</td>\n",
       "      <td>rainwater harvesting</td>\n",
       "      <td>rainwater harvesting</td>\n",
       "      <td>surface</td>\n",
       "      <td>communal standpipe</td>\n",
       "      <td>communal standpipe</td>\n",
       "    </tr>\n",
       "  </tbody>\n",
       "</table>\n",
       "<p>2 rows × 39 columns</p>\n",
       "</div>"
      ],
      "text/plain": [
       "       amount_tsh date_recorded   funder  gps_height installer  longitude  \\\n",
       "id                                                                          \n",
       "69572        6000    2011-03-14    Roman        1390     Roman  34.938093   \n",
       "8776            0    2013-03-06  Grumeti        1399   GRUMETI  34.698766   \n",
       "\n",
       "       latitude  wpt_name  num_private          basin          ...           \\\n",
       "id                                                             ...            \n",
       "69572 -9.856322      none            0     Lake Nyasa          ...            \n",
       "8776  -2.147466  Zahanati            0  Lake Victoria          ...            \n",
       "\n",
       "      payment_type water_quality  quality_group      quantity quantity_group  \\\n",
       "id                                                                             \n",
       "69572     annually          soft           good        enough         enough   \n",
       "8776     never pay          soft           good  insufficient   insufficient   \n",
       "\n",
       "                     source           source_type source_class  \\\n",
       "id                                                               \n",
       "69572                spring                spring  groundwater   \n",
       "8776   rainwater harvesting  rainwater harvesting      surface   \n",
       "\n",
       "          waterpoint_type waterpoint_type_group  \n",
       "id                                               \n",
       "69572  communal standpipe    communal standpipe  \n",
       "8776   communal standpipe    communal standpipe  \n",
       "\n",
       "[2 rows x 39 columns]"
      ]
     },
     "execution_count": 20,
     "metadata": {},
     "output_type": "execute_result"
    }
   ],
   "source": [
    "features_df.head(2)"
   ]
  },
  {
   "cell_type": "code",
   "execution_count": 21,
   "metadata": {
    "collapsed": false
   },
   "outputs": [
    {
     "data": {
      "text/plain": [
       "Index(['amount_tsh', 'date_recorded', 'funder', 'gps_height', 'installer',\n",
       "       'longitude', 'latitude', 'wpt_name', 'num_private', 'basin',\n",
       "       'subvillage', 'region', 'region_code', 'district_code', 'lga', 'ward',\n",
       "       'population', 'public_meeting', 'recorded_by', 'scheme_management',\n",
       "       'scheme_name', 'permit', 'construction_year', 'extraction_type',\n",
       "       'extraction_type_group', 'extraction_type_class', 'management',\n",
       "       'management_group', 'payment', 'payment_type', 'water_quality',\n",
       "       'quality_group', 'quantity', 'quantity_group', 'source', 'source_type',\n",
       "       'source_class', 'waterpoint_type', 'waterpoint_type_group'],\n",
       "      dtype='object')"
      ]
     },
     "execution_count": 21,
     "metadata": {},
     "output_type": "execute_result"
    }
   ],
   "source": [
    "#features_df.columns.map(lambda x: print(x)) # one way of printing the list of features line by line\n",
    "features_df.columns"
   ]
  },
  {
   "cell_type": "code",
   "execution_count": 22,
   "metadata": {
    "collapsed": false
   },
   "outputs": [],
   "source": [
    "#set(features_df['funder'].tolist()) # to find all the unique entries in a column\n",
    "## example to show how dictionay is populated\n",
    "#unique_values = np.array(['zack', 'happy', 'funny', 'panda']).tolist()\n",
    "#unique_values\n",
    "#transformer_dict = {}\n",
    "#for ii, value in enumerate(unique_values):\n",
    "#    transformer_dict[value] = ii"
   ]
  },
  {
   "cell_type": "code",
   "execution_count": 23,
   "metadata": {
    "collapsed": false
   },
   "outputs": [
    {
     "name": "stdout",
     "output_type": "stream",
     "text": [
      "       amount_tsh date_recorded  funder  gps_height  installer  longitude  \\\n",
      "id                                                                          \n",
      "69572        6000    2011-03-14    1308        1390       1475  34.938093   \n",
      "8776            0    2013-03-06     908        1399       1735  34.698766   \n",
      "34310          25    2013-02-25     583         686        103  37.460664   \n",
      "67743           0    2013-01-28     652         263       1072  38.486161   \n",
      "19728           0    2011-07-13    1105           0       1232  31.130847   \n",
      "\n",
      "        latitude  wpt_name  num_private  basin          ...            \\\n",
      "id                                                      ...             \n",
      "69572  -9.856322     27889            0      8          ...             \n",
      "8776   -2.147466     12883            0      0          ...             \n",
      "34310  -3.821329      1444            0      3          ...             \n",
      "67743 -11.155298     25502            0      2          ...             \n",
      "19728  -1.825359     26429            0      0          ...             \n",
      "\n",
      "       payment_type  water_quality  quality_group  quantity  quantity_group  \\\n",
      "id                                                                            \n",
      "69572             3              7              3         0               0   \n",
      "8776              2              7              3         4               4   \n",
      "34310             6              7              3         0               0   \n",
      "67743             2              7              3         1               1   \n",
      "19728             2              7              3         2               2   \n",
      "\n",
      "       source  source_type  source_class  waterpoint_type  \\\n",
      "id                                                          \n",
      "69572       2            1             1                0   \n",
      "8776        9            5             0                0   \n",
      "34310       7            3             0                3   \n",
      "67743       1            4             1                3   \n",
      "19728       9            5             0                0   \n",
      "\n",
      "       waterpoint_type_group  \n",
      "id                            \n",
      "69572                      0  \n",
      "8776                       0  \n",
      "34310                      0  \n",
      "67743                      0  \n",
      "19728                      0  \n",
      "\n",
      "[5 rows x 39 columns]\n"
     ]
    }
   ],
   "source": [
    "# This transforms the categorical features into ints\n",
    "# NOTE: This is NOT one-hot-encoding\n",
    "def transform_feature( df, column_name ):\n",
    "    \n",
    "    unique_values = set( df[column_name].tolist() ) # find unique entries in column\n",
    "    # init dict & populate dic, assign int to each elem in unique_values\n",
    "    transformer_dict = {}\n",
    "    for ii, value in enumerate(unique_values):\n",
    "        transformer_dict[value] = ii\n",
    "\n",
    "    def label_map(y):\n",
    "        return transformer_dict[y]\n",
    "    df[column_name] = df[column_name].apply( label_map )\n",
    "    return df\n",
    "\n",
    "### list of column names indicating which columns to transform; \n",
    "### this is just a start!  Use some of the print( labels_df.head() )\n",
    "### output upstream to help you decide which columns get the\n",
    "### transformation\n",
    "names_of_columns_to_transform = [\"funder\", \"installer\", \"wpt_name\", \"basin\", \"subvillage\",\n",
    "                    \"region\", \"lga\", \"ward\", \"public_meeting\", \"recorded_by\",\n",
    "                    \"scheme_management\", \"scheme_name\", \"permit\",\n",
    "                    \"extraction_type\", \"extraction_type_group\",\n",
    "                    \"extraction_type_class\",\n",
    "                    \"management\", \"management_group\",\n",
    "                    \"payment\", \"payment_type\",\n",
    "                    \"water_quality\", \"quality_group\", \"quantity\", \"quantity_group\",\n",
    "                    \"source\", \"source_type\", \"source_class\",\n",
    "                    \"waterpoint_type\", \"waterpoint_type_group\"]\n",
    "for column in names_of_columns_to_transform:\n",
    "    features_df = transform_feature( features_df, column )\n",
    "    \n",
    "print( features_df.head() )"
   ]
  },
  {
   "cell_type": "code",
   "execution_count": 24,
   "metadata": {
    "collapsed": false
   },
   "outputs": [
    {
     "name": "stdout",
     "output_type": "stream",
     "text": [
      "['amount_tsh' 'funder' 'gps_height' 'installer' 'longitude' 'latitude'\n",
      " 'wpt_name' 'num_private' 'basin' 'subvillage' 'region' 'region_code'\n",
      " 'district_code' 'lga' 'ward' 'population' 'public_meeting' 'recorded_by'\n",
      " 'scheme_management' 'scheme_name' 'permit' 'construction_year'\n",
      " 'extraction_type' 'extraction_type_group' 'extraction_type_class'\n",
      " 'management' 'management_group' 'payment' 'payment_type' 'water_quality'\n",
      " 'quality_group' 'quantity' 'quantity_group' 'source' 'source_type'\n",
      " 'source_class' 'waterpoint_type' 'waterpoint_type_group']\n"
     ]
    }
   ],
   "source": [
    "### remove the \"date_recorded\" column--we're not going to make use\n",
    "### of time-series data today\n",
    "features_df.drop(\"date_recorded\", axis=1, inplace=True)\n",
    "\n",
    "print(features_df.columns.values)"
   ]
  },
  {
   "cell_type": "code",
   "execution_count": 25,
   "metadata": {
    "collapsed": false
   },
   "outputs": [
    {
     "data": {
      "text/html": [
       "<div>\n",
       "<table border=\"1\" class=\"dataframe\">\n",
       "  <thead>\n",
       "    <tr style=\"text-align: right;\">\n",
       "      <th></th>\n",
       "      <th>amount_tsh</th>\n",
       "      <th>funder</th>\n",
       "      <th>gps_height</th>\n",
       "      <th>installer</th>\n",
       "      <th>longitude</th>\n",
       "      <th>latitude</th>\n",
       "      <th>wpt_name</th>\n",
       "      <th>num_private</th>\n",
       "      <th>basin</th>\n",
       "      <th>subvillage</th>\n",
       "      <th>...</th>\n",
       "      <th>payment_type</th>\n",
       "      <th>water_quality</th>\n",
       "      <th>quality_group</th>\n",
       "      <th>quantity</th>\n",
       "      <th>quantity_group</th>\n",
       "      <th>source</th>\n",
       "      <th>source_type</th>\n",
       "      <th>source_class</th>\n",
       "      <th>waterpoint_type</th>\n",
       "      <th>waterpoint_type_group</th>\n",
       "    </tr>\n",
       "    <tr>\n",
       "      <th>id</th>\n",
       "      <th></th>\n",
       "      <th></th>\n",
       "      <th></th>\n",
       "      <th></th>\n",
       "      <th></th>\n",
       "      <th></th>\n",
       "      <th></th>\n",
       "      <th></th>\n",
       "      <th></th>\n",
       "      <th></th>\n",
       "      <th></th>\n",
       "      <th></th>\n",
       "      <th></th>\n",
       "      <th></th>\n",
       "      <th></th>\n",
       "      <th></th>\n",
       "      <th></th>\n",
       "      <th></th>\n",
       "      <th></th>\n",
       "      <th></th>\n",
       "      <th></th>\n",
       "    </tr>\n",
       "  </thead>\n",
       "  <tbody>\n",
       "    <tr>\n",
       "      <th>69572</th>\n",
       "      <td>6000</td>\n",
       "      <td>1308</td>\n",
       "      <td>1390</td>\n",
       "      <td>1475</td>\n",
       "      <td>34.938093</td>\n",
       "      <td>-9.856322</td>\n",
       "      <td>27889</td>\n",
       "      <td>0</td>\n",
       "      <td>8</td>\n",
       "      <td>13621</td>\n",
       "      <td>...</td>\n",
       "      <td>3</td>\n",
       "      <td>7</td>\n",
       "      <td>3</td>\n",
       "      <td>0</td>\n",
       "      <td>0</td>\n",
       "      <td>2</td>\n",
       "      <td>1</td>\n",
       "      <td>1</td>\n",
       "      <td>0</td>\n",
       "      <td>0</td>\n",
       "    </tr>\n",
       "    <tr>\n",
       "      <th>8776</th>\n",
       "      <td>0</td>\n",
       "      <td>908</td>\n",
       "      <td>1399</td>\n",
       "      <td>1735</td>\n",
       "      <td>34.698766</td>\n",
       "      <td>-2.147466</td>\n",
       "      <td>12883</td>\n",
       "      <td>0</td>\n",
       "      <td>0</td>\n",
       "      <td>10916</td>\n",
       "      <td>...</td>\n",
       "      <td>2</td>\n",
       "      <td>7</td>\n",
       "      <td>3</td>\n",
       "      <td>4</td>\n",
       "      <td>4</td>\n",
       "      <td>9</td>\n",
       "      <td>5</td>\n",
       "      <td>0</td>\n",
       "      <td>0</td>\n",
       "      <td>0</td>\n",
       "    </tr>\n",
       "    <tr>\n",
       "      <th>34310</th>\n",
       "      <td>25</td>\n",
       "      <td>583</td>\n",
       "      <td>686</td>\n",
       "      <td>103</td>\n",
       "      <td>37.460664</td>\n",
       "      <td>-3.821329</td>\n",
       "      <td>1444</td>\n",
       "      <td>0</td>\n",
       "      <td>3</td>\n",
       "      <td>17145</td>\n",
       "      <td>...</td>\n",
       "      <td>6</td>\n",
       "      <td>7</td>\n",
       "      <td>3</td>\n",
       "      <td>0</td>\n",
       "      <td>0</td>\n",
       "      <td>7</td>\n",
       "      <td>3</td>\n",
       "      <td>0</td>\n",
       "      <td>3</td>\n",
       "      <td>0</td>\n",
       "    </tr>\n",
       "  </tbody>\n",
       "</table>\n",
       "<p>3 rows × 38 columns</p>\n",
       "</div>"
      ],
      "text/plain": [
       "       amount_tsh  funder  gps_height  installer  longitude  latitude  \\\n",
       "id                                                                      \n",
       "69572        6000    1308        1390       1475  34.938093 -9.856322   \n",
       "8776            0     908        1399       1735  34.698766 -2.147466   \n",
       "34310          25     583         686        103  37.460664 -3.821329   \n",
       "\n",
       "       wpt_name  num_private  basin  subvillage          ...            \\\n",
       "id                                                       ...             \n",
       "69572     27889            0      8       13621          ...             \n",
       "8776      12883            0      0       10916          ...             \n",
       "34310      1444            0      3       17145          ...             \n",
       "\n",
       "       payment_type  water_quality  quality_group  quantity  quantity_group  \\\n",
       "id                                                                            \n",
       "69572             3              7              3         0               0   \n",
       "8776              2              7              3         4               4   \n",
       "34310             6              7              3         0               0   \n",
       "\n",
       "       source  source_type  source_class  waterpoint_type  \\\n",
       "id                                                          \n",
       "69572       2            1             1                0   \n",
       "8776        9            5             0                0   \n",
       "34310       7            3             0                3   \n",
       "\n",
       "       waterpoint_type_group  \n",
       "id                            \n",
       "69572                      0  \n",
       "8776                       0  \n",
       "34310                      0  \n",
       "\n",
       "[3 rows x 38 columns]"
      ]
     },
     "execution_count": 25,
     "metadata": {},
     "output_type": "execute_result"
    }
   ],
   "source": [
    "features_df.head(3)"
   ]
  },
  {
   "cell_type": "code",
   "execution_count": 26,
   "metadata": {
    "collapsed": true
   },
   "outputs": [],
   "source": [
    "# The features and labels are taken out of their dataframe\n",
    "# and put into a numpy.ndarray and list, respectively.\n",
    "X = features_df.as_matrix()\n",
    "y = labels_df[\"status_group\"].tolist()"
   ]
  },
  {
   "cell_type": "code",
   "execution_count": 27,
   "metadata": {
    "collapsed": false
   },
   "outputs": [
    {
     "name": "stdout",
     "output_type": "stream",
     "text": [
      "[ 0.62510101  0.62626263  0.62030303]\n"
     ]
    }
   ],
   "source": [
    "# logistic regression\n",
    "import sklearn.linear_model\n",
    "import sklearn.cross_validation\n",
    "\n",
    "clf = sklearn.linear_model.LogisticRegression()\n",
    "score = sklearn.cross_validation.cross_val_score( clf, X, y )\n",
    "print( score )\n"
   ]
  },
  {
   "cell_type": "code",
   "execution_count": 28,
   "metadata": {
    "collapsed": false
   },
   "outputs": [
    {
     "name": "stdout",
     "output_type": "stream",
     "text": [
      "[ 0.73373737  0.73338384  0.73626263]\n"
     ]
    }
   ],
   "source": [
    "# random forest\n",
    "import sklearn.tree\n",
    "import sklearn.ensemble\n",
    "\n",
    "clf = sklearn.tree.DecisionTreeClassifier()\n",
    "score = sklearn.cross_validation.cross_val_score( clf, X, y )\n",
    "print( score )"
   ]
  },
  {
   "cell_type": "code",
   "execution_count": 29,
   "metadata": {
    "collapsed": false
   },
   "outputs": [
    {
     "name": "stdout",
     "output_type": "stream",
     "text": [
      "[ 0.78631313  0.78666667  0.78267677]\n"
     ]
    }
   ],
   "source": [
    "clf = sklearn.ensemble.RandomForestClassifier()\n",
    "score = sklearn.cross_validation.cross_val_score( clf, X, y )\n",
    "print( score )"
   ]
  },
  {
   "cell_type": "markdown",
   "metadata": {},
   "source": [
    "https://civisanalytics.com/blog/data-science/2015/12/23/workflows-in-python-curating-features-and-thinking-scientifically-about-algorithms/"
   ]
  },
  {
   "cell_type": "code",
   "execution_count": 30,
   "metadata": {
    "collapsed": false
   },
   "outputs": [
    {
     "data": {
      "text/plain": [
       "array([3, 2, 6, 1, 0, 5, 4])"
      ]
     },
     "execution_count": 30,
     "metadata": {},
     "output_type": "execute_result"
    }
   ],
   "source": [
    "features_df.payment_type.unique()"
   ]
  },
  {
   "cell_type": "code",
   "execution_count": 31,
   "metadata": {
    "collapsed": false
   },
   "outputs": [
    {
     "data": {
      "text/plain": [
       "OneHotEncoder(categorical_features='all', dtype=<class 'float'>,\n",
       "       handle_unknown='error', n_values='auto', sparse=True)"
      ]
     },
     "execution_count": 31,
     "metadata": {},
     "output_type": "execute_result"
    }
   ],
   "source": [
    "col = features_df.payment_type.tolist()\n",
    "col = np.reshape( col, (len(col), 1) )\n",
    "type(col)\n",
    "import sklearn.preprocessing\n",
    "enc = sklearn.preprocessing.OneHotEncoder()\n",
    "enc.fit(col)"
   ]
  },
  {
   "cell_type": "code",
   "execution_count": 32,
   "metadata": {
    "collapsed": true
   },
   "outputs": [],
   "source": [
    "# NOTE: OHE Only takes integers as input\n",
    "# 'The input to this transformer should be a matrix of integers' - from:\n",
    "# http://scikit-learn.org/stable/modules/generated/sklearn.preprocessing.OneHotEncoder.html\n",
    "# one-hot-encoder function that takes the data frame and the title of a column\n",
    "# and returns the same data frame but one-hot encoding performed on the indicated feature.\n",
    "# using the scikit-learn OneHotEncoder object, but pandas also has a function called get_dummies()\n",
    "#that does effectively the same thing. In fact, I find get_dummies() easier to use in many cases,\n",
    "#but I still find it worthwhile to see a more “manual” version of the transformation at least once.\n",
    "import sklearn.preprocessing\n",
    "\n",
    "def hot_encoder(df, column_name):\n",
    "    column = df[column_name].tolist()\n",
    "    column = np.reshape( column, (len(column), 1) )  ### needs to be an N x 1 numpy array\n",
    "    enc = sklearn.preprocessing.OneHotEncoder()\n",
    "    enc.fit( column )\n",
    "    new_column = enc.transform( column ).toarray()\n",
    "    column_titles = []\n",
    "    ### making titles for the new columns, and appending them to dataframe\n",
    "    for ii in range( len(new_column[0]) ):\n",
    "        this_column_name = column_name+\"_\"+str(ii)\n",
    "        df[this_column_name] = new_column[:,ii]\n",
    "    return df"
   ]
  },
  {
   "cell_type": "code",
   "execution_count": 33,
   "metadata": {
    "collapsed": false
   },
   "outputs": [
    {
     "name": "stdout",
     "output_type": "stream",
     "text": [
      "['amount_tsh' 'funder' 'gps_height' 'installer' 'longitude' 'latitude'\n",
      " 'wpt_name' 'num_private' 'basin' 'subvillage' 'region' 'region_code'\n",
      " 'district_code' 'lga' 'ward' 'population' 'public_meeting' 'recorded_by'\n",
      " 'scheme_management' 'scheme_name' 'permit' 'construction_year'\n",
      " 'extraction_type' 'extraction_type_group' 'extraction_type_class'\n",
      " 'management' 'management_group' 'payment' 'payment_type' 'water_quality'\n",
      " 'quality_group' 'quantity' 'quantity_group' 'source' 'source_type'\n",
      " 'source_class' 'waterpoint_type' 'waterpoint_type_group']\n"
     ]
    },
    {
     "data": {
      "text/html": [
       "<div>\n",
       "<table border=\"1\" class=\"dataframe\">\n",
       "  <thead>\n",
       "    <tr style=\"text-align: right;\">\n",
       "      <th></th>\n",
       "      <th>amount_tsh</th>\n",
       "      <th>gps_height</th>\n",
       "      <th>longitude</th>\n",
       "      <th>latitude</th>\n",
       "      <th>num_private</th>\n",
       "      <th>basin</th>\n",
       "      <th>region</th>\n",
       "      <th>region_code</th>\n",
       "      <th>district_code</th>\n",
       "      <th>lga</th>\n",
       "      <th>...</th>\n",
       "      <th>waterpoint_type_3</th>\n",
       "      <th>waterpoint_type_4</th>\n",
       "      <th>waterpoint_type_5</th>\n",
       "      <th>waterpoint_type_6</th>\n",
       "      <th>waterpoint_type_group_0</th>\n",
       "      <th>waterpoint_type_group_1</th>\n",
       "      <th>waterpoint_type_group_2</th>\n",
       "      <th>waterpoint_type_group_3</th>\n",
       "      <th>waterpoint_type_group_4</th>\n",
       "      <th>waterpoint_type_group_5</th>\n",
       "    </tr>\n",
       "    <tr>\n",
       "      <th>id</th>\n",
       "      <th></th>\n",
       "      <th></th>\n",
       "      <th></th>\n",
       "      <th></th>\n",
       "      <th></th>\n",
       "      <th></th>\n",
       "      <th></th>\n",
       "      <th></th>\n",
       "      <th></th>\n",
       "      <th></th>\n",
       "      <th></th>\n",
       "      <th></th>\n",
       "      <th></th>\n",
       "      <th></th>\n",
       "      <th></th>\n",
       "      <th></th>\n",
       "      <th></th>\n",
       "      <th></th>\n",
       "      <th></th>\n",
       "      <th></th>\n",
       "      <th></th>\n",
       "    </tr>\n",
       "  </thead>\n",
       "  <tbody>\n",
       "    <tr>\n",
       "      <th>69572</th>\n",
       "      <td>6000</td>\n",
       "      <td>1390</td>\n",
       "      <td>34.938093</td>\n",
       "      <td>-9.856322</td>\n",
       "      <td>0</td>\n",
       "      <td>8</td>\n",
       "      <td>7</td>\n",
       "      <td>11</td>\n",
       "      <td>5</td>\n",
       "      <td>26</td>\n",
       "      <td>...</td>\n",
       "      <td>0</td>\n",
       "      <td>0</td>\n",
       "      <td>0</td>\n",
       "      <td>0</td>\n",
       "      <td>1</td>\n",
       "      <td>0</td>\n",
       "      <td>0</td>\n",
       "      <td>0</td>\n",
       "      <td>0</td>\n",
       "      <td>0</td>\n",
       "    </tr>\n",
       "    <tr>\n",
       "      <th>8776</th>\n",
       "      <td>0</td>\n",
       "      <td>1399</td>\n",
       "      <td>34.698766</td>\n",
       "      <td>-2.147466</td>\n",
       "      <td>0</td>\n",
       "      <td>0</td>\n",
       "      <td>13</td>\n",
       "      <td>20</td>\n",
       "      <td>2</td>\n",
       "      <td>34</td>\n",
       "      <td>...</td>\n",
       "      <td>0</td>\n",
       "      <td>0</td>\n",
       "      <td>0</td>\n",
       "      <td>0</td>\n",
       "      <td>1</td>\n",
       "      <td>0</td>\n",
       "      <td>0</td>\n",
       "      <td>0</td>\n",
       "      <td>0</td>\n",
       "      <td>0</td>\n",
       "    </tr>\n",
       "    <tr>\n",
       "      <th>34310</th>\n",
       "      <td>25</td>\n",
       "      <td>686</td>\n",
       "      <td>37.460664</td>\n",
       "      <td>-3.821329</td>\n",
       "      <td>0</td>\n",
       "      <td>3</td>\n",
       "      <td>8</td>\n",
       "      <td>21</td>\n",
       "      <td>4</td>\n",
       "      <td>91</td>\n",
       "      <td>...</td>\n",
       "      <td>1</td>\n",
       "      <td>0</td>\n",
       "      <td>0</td>\n",
       "      <td>0</td>\n",
       "      <td>1</td>\n",
       "      <td>0</td>\n",
       "      <td>0</td>\n",
       "      <td>0</td>\n",
       "      <td>0</td>\n",
       "      <td>0</td>\n",
       "    </tr>\n",
       "    <tr>\n",
       "      <th>67743</th>\n",
       "      <td>0</td>\n",
       "      <td>263</td>\n",
       "      <td>38.486161</td>\n",
       "      <td>-11.155298</td>\n",
       "      <td>0</td>\n",
       "      <td>2</td>\n",
       "      <td>11</td>\n",
       "      <td>90</td>\n",
       "      <td>63</td>\n",
       "      <td>10</td>\n",
       "      <td>...</td>\n",
       "      <td>1</td>\n",
       "      <td>0</td>\n",
       "      <td>0</td>\n",
       "      <td>0</td>\n",
       "      <td>1</td>\n",
       "      <td>0</td>\n",
       "      <td>0</td>\n",
       "      <td>0</td>\n",
       "      <td>0</td>\n",
       "      <td>0</td>\n",
       "    </tr>\n",
       "    <tr>\n",
       "      <th>19728</th>\n",
       "      <td>0</td>\n",
       "      <td>0</td>\n",
       "      <td>31.130847</td>\n",
       "      <td>-1.825359</td>\n",
       "      <td>0</td>\n",
       "      <td>0</td>\n",
       "      <td>2</td>\n",
       "      <td>18</td>\n",
       "      <td>1</td>\n",
       "      <td>31</td>\n",
       "      <td>...</td>\n",
       "      <td>0</td>\n",
       "      <td>0</td>\n",
       "      <td>0</td>\n",
       "      <td>0</td>\n",
       "      <td>1</td>\n",
       "      <td>0</td>\n",
       "      <td>0</td>\n",
       "      <td>0</td>\n",
       "      <td>0</td>\n",
       "      <td>0</td>\n",
       "    </tr>\n",
       "  </tbody>\n",
       "</table>\n",
       "<p>5 rows × 3031 columns</p>\n",
       "</div>"
      ],
      "text/plain": [
       "       amount_tsh  gps_height  longitude   latitude  num_private  basin  \\\n",
       "id                                                                        \n",
       "69572        6000        1390  34.938093  -9.856322            0      8   \n",
       "8776            0        1399  34.698766  -2.147466            0      0   \n",
       "34310          25         686  37.460664  -3.821329            0      3   \n",
       "67743           0         263  38.486161 -11.155298            0      2   \n",
       "19728           0           0  31.130847  -1.825359            0      0   \n",
       "\n",
       "       region  region_code  district_code  lga           ...             \\\n",
       "id                                                       ...              \n",
       "69572       7           11              5   26           ...              \n",
       "8776       13           20              2   34           ...              \n",
       "34310       8           21              4   91           ...              \n",
       "67743      11           90             63   10           ...              \n",
       "19728       2           18              1   31           ...              \n",
       "\n",
       "       waterpoint_type_3  waterpoint_type_4  waterpoint_type_5  \\\n",
       "id                                                               \n",
       "69572                  0                  0                  0   \n",
       "8776                   0                  0                  0   \n",
       "34310                  1                  0                  0   \n",
       "67743                  1                  0                  0   \n",
       "19728                  0                  0                  0   \n",
       "\n",
       "       waterpoint_type_6  waterpoint_type_group_0  waterpoint_type_group_1  \\\n",
       "id                                                                           \n",
       "69572                  0                        1                        0   \n",
       "8776                   0                        1                        0   \n",
       "34310                  0                        1                        0   \n",
       "67743                  0                        1                        0   \n",
       "19728                  0                        1                        0   \n",
       "\n",
       "       waterpoint_type_group_2  waterpoint_type_group_3  \\\n",
       "id                                                        \n",
       "69572                        0                        0   \n",
       "8776                         0                        0   \n",
       "34310                        0                        0   \n",
       "67743                        0                        0   \n",
       "19728                        0                        0   \n",
       "\n",
       "       waterpoint_type_group_4  waterpoint_type_group_5  \n",
       "id                                                       \n",
       "69572                        0                        0  \n",
       "8776                         0                        0  \n",
       "34310                        0                        0  \n",
       "67743                        0                        0  \n",
       "19728                        0                        0  \n",
       "\n",
       "[5 rows x 3031 columns]"
      ]
     },
     "execution_count": 33,
     "metadata": {},
     "output_type": "execute_result"
    }
   ],
   "source": [
    "print(features_df.columns.values)\n",
    "\n",
    "\n",
    "features_df.drop( \"funder\", axis=1, inplace=True )\n",
    "features_df.drop( \"installer\", axis=1, inplace=True )\n",
    "features_df.drop( \"wpt_name\", axis=1, inplace=True )\n",
    "features_df.drop( \"subvillage\", axis=1, inplace=True )\n",
    "features_df.drop( \"ward\", axis=1, inplace=True )\n",
    "\n",
    "names_of_columns_to_transform.remove(\"funder\")\n",
    "names_of_columns_to_transform.remove(\"installer\")\n",
    "names_of_columns_to_transform.remove(\"wpt_name\")\n",
    "names_of_columns_to_transform.remove(\"subvillage\")\n",
    "names_of_columns_to_transform.remove(\"ward\")\n",
    "\n",
    "# perform OHE for columns of interest that needs to be transformed\n",
    "for feature in names_of_columns_to_transform:\n",
    "    features_df = hot_encoder( features_df, feature )\n",
    "\n",
    "features_df.head()"
   ]
  },
  {
   "cell_type": "code",
   "execution_count": 34,
   "metadata": {
    "collapsed": false
   },
   "outputs": [
    {
     "data": {
      "text/plain": [
       "(59400, 3031)"
      ]
     },
     "execution_count": 34,
     "metadata": {},
     "output_type": "execute_result"
    }
   ],
   "source": [
    "features_df.shape"
   ]
  },
  {
   "cell_type": "code",
   "execution_count": 35,
   "metadata": {
    "collapsed": false
   },
   "outputs": [
    {
     "data": {
      "text/plain": [
       "(59400, 3031)"
      ]
     },
     "execution_count": 35,
     "metadata": {},
     "output_type": "execute_result"
    }
   ],
   "source": [
    "X = features_df # update the training data to that that has been OHE\n",
    "X.shape # note the number of columns representing the number of features!"
   ]
  },
  {
   "cell_type": "code",
   "execution_count": 36,
   "metadata": {
    "collapsed": false
   },
   "outputs": [
    {
     "name": "stderr",
     "output_type": "stream",
     "text": [
      "/Users/Izham/apps/miniconda3/lib/python3.4/site-packages/sklearn/feature_selection/univariate_selection.py:111: UserWarning: Features [ 12 191] are constant.\n",
      "  UserWarning)\n"
     ]
    },
    {
     "name": "stdout",
     "output_type": "stream",
     "text": [
      "(59400, 800)\n"
     ]
    }
   ],
   "source": [
    "# select the best features 'or so'\n",
    "import sklearn.feature_selection\n",
    "\n",
    "select = sklearn.feature_selection.SelectKBest(k=800)\n",
    "X = features_df\n",
    "selected_X = select.fit_transform(X, y)\n",
    "\n",
    "print( selected_X.shape )"
   ]
  },
  {
   "cell_type": "code",
   "execution_count": 48,
   "metadata": {
    "collapsed": false
   },
   "outputs": [
    {
     "name": "stderr",
     "output_type": "stream",
     "text": [
      "/Users/Izham/apps/miniconda3/lib/python3.4/site-packages/sklearn/feature_selection/univariate_selection.py:111: UserWarning: Features [ 12 191] are constant.\n",
      "  UserWarning)\n"
     ]
    }
   ],
   "source": [
    "selected_X0 = select.fit(X, y)"
   ]
  },
  {
   "cell_type": "code",
   "execution_count": 37,
   "metadata": {
    "collapsed": false
   },
   "outputs": [],
   "source": [
    "# from warning above shows that column 12 and 191 are CONSTANT\n",
    "# test plot their value \n",
    "#X[X.columns[12]]\n",
    "#X[X.columns[191]]\n",
    "# NOTE: sklearn.feature_selection"
   ]
  },
  {
   "cell_type": "markdown",
   "metadata": {},
   "source": [
    "https://civisanalytics.com/blog/data-science/2016/01/06/workflows-python-using-pipeline-gridsearchcv-for-compact-code/"
   ]
  },
  {
   "cell_type": "code",
   "execution_count": 38,
   "metadata": {
    "collapsed": false
   },
   "outputs": [
    {
     "name": "stdout",
     "output_type": "stream",
     "text": [
      "[ 0.78409091  0.78409091  0.7770202 ]\n"
     ]
    }
   ],
   "source": [
    "# re-run the random forest with just a X features\n",
    "clf = sklearn.ensemble.RandomForestClassifier()\n",
    "score = sklearn.cross_validation.cross_val_score( clf, selected_X, y )\n",
    "print( score )"
   ]
  },
  {
   "cell_type": "markdown",
   "metadata": {},
   "source": [
    "### Pipeline Explanation\n",
    "- Import pipeline with:\n",
    "- import sklearn.pipeline\n",
    "<ol>\n",
    "<li>Import the required modules including the pipeline module</li>\n",
    "<li>Instantiate the required modules like select best and random forest classifier etc</li>\n",
    "<li>Build the steps list of tuples ('customNameOfStep', instantiatedStepVariableName) </li>\n",
    "<li>Instantiate pipeline </li>\n",
    "</ol>"
   ]
  },
  {
   "cell_type": "code",
   "execution_count": 47,
   "metadata": {
    "collapsed": false
   },
   "outputs": [
    {
     "data": {
      "text/plain": [
       "list"
      ]
     },
     "execution_count": 47,
     "metadata": {},
     "output_type": "execute_result"
    }
   ],
   "source": [
    "type(steps)"
   ]
  },
  {
   "cell_type": "code",
   "execution_count": 39,
   "metadata": {
    "collapsed": false,
    "scrolled": true
   },
   "outputs": [
    {
     "name": "stderr",
     "output_type": "stream",
     "text": [
      "/Users/Izham/apps/miniconda3/lib/python3.4/site-packages/sklearn/feature_selection/univariate_selection.py:111: UserWarning: Features [  12  191  214  218  220  223  227  239  252  267  274  283  289  290  301\n",
      "  313  316  318  319  323  354  364  365  378  380  391  409  425  427  442\n",
      "  444  458  463  500  506  507  520  528  533  534  546  548  559  566  570\n",
      "  572  575  586  589  593  594  599  600  603  613  626  628  637  640  648\n",
      "  676  682  689  690  696  700  702  709  711  712  719  727  729  751  762\n",
      "  770  771  772  779  789  794  802  808  809  810  813  819  827  838  844\n",
      "  846  850  868  874  887  891  893  901  907  914  915  919  936  942  952\n",
      "  955  960  979 1000 1011 1028 1038 1042 1045 1048 1055 1056 1090 1098 1099\n",
      " 1102 1105 1116 1117 1126 1128 1136 1156 1159 1165 1176 1195 1242 1246 1249\n",
      " 1253 1265 1271 1307 1309 1312 1319 1340 1342 1356 1370 1373 1413 1431 1440\n",
      " 1449 1452 1458 1460 1480 1489 1490 1491 1505 1511 1528 1535 1542 1552 1553\n",
      " 1622 1628 1644 1652 1670 1672 1678 1691 1700 1704 1711 1722 1747 1760 1779\n",
      " 1780 1783 1804 1817 1819 1820 1822 1825 1838 1843 1846 1849 1850 1853 1869\n",
      " 1870 1873 1879 1912 1920 1932 1953 1954 1955 1958 1964 1973 1984 1986 2017\n",
      " 2019 2031 2035 2040 2047 2081 2082 2086 2110 2115 2116 2121 2134 2152 2161\n",
      " 2164 2165 2167 2168 2179 2193 2196 2201 2211 2213 2215 2230 2232 2239 2247\n",
      " 2253 2255 2270 2285 2291 2311 2315 2320 2342 2345 2346 2351 2357 2377 2378\n",
      " 2382 2393 2401 2410 2412 2415 2419 2422 2430 2434 2436 2443 2446 2471 2494\n",
      " 2502 2531 2540 2547 2561 2566 2597 2600 2605 2611 2612 2624 2637 2644 2648\n",
      " 2653 2658 2697 2708 2726 2730 2739 2791 2793 2809 2824 2834 2835 2843 2845\n",
      " 2846 2861 2864 2874 2884] are constant.\n",
      "  UserWarning)\n"
     ]
    },
    {
     "name": "stdout",
     "output_type": "stream",
     "text": [
      "             precision    recall  f1-score   support\n",
      "\n",
      "          0       0.76      0.77      0.76      7458\n",
      "          1       0.38      0.35      0.37      1425\n",
      "          2       0.80      0.80      0.80     10719\n",
      "\n",
      "avg / total       0.75      0.76      0.75     19602\n",
      "\n"
     ]
    }
   ],
   "source": [
    "# Data setup\n",
    "X_train, X_test, y_train, y_test = sklearn.cross_validation.train_test_split(X, y, test_size=0.33, random_state=42)\n",
    "\n",
    "import sklearn.pipeline\n",
    "\n",
    "# initialize the modules that will be used in the pipeline\n",
    "# select the minimal k best features\n",
    "select = sklearn.feature_selection.SelectKBest(k=50)\n",
    "# initialize classifier\n",
    "clf = sklearn.ensemble.RandomForestClassifier()\n",
    "\n",
    "# Build the steps list of tuples ('customNameOfStep', instantiatedStepVariableName)\n",
    "# Note the customNameOfStep - is a user selected name\n",
    "# instantiatedStepVariableName - this is the variable name of the instantiated \n",
    "steps = [('feature_selection', select),\n",
    "        ('random_forest', clf)]\n",
    "\n",
    "# Instantiate the pipeline\n",
    "pipeline = sklearn.pipeline.Pipeline(steps)\n",
    "\n",
    "### fit your pipeline on X_train and y_train\n",
    "pipeline.fit( X_train, y_train )\n",
    "### call pipeline.predict() on your X_test data to make a set of test predictions\n",
    "y_prediction = pipeline.predict( X_test )\n",
    "### test your predictions using sklearn.classification_report()\n",
    "report = sklearn.metrics.classification_report( y_test, y_prediction )\n",
    "### and print the report\n",
    "print(report)"
   ]
  },
  {
   "cell_type": "markdown",
   "metadata": {},
   "source": [
    "https://civisanalytics.com/blog/data-science/2016/01/06/workflows-python-using-pipeline-gridsearchcv-for-compact-code/"
   ]
  },
  {
   "cell_type": "code",
   "execution_count": 40,
   "metadata": {
    "collapsed": false
   },
   "outputs": [
    {
     "data": {
      "text/plain": [
       "Pipeline(steps=[('feature_selection', SelectKBest(k=50, score_func=<function f_classif at 0x1089da488>)), ('random_forest', RandomForestClassifier(bootstrap=True, class_weight=None, criterion='gini',\n",
       "            max_depth=None, max_features='auto', max_leaf_nodes=None,\n",
       "            min_samples_leaf=1, min_samples_split=2,\n",
       "            min_weight_fraction_leaf=0.0, n_estimators=10, n_jobs=1,\n",
       "            oob_score=False, random_state=None, verbose=0,\n",
       "            warm_start=False))])"
      ]
     },
     "execution_count": 40,
     "metadata": {},
     "output_type": "execute_result"
    }
   ],
   "source": [
    "pipeline"
   ]
  },
  {
   "cell_type": "code",
   "execution_count": 50,
   "metadata": {
    "collapsed": false
   },
   "outputs": [
    {
     "name": "stderr",
     "output_type": "stream",
     "text": [
      "/Users/Izham/apps/miniconda3/lib/python3.4/site-packages/sklearn/feature_selection/univariate_selection.py:111: UserWarning: Features [  12  191  200  214  218  220  223  227  237  239  252  253  263  265  267\n",
      "  270  274  283  289  290  301  313  316  317  318  319  323  331  336  347\n",
      "  348  350  351  354  357  364  365  371  376  377  378  380  385  391  395\n",
      "  396  407  409  425  427  429  442  444  453  458  463  500  506  507  517\n",
      "  520  521  525  528  533  534  542  546  547  548  555  559  560  566  568\n",
      "  570  572  573  575  580  583  584  586  589  593  594  596  599  600  603\n",
      "  607  609  611  613  617  620  626  628  629  630  637  640  647  648  651\n",
      "  652  656  661  666  668  672  676  682  683  689  690  696  698  700  701\n",
      "  702  705  707  709  710  711  712  719  723  725  727  728  729  735  751\n",
      "  762  770  771  772  779  789  794  802  803  808  809  810  813  814  817\n",
      "  818  819  827  831  833  838  839  844  846  850  857  862  868  871  874\n",
      "  882  887  891  893  901  903  907  914  915  919  921  932  936  940  942\n",
      "  951  952  955  958  960  965  977  979  980  986 1000 1006 1007 1011 1020\n",
      " 1027 1028 1038 1042 1045 1048 1055 1056 1075 1090 1093 1098 1099 1102 1105\n",
      " 1116 1117 1118 1126 1128 1136 1146 1149 1155 1156 1157 1158 1159 1162 1165\n",
      " 1172 1173 1176 1184 1185 1195 1196 1199 1210 1231 1242 1246 1249 1253 1264\n",
      " 1265 1268 1271 1307 1309 1312 1313 1319 1332 1338 1340 1342 1347 1356 1364\n",
      " 1370 1373 1385 1392 1395 1404 1408 1413 1423 1424 1430 1431 1435 1440 1442\n",
      " 1449 1450 1452 1458 1460 1477 1480 1483 1489 1490 1491 1505 1511 1515 1517\n",
      " 1528 1535 1542 1543 1546 1552 1553 1556 1561 1571 1574 1579 1581 1582 1589\n",
      " 1600 1602 1611 1619 1622 1623 1627 1628 1630 1636 1640 1644 1652 1655 1670\n",
      " 1672 1678 1680 1681 1691 1695 1700 1704 1711 1714 1722 1724 1727 1731 1747\n",
      " 1760 1763 1779 1780 1781 1783 1804 1808 1810 1814 1815 1817 1819 1820 1822\n",
      " 1825 1826 1838 1843 1846 1849 1850 1853 1859 1862 1864 1869 1870 1873 1876\n",
      " 1879 1890 1892 1897 1898 1912 1917 1920 1931 1932 1933 1941 1953 1954 1955\n",
      " 1958 1962 1964 1973 1975 1980 1983 1984 1986 1987 1995 2003 2012 2013 2017\n",
      " 2019 2031 2035 2040 2043 2047 2048 2069 2075 2081 2082 2086 2092 2096 2097\n",
      " 2110 2113 2115 2116 2121 2126 2134 2141 2152 2159 2161 2164 2165 2167 2168\n",
      " 2172 2176 2179 2180 2181 2193 2196 2201 2204 2211 2212 2213 2215 2230 2232\n",
      " 2239 2240 2247 2248 2252 2253 2255 2261 2270 2282 2284 2285 2291 2302 2311\n",
      " 2313 2315 2320 2327 2342 2345 2346 2351 2352 2357 2364 2374 2375 2377 2378\n",
      " 2382 2383 2384 2393 2401 2410 2412 2415 2419 2422 2425 2430 2433 2434 2436\n",
      " 2442 2443 2446 2459 2465 2471 2478 2494 2500 2502 2513 2518 2524 2531 2535\n",
      " 2540 2542 2547 2554 2560 2561 2566 2570 2581 2587 2597 2600 2605 2606 2610\n",
      " 2611 2612 2624 2628 2637 2644 2646 2648 2651 2653 2658 2660 2680 2688 2694\n",
      " 2697 2704 2708 2711 2714 2715 2717 2726 2730 2731 2734 2736 2739 2744 2751\n",
      " 2753 2763 2773 2791 2793 2797 2809 2814 2824 2831 2834 2835 2843 2845 2846\n",
      " 2853 2855 2861 2864 2868 2874 2880 2883 2884] are constant.\n",
      "  UserWarning)\n",
      "/Users/Izham/apps/miniconda3/lib/python3.4/site-packages/sklearn/feature_selection/univariate_selection.py:111: UserWarning: Features [  12  191  210  211  214  218  220  221  223  227  239  240  242  251  252\n",
      "  259  267  274  281  283  284  286  289  290  295  301  312  313  316  318\n",
      "  319  323  325  330  338  346  354  358  364  365  378  380  383  391  409\n",
      "  417  425  427  434  442  444  448  457  458  462  463  464  489  495  500\n",
      "  503  505  506  507  511  512  515  520  524  526  528  533  534  546  548\n",
      "  559  566  570  572  575  577  586  589  590  592  593  594  599  600  601\n",
      "  603  606  608  612  613  619  622  626  628  637  640  641  648  664  665\n",
      "  674  676  682  689  690  696  700  702  703  709  711  712  719  727  729\n",
      "  744  751  752  761  762  766  770  771  772  774  779  789  794  799  802\n",
      "  808  809  810  813  819  820  821  826  827  838  844  846  850  855  860\n",
      "  866  868  874  876  877  880  887  889  891  893  895  899  901  907  914\n",
      "  915  919  922  927  931  935  936  939  942  949  952  955  960  963  979\n",
      "  997  998 1000 1011 1018 1021 1026 1028 1035 1038 1042 1045 1048 1054 1055\n",
      " 1056 1058 1087 1090 1092 1097 1098 1099 1102 1105 1116 1117 1126 1128 1131\n",
      " 1134 1136 1141 1145 1156 1159 1165 1169 1176 1178 1180 1194 1195 1217 1233\n",
      " 1238 1242 1246 1249 1253 1256 1257 1262 1265 1271 1272 1274 1307 1309 1312\n",
      " 1315 1319 1331 1340 1342 1348 1353 1356 1359 1363 1366 1370 1373 1376 1390\n",
      " 1413 1418 1426 1431 1433 1437 1440 1449 1451 1452 1458 1460 1468 1476 1480\n",
      " 1482 1489 1490 1491 1499 1505 1507 1511 1525 1528 1535 1542 1552 1553 1610\n",
      " 1622 1626 1628 1631 1644 1652 1658 1667 1670 1672 1673 1678 1682 1690 1691\n",
      " 1700 1704 1709 1710 1711 1719 1720 1722 1726 1733 1744 1747 1748 1760 1769\n",
      " 1776 1779 1780 1783 1784 1786 1790 1797 1799 1804 1817 1819 1820 1822 1824\n",
      " 1825 1831 1838 1843 1844 1846 1849 1850 1853 1861 1865 1868 1869 1870 1873\n",
      " 1879 1883 1888 1903 1904 1912 1920 1928 1929 1932 1939 1943 1945 1952 1953\n",
      " 1954 1955 1958 1964 1965 1973 1974 1979 1982 1984 1986 2007 2017 2019 2031\n",
      " 2035 2037 2040 2047 2063 2067 2073 2076 2081 2082 2083 2086 2100 2101 2102\n",
      " 2110 2112 2115 2116 2118 2121 2131 2134 2138 2139 2147 2152 2161 2164 2165\n",
      " 2166 2167 2168 2177 2179 2191 2193 2195 2196 2197 2198 2201 2208 2211 2213\n",
      " 2214 2215 2223 2224 2225 2229 2230 2232 2239 2244 2247 2253 2255 2260 2263\n",
      " 2265 2270 2283 2285 2291 2311 2312 2315 2317 2318 2319 2320 2339 2342 2344\n",
      " 2345 2346 2349 2351 2355 2357 2377 2378 2382 2389 2393 2401 2402 2408 2410\n",
      " 2412 2415 2419 2422 2423 2430 2434 2435 2436 2438 2443 2446 2451 2467 2471\n",
      " 2494 2499 2501 2502 2505 2512 2516 2520 2531 2540 2543 2545 2547 2561 2566\n",
      " 2576 2592 2593 2597 2600 2604 2605 2611 2612 2624 2637 2638 2644 2648 2649\n",
      " 2653 2658 2661 2670 2678 2697 2702 2707 2708 2726 2730 2733 2739 2749 2759\n",
      " 2764 2766 2770 2774 2779 2780 2787 2791 2793 2805 2806 2809 2812 2813 2820\n",
      " 2824 2826 2827 2834 2835 2837 2838 2843 2844 2845 2846 2849 2852 2854 2861\n",
      " 2862 2864 2874 2878 2884 2886] are constant.\n",
      "  UserWarning)\n",
      "/Users/Izham/apps/miniconda3/lib/python3.4/site-packages/sklearn/feature_selection/univariate_selection.py:111: UserWarning: Features [  12  157  191  214  215  218  220  223  227  232  239  243  244  252  254\n",
      "  260  262  267  274  283  287  289  290  297  298  301  309  313  316  318\n",
      "  319  323  327  328  341  354  364  365  368  378  380  391  394  398  409\n",
      "  425  427  441  442  444  452  458  463  467  471  474  500  506  507  508\n",
      "  518  520  528  533  534  540  546  548  552  554  556  559  566  570  572\n",
      "  575  576  586  589  593  594  597  599  600  602  603  604  613  625  626\n",
      "  628  636  637  638  640  646  648  649  658  662  667  676  682  689  690\n",
      "  696  700  702  704  709  711  712  713  719  727  729  751  753  762  770\n",
      "  771  772  779  789  793  794  802  808  809  810  813  819  827  828  829\n",
      "  832  834  838  844  846  848  850  868  874  887  890  891  892  893  897\n",
      "  900  901  907  908  914  915  919  928  936  942  943  944  945  952  954\n",
      "  955  956  960  979  996  999 1000 1001 1011 1016 1025 1028 1030 1033 1034\n",
      " 1038 1042 1045 1048 1053 1055 1056 1057 1060 1070 1073 1090 1098 1099 1102\n",
      " 1104 1105 1116 1117 1124 1126 1127 1128 1136 1137 1150 1156 1159 1165 1166\n",
      " 1167 1176 1182 1188 1195 1197 1198 1216 1220 1230 1237 1242 1246 1249 1253\n",
      " 1265 1267 1271 1288 1299 1306 1307 1309 1312 1319 1323 1328 1333 1334 1340\n",
      " 1342 1356 1357 1370 1371 1373 1393 1397 1405 1406 1413 1427 1431 1440 1441\n",
      " 1444 1449 1452 1454 1458 1459 1460 1479 1480 1481 1484 1489 1490 1491 1500\n",
      " 1502 1505 1511 1512 1523 1527 1528 1535 1537 1542 1548 1552 1553 1557 1562\n",
      " 1569 1576 1580 1587 1613 1615 1622 1628 1644 1648 1652 1669 1670 1672 1674\n",
      " 1675 1678 1686 1691 1700 1704 1711 1721 1722 1740 1747 1749 1755 1760 1764\n",
      " 1779 1780 1783 1792 1794 1802 1804 1806 1809 1813 1816 1817 1819 1820 1822\n",
      " 1825 1834 1838 1843 1846 1849 1850 1853 1856 1866 1869 1870 1873 1874 1879\n",
      " 1882 1896 1900 1906 1912 1920 1932 1942 1949 1951 1953 1954 1955 1956 1957\n",
      " 1958 1960 1964 1967 1973 1984 1985 1986 1991 2004 2005 2011 2014 2017 2019\n",
      " 2021 2026 2031 2033 2035 2040 2042 2046 2047 2052 2055 2068 2078 2081 2082\n",
      " 2085 2086 2098 2106 2110 2115 2116 2117 2120 2121 2122 2134 2144 2148 2152\n",
      " 2157 2161 2164 2165 2167 2168 2179 2185 2193 2196 2201 2207 2211 2213 2215\n",
      " 2221 2230 2232 2233 2239 2245 2247 2253 2255 2262 2267 2270 2276 2285 2287\n",
      " 2291 2294 2297 2300 2306 2309 2311 2315 2320 2321 2323 2334 2342 2345 2346\n",
      " 2351 2354 2357 2358 2367 2377 2378 2382 2385 2390 2393 2401 2403 2410 2412\n",
      " 2415 2419 2422 2424 2426 2428 2430 2434 2436 2443 2446 2450 2452 2471 2488\n",
      " 2490 2494 2502 2509 2531 2540 2541 2547 2550 2559 2561 2566 2586 2590 2595\n",
      " 2597 2600 2603 2605 2608 2609 2611 2612 2613 2622 2623 2624 2627 2629 2630\n",
      " 2637 2639 2644 2648 2653 2655 2658 2674 2682 2690 2697 2708 2716 2718 2723\n",
      " 2726 2730 2739 2752 2771 2775 2786 2791 2793 2796 2809 2824 2834 2835 2836\n",
      " 2843 2845 2846 2851 2858 2861 2864 2871 2874 2879 2884 2897] are constant.\n",
      "  UserWarning)\n",
      "/Users/Izham/apps/miniconda3/lib/python3.4/site-packages/sklearn/feature_selection/univariate_selection.py:111: UserWarning: Features [  12  191  200  214  218  220  223  227  237  239  252  253  263  265  267\n",
      "  270  274  283  289  290  301  313  316  317  318  319  323  331  336  347\n",
      "  348  350  351  354  357  364  365  371  376  377  378  380  385  391  395\n",
      "  396  407  409  425  427  429  442  444  453  458  463  500  506  507  517\n",
      "  520  521  525  528  533  534  542  546  547  548  555  559  560  566  568\n",
      "  570  572  573  575  580  583  584  586  589  593  594  596  599  600  603\n",
      "  607  609  611  613  617  620  626  628  629  630  637  640  647  648  651\n",
      "  652  656  661  666  668  672  676  682  683  689  690  696  698  700  701\n",
      "  702  705  707  709  710  711  712  719  723  725  727  728  729  735  751\n",
      "  762  770  771  772  779  789  794  802  803  808  809  810  813  814  817\n",
      "  818  819  827  831  833  838  839  844  846  850  857  862  868  871  874\n",
      "  882  887  891  893  901  903  907  914  915  919  921  932  936  940  942\n",
      "  951  952  955  958  960  965  977  979  980  986 1000 1006 1007 1011 1020\n",
      " 1027 1028 1038 1042 1045 1048 1055 1056 1075 1090 1093 1098 1099 1102 1105\n",
      " 1116 1117 1118 1126 1128 1136 1146 1149 1155 1156 1157 1158 1159 1162 1165\n",
      " 1172 1173 1176 1184 1185 1195 1196 1199 1210 1231 1242 1246 1249 1253 1264\n",
      " 1265 1268 1271 1307 1309 1312 1313 1319 1332 1338 1340 1342 1347 1356 1364\n",
      " 1370 1373 1385 1392 1395 1404 1408 1413 1423 1424 1430 1431 1435 1440 1442\n",
      " 1449 1450 1452 1458 1460 1477 1480 1483 1489 1490 1491 1505 1511 1515 1517\n",
      " 1528 1535 1542 1543 1546 1552 1553 1556 1561 1571 1574 1579 1581 1582 1589\n",
      " 1600 1602 1611 1619 1622 1623 1627 1628 1630 1636 1640 1644 1652 1655 1670\n",
      " 1672 1678 1680 1681 1691 1695 1700 1704 1711 1714 1722 1724 1727 1731 1747\n",
      " 1760 1763 1779 1780 1781 1783 1804 1808 1810 1814 1815 1817 1819 1820 1822\n",
      " 1825 1826 1838 1843 1846 1849 1850 1853 1859 1862 1864 1869 1870 1873 1876\n",
      " 1879 1890 1892 1897 1898 1912 1917 1920 1931 1932 1933 1941 1953 1954 1955\n",
      " 1958 1962 1964 1973 1975 1980 1983 1984 1986 1987 1995 2003 2012 2013 2017\n",
      " 2019 2031 2035 2040 2043 2047 2048 2069 2075 2081 2082 2086 2092 2096 2097\n",
      " 2110 2113 2115 2116 2121 2126 2134 2141 2152 2159 2161 2164 2165 2167 2168\n",
      " 2172 2176 2179 2180 2181 2193 2196 2201 2204 2211 2212 2213 2215 2230 2232\n",
      " 2239 2240 2247 2248 2252 2253 2255 2261 2270 2282 2284 2285 2291 2302 2311\n",
      " 2313 2315 2320 2327 2342 2345 2346 2351 2352 2357 2364 2374 2375 2377 2378\n",
      " 2382 2383 2384 2393 2401 2410 2412 2415 2419 2422 2425 2430 2433 2434 2436\n",
      " 2442 2443 2446 2459 2465 2471 2478 2494 2500 2502 2513 2518 2524 2531 2535\n",
      " 2540 2542 2547 2554 2560 2561 2566 2570 2581 2587 2597 2600 2605 2606 2610\n",
      " 2611 2612 2624 2628 2637 2644 2646 2648 2651 2653 2658 2660 2680 2688 2694\n",
      " 2697 2704 2708 2711 2714 2715 2717 2726 2730 2731 2734 2736 2739 2744 2751\n",
      " 2753 2763 2773 2791 2793 2797 2809 2814 2824 2831 2834 2835 2843 2845 2846\n",
      " 2853 2855 2861 2864 2868 2874 2880 2883 2884] are constant.\n",
      "  UserWarning)\n",
      "/Users/Izham/apps/miniconda3/lib/python3.4/site-packages/sklearn/feature_selection/univariate_selection.py:111: UserWarning: Features [  12  191  210  211  214  218  220  221  223  227  239  240  242  251  252\n",
      "  259  267  274  281  283  284  286  289  290  295  301  312  313  316  318\n",
      "  319  323  325  330  338  346  354  358  364  365  378  380  383  391  409\n",
      "  417  425  427  434  442  444  448  457  458  462  463  464  489  495  500\n",
      "  503  505  506  507  511  512  515  520  524  526  528  533  534  546  548\n",
      "  559  566  570  572  575  577  586  589  590  592  593  594  599  600  601\n",
      "  603  606  608  612  613  619  622  626  628  637  640  641  648  664  665\n",
      "  674  676  682  689  690  696  700  702  703  709  711  712  719  727  729\n",
      "  744  751  752  761  762  766  770  771  772  774  779  789  794  799  802\n",
      "  808  809  810  813  819  820  821  826  827  838  844  846  850  855  860\n",
      "  866  868  874  876  877  880  887  889  891  893  895  899  901  907  914\n",
      "  915  919  922  927  931  935  936  939  942  949  952  955  960  963  979\n",
      "  997  998 1000 1011 1018 1021 1026 1028 1035 1038 1042 1045 1048 1054 1055\n",
      " 1056 1058 1087 1090 1092 1097 1098 1099 1102 1105 1116 1117 1126 1128 1131\n",
      " 1134 1136 1141 1145 1156 1159 1165 1169 1176 1178 1180 1194 1195 1217 1233\n",
      " 1238 1242 1246 1249 1253 1256 1257 1262 1265 1271 1272 1274 1307 1309 1312\n",
      " 1315 1319 1331 1340 1342 1348 1353 1356 1359 1363 1366 1370 1373 1376 1390\n",
      " 1413 1418 1426 1431 1433 1437 1440 1449 1451 1452 1458 1460 1468 1476 1480\n",
      " 1482 1489 1490 1491 1499 1505 1507 1511 1525 1528 1535 1542 1552 1553 1610\n",
      " 1622 1626 1628 1631 1644 1652 1658 1667 1670 1672 1673 1678 1682 1690 1691\n",
      " 1700 1704 1709 1710 1711 1719 1720 1722 1726 1733 1744 1747 1748 1760 1769\n",
      " 1776 1779 1780 1783 1784 1786 1790 1797 1799 1804 1817 1819 1820 1822 1824\n",
      " 1825 1831 1838 1843 1844 1846 1849 1850 1853 1861 1865 1868 1869 1870 1873\n",
      " 1879 1883 1888 1903 1904 1912 1920 1928 1929 1932 1939 1943 1945 1952 1953\n",
      " 1954 1955 1958 1964 1965 1973 1974 1979 1982 1984 1986 2007 2017 2019 2031\n",
      " 2035 2037 2040 2047 2063 2067 2073 2076 2081 2082 2083 2086 2100 2101 2102\n",
      " 2110 2112 2115 2116 2118 2121 2131 2134 2138 2139 2147 2152 2161 2164 2165\n",
      " 2166 2167 2168 2177 2179 2191 2193 2195 2196 2197 2198 2201 2208 2211 2213\n",
      " 2214 2215 2223 2224 2225 2229 2230 2232 2239 2244 2247 2253 2255 2260 2263\n",
      " 2265 2270 2283 2285 2291 2311 2312 2315 2317 2318 2319 2320 2339 2342 2344\n",
      " 2345 2346 2349 2351 2355 2357 2377 2378 2382 2389 2393 2401 2402 2408 2410\n",
      " 2412 2415 2419 2422 2423 2430 2434 2435 2436 2438 2443 2446 2451 2467 2471\n",
      " 2494 2499 2501 2502 2505 2512 2516 2520 2531 2540 2543 2545 2547 2561 2566\n",
      " 2576 2592 2593 2597 2600 2604 2605 2611 2612 2624 2637 2638 2644 2648 2649\n",
      " 2653 2658 2661 2670 2678 2697 2702 2707 2708 2726 2730 2733 2739 2749 2759\n",
      " 2764 2766 2770 2774 2779 2780 2787 2791 2793 2805 2806 2809 2812 2813 2820\n",
      " 2824 2826 2827 2834 2835 2837 2838 2843 2844 2845 2846 2849 2852 2854 2861\n",
      " 2862 2864 2874 2878 2884 2886] are constant.\n",
      "  UserWarning)\n",
      "/Users/Izham/apps/miniconda3/lib/python3.4/site-packages/sklearn/feature_selection/univariate_selection.py:111: UserWarning: Features [  12  157  191  214  215  218  220  223  227  232  239  243  244  252  254\n",
      "  260  262  267  274  283  287  289  290  297  298  301  309  313  316  318\n",
      "  319  323  327  328  341  354  364  365  368  378  380  391  394  398  409\n",
      "  425  427  441  442  444  452  458  463  467  471  474  500  506  507  508\n",
      "  518  520  528  533  534  540  546  548  552  554  556  559  566  570  572\n",
      "  575  576  586  589  593  594  597  599  600  602  603  604  613  625  626\n",
      "  628  636  637  638  640  646  648  649  658  662  667  676  682  689  690\n",
      "  696  700  702  704  709  711  712  713  719  727  729  751  753  762  770\n",
      "  771  772  779  789  793  794  802  808  809  810  813  819  827  828  829\n",
      "  832  834  838  844  846  848  850  868  874  887  890  891  892  893  897\n",
      "  900  901  907  908  914  915  919  928  936  942  943  944  945  952  954\n",
      "  955  956  960  979  996  999 1000 1001 1011 1016 1025 1028 1030 1033 1034\n",
      " 1038 1042 1045 1048 1053 1055 1056 1057 1060 1070 1073 1090 1098 1099 1102\n",
      " 1104 1105 1116 1117 1124 1126 1127 1128 1136 1137 1150 1156 1159 1165 1166\n",
      " 1167 1176 1182 1188 1195 1197 1198 1216 1220 1230 1237 1242 1246 1249 1253\n",
      " 1265 1267 1271 1288 1299 1306 1307 1309 1312 1319 1323 1328 1333 1334 1340\n",
      " 1342 1356 1357 1370 1371 1373 1393 1397 1405 1406 1413 1427 1431 1440 1441\n",
      " 1444 1449 1452 1454 1458 1459 1460 1479 1480 1481 1484 1489 1490 1491 1500\n",
      " 1502 1505 1511 1512 1523 1527 1528 1535 1537 1542 1548 1552 1553 1557 1562\n",
      " 1569 1576 1580 1587 1613 1615 1622 1628 1644 1648 1652 1669 1670 1672 1674\n",
      " 1675 1678 1686 1691 1700 1704 1711 1721 1722 1740 1747 1749 1755 1760 1764\n",
      " 1779 1780 1783 1792 1794 1802 1804 1806 1809 1813 1816 1817 1819 1820 1822\n",
      " 1825 1834 1838 1843 1846 1849 1850 1853 1856 1866 1869 1870 1873 1874 1879\n",
      " 1882 1896 1900 1906 1912 1920 1932 1942 1949 1951 1953 1954 1955 1956 1957\n",
      " 1958 1960 1964 1967 1973 1984 1985 1986 1991 2004 2005 2011 2014 2017 2019\n",
      " 2021 2026 2031 2033 2035 2040 2042 2046 2047 2052 2055 2068 2078 2081 2082\n",
      " 2085 2086 2098 2106 2110 2115 2116 2117 2120 2121 2122 2134 2144 2148 2152\n",
      " 2157 2161 2164 2165 2167 2168 2179 2185 2193 2196 2201 2207 2211 2213 2215\n",
      " 2221 2230 2232 2233 2239 2245 2247 2253 2255 2262 2267 2270 2276 2285 2287\n",
      " 2291 2294 2297 2300 2306 2309 2311 2315 2320 2321 2323 2334 2342 2345 2346\n",
      " 2351 2354 2357 2358 2367 2377 2378 2382 2385 2390 2393 2401 2403 2410 2412\n",
      " 2415 2419 2422 2424 2426 2428 2430 2434 2436 2443 2446 2450 2452 2471 2488\n",
      " 2490 2494 2502 2509 2531 2540 2541 2547 2550 2559 2561 2566 2586 2590 2595\n",
      " 2597 2600 2603 2605 2608 2609 2611 2612 2613 2622 2623 2624 2627 2629 2630\n",
      " 2637 2639 2644 2648 2653 2655 2658 2674 2682 2690 2697 2708 2716 2718 2723\n",
      " 2726 2730 2739 2752 2771 2775 2786 2791 2793 2796 2809 2824 2834 2835 2836\n",
      " 2843 2845 2846 2851 2858 2861 2864 2871 2874 2879 2884 2897] are constant.\n",
      "  UserWarning)\n",
      "/Users/Izham/apps/miniconda3/lib/python3.4/site-packages/sklearn/feature_selection/univariate_selection.py:111: UserWarning: Features [  12  191  200  214  218  220  223  227  237  239  252  253  263  265  267\n",
      "  270  274  283  289  290  301  313  316  317  318  319  323  331  336  347\n",
      "  348  350  351  354  357  364  365  371  376  377  378  380  385  391  395\n",
      "  396  407  409  425  427  429  442  444  453  458  463  500  506  507  517\n",
      "  520  521  525  528  533  534  542  546  547  548  555  559  560  566  568\n",
      "  570  572  573  575  580  583  584  586  589  593  594  596  599  600  603\n",
      "  607  609  611  613  617  620  626  628  629  630  637  640  647  648  651\n",
      "  652  656  661  666  668  672  676  682  683  689  690  696  698  700  701\n",
      "  702  705  707  709  710  711  712  719  723  725  727  728  729  735  751\n",
      "  762  770  771  772  779  789  794  802  803  808  809  810  813  814  817\n",
      "  818  819  827  831  833  838  839  844  846  850  857  862  868  871  874\n",
      "  882  887  891  893  901  903  907  914  915  919  921  932  936  940  942\n",
      "  951  952  955  958  960  965  977  979  980  986 1000 1006 1007 1011 1020\n",
      " 1027 1028 1038 1042 1045 1048 1055 1056 1075 1090 1093 1098 1099 1102 1105\n",
      " 1116 1117 1118 1126 1128 1136 1146 1149 1155 1156 1157 1158 1159 1162 1165\n",
      " 1172 1173 1176 1184 1185 1195 1196 1199 1210 1231 1242 1246 1249 1253 1264\n",
      " 1265 1268 1271 1307 1309 1312 1313 1319 1332 1338 1340 1342 1347 1356 1364\n",
      " 1370 1373 1385 1392 1395 1404 1408 1413 1423 1424 1430 1431 1435 1440 1442\n",
      " 1449 1450 1452 1458 1460 1477 1480 1483 1489 1490 1491 1505 1511 1515 1517\n",
      " 1528 1535 1542 1543 1546 1552 1553 1556 1561 1571 1574 1579 1581 1582 1589\n",
      " 1600 1602 1611 1619 1622 1623 1627 1628 1630 1636 1640 1644 1652 1655 1670\n",
      " 1672 1678 1680 1681 1691 1695 1700 1704 1711 1714 1722 1724 1727 1731 1747\n",
      " 1760 1763 1779 1780 1781 1783 1804 1808 1810 1814 1815 1817 1819 1820 1822\n",
      " 1825 1826 1838 1843 1846 1849 1850 1853 1859 1862 1864 1869 1870 1873 1876\n",
      " 1879 1890 1892 1897 1898 1912 1917 1920 1931 1932 1933 1941 1953 1954 1955\n",
      " 1958 1962 1964 1973 1975 1980 1983 1984 1986 1987 1995 2003 2012 2013 2017\n",
      " 2019 2031 2035 2040 2043 2047 2048 2069 2075 2081 2082 2086 2092 2096 2097\n",
      " 2110 2113 2115 2116 2121 2126 2134 2141 2152 2159 2161 2164 2165 2167 2168\n",
      " 2172 2176 2179 2180 2181 2193 2196 2201 2204 2211 2212 2213 2215 2230 2232\n",
      " 2239 2240 2247 2248 2252 2253 2255 2261 2270 2282 2284 2285 2291 2302 2311\n",
      " 2313 2315 2320 2327 2342 2345 2346 2351 2352 2357 2364 2374 2375 2377 2378\n",
      " 2382 2383 2384 2393 2401 2410 2412 2415 2419 2422 2425 2430 2433 2434 2436\n",
      " 2442 2443 2446 2459 2465 2471 2478 2494 2500 2502 2513 2518 2524 2531 2535\n",
      " 2540 2542 2547 2554 2560 2561 2566 2570 2581 2587 2597 2600 2605 2606 2610\n",
      " 2611 2612 2624 2628 2637 2644 2646 2648 2651 2653 2658 2660 2680 2688 2694\n",
      " 2697 2704 2708 2711 2714 2715 2717 2726 2730 2731 2734 2736 2739 2744 2751\n",
      " 2753 2763 2773 2791 2793 2797 2809 2814 2824 2831 2834 2835 2843 2845 2846\n",
      " 2853 2855 2861 2864 2868 2874 2880 2883 2884] are constant.\n",
      "  UserWarning)\n",
      "/Users/Izham/apps/miniconda3/lib/python3.4/site-packages/sklearn/feature_selection/univariate_selection.py:111: UserWarning: Features [  12  191  210  211  214  218  220  221  223  227  239  240  242  251  252\n",
      "  259  267  274  281  283  284  286  289  290  295  301  312  313  316  318\n",
      "  319  323  325  330  338  346  354  358  364  365  378  380  383  391  409\n",
      "  417  425  427  434  442  444  448  457  458  462  463  464  489  495  500\n",
      "  503  505  506  507  511  512  515  520  524  526  528  533  534  546  548\n",
      "  559  566  570  572  575  577  586  589  590  592  593  594  599  600  601\n",
      "  603  606  608  612  613  619  622  626  628  637  640  641  648  664  665\n",
      "  674  676  682  689  690  696  700  702  703  709  711  712  719  727  729\n",
      "  744  751  752  761  762  766  770  771  772  774  779  789  794  799  802\n",
      "  808  809  810  813  819  820  821  826  827  838  844  846  850  855  860\n",
      "  866  868  874  876  877  880  887  889  891  893  895  899  901  907  914\n",
      "  915  919  922  927  931  935  936  939  942  949  952  955  960  963  979\n",
      "  997  998 1000 1011 1018 1021 1026 1028 1035 1038 1042 1045 1048 1054 1055\n",
      " 1056 1058 1087 1090 1092 1097 1098 1099 1102 1105 1116 1117 1126 1128 1131\n",
      " 1134 1136 1141 1145 1156 1159 1165 1169 1176 1178 1180 1194 1195 1217 1233\n",
      " 1238 1242 1246 1249 1253 1256 1257 1262 1265 1271 1272 1274 1307 1309 1312\n",
      " 1315 1319 1331 1340 1342 1348 1353 1356 1359 1363 1366 1370 1373 1376 1390\n",
      " 1413 1418 1426 1431 1433 1437 1440 1449 1451 1452 1458 1460 1468 1476 1480\n",
      " 1482 1489 1490 1491 1499 1505 1507 1511 1525 1528 1535 1542 1552 1553 1610\n",
      " 1622 1626 1628 1631 1644 1652 1658 1667 1670 1672 1673 1678 1682 1690 1691\n",
      " 1700 1704 1709 1710 1711 1719 1720 1722 1726 1733 1744 1747 1748 1760 1769\n",
      " 1776 1779 1780 1783 1784 1786 1790 1797 1799 1804 1817 1819 1820 1822 1824\n",
      " 1825 1831 1838 1843 1844 1846 1849 1850 1853 1861 1865 1868 1869 1870 1873\n",
      " 1879 1883 1888 1903 1904 1912 1920 1928 1929 1932 1939 1943 1945 1952 1953\n",
      " 1954 1955 1958 1964 1965 1973 1974 1979 1982 1984 1986 2007 2017 2019 2031\n",
      " 2035 2037 2040 2047 2063 2067 2073 2076 2081 2082 2083 2086 2100 2101 2102\n",
      " 2110 2112 2115 2116 2118 2121 2131 2134 2138 2139 2147 2152 2161 2164 2165\n",
      " 2166 2167 2168 2177 2179 2191 2193 2195 2196 2197 2198 2201 2208 2211 2213\n",
      " 2214 2215 2223 2224 2225 2229 2230 2232 2239 2244 2247 2253 2255 2260 2263\n",
      " 2265 2270 2283 2285 2291 2311 2312 2315 2317 2318 2319 2320 2339 2342 2344\n",
      " 2345 2346 2349 2351 2355 2357 2377 2378 2382 2389 2393 2401 2402 2408 2410\n",
      " 2412 2415 2419 2422 2423 2430 2434 2435 2436 2438 2443 2446 2451 2467 2471\n",
      " 2494 2499 2501 2502 2505 2512 2516 2520 2531 2540 2543 2545 2547 2561 2566\n",
      " 2576 2592 2593 2597 2600 2604 2605 2611 2612 2624 2637 2638 2644 2648 2649\n",
      " 2653 2658 2661 2670 2678 2697 2702 2707 2708 2726 2730 2733 2739 2749 2759\n",
      " 2764 2766 2770 2774 2779 2780 2787 2791 2793 2805 2806 2809 2812 2813 2820\n",
      " 2824 2826 2827 2834 2835 2837 2838 2843 2844 2845 2846 2849 2852 2854 2861\n",
      " 2862 2864 2874 2878 2884 2886] are constant.\n",
      "  UserWarning)\n",
      "/Users/Izham/apps/miniconda3/lib/python3.4/site-packages/sklearn/feature_selection/univariate_selection.py:111: UserWarning: Features [  12  157  191  214  215  218  220  223  227  232  239  243  244  252  254\n",
      "  260  262  267  274  283  287  289  290  297  298  301  309  313  316  318\n",
      "  319  323  327  328  341  354  364  365  368  378  380  391  394  398  409\n",
      "  425  427  441  442  444  452  458  463  467  471  474  500  506  507  508\n",
      "  518  520  528  533  534  540  546  548  552  554  556  559  566  570  572\n",
      "  575  576  586  589  593  594  597  599  600  602  603  604  613  625  626\n",
      "  628  636  637  638  640  646  648  649  658  662  667  676  682  689  690\n",
      "  696  700  702  704  709  711  712  713  719  727  729  751  753  762  770\n",
      "  771  772  779  789  793  794  802  808  809  810  813  819  827  828  829\n",
      "  832  834  838  844  846  848  850  868  874  887  890  891  892  893  897\n",
      "  900  901  907  908  914  915  919  928  936  942  943  944  945  952  954\n",
      "  955  956  960  979  996  999 1000 1001 1011 1016 1025 1028 1030 1033 1034\n",
      " 1038 1042 1045 1048 1053 1055 1056 1057 1060 1070 1073 1090 1098 1099 1102\n",
      " 1104 1105 1116 1117 1124 1126 1127 1128 1136 1137 1150 1156 1159 1165 1166\n",
      " 1167 1176 1182 1188 1195 1197 1198 1216 1220 1230 1237 1242 1246 1249 1253\n",
      " 1265 1267 1271 1288 1299 1306 1307 1309 1312 1319 1323 1328 1333 1334 1340\n",
      " 1342 1356 1357 1370 1371 1373 1393 1397 1405 1406 1413 1427 1431 1440 1441\n",
      " 1444 1449 1452 1454 1458 1459 1460 1479 1480 1481 1484 1489 1490 1491 1500\n",
      " 1502 1505 1511 1512 1523 1527 1528 1535 1537 1542 1548 1552 1553 1557 1562\n",
      " 1569 1576 1580 1587 1613 1615 1622 1628 1644 1648 1652 1669 1670 1672 1674\n",
      " 1675 1678 1686 1691 1700 1704 1711 1721 1722 1740 1747 1749 1755 1760 1764\n",
      " 1779 1780 1783 1792 1794 1802 1804 1806 1809 1813 1816 1817 1819 1820 1822\n",
      " 1825 1834 1838 1843 1846 1849 1850 1853 1856 1866 1869 1870 1873 1874 1879\n",
      " 1882 1896 1900 1906 1912 1920 1932 1942 1949 1951 1953 1954 1955 1956 1957\n",
      " 1958 1960 1964 1967 1973 1984 1985 1986 1991 2004 2005 2011 2014 2017 2019\n",
      " 2021 2026 2031 2033 2035 2040 2042 2046 2047 2052 2055 2068 2078 2081 2082\n",
      " 2085 2086 2098 2106 2110 2115 2116 2117 2120 2121 2122 2134 2144 2148 2152\n",
      " 2157 2161 2164 2165 2167 2168 2179 2185 2193 2196 2201 2207 2211 2213 2215\n",
      " 2221 2230 2232 2233 2239 2245 2247 2253 2255 2262 2267 2270 2276 2285 2287\n",
      " 2291 2294 2297 2300 2306 2309 2311 2315 2320 2321 2323 2334 2342 2345 2346\n",
      " 2351 2354 2357 2358 2367 2377 2378 2382 2385 2390 2393 2401 2403 2410 2412\n",
      " 2415 2419 2422 2424 2426 2428 2430 2434 2436 2443 2446 2450 2452 2471 2488\n",
      " 2490 2494 2502 2509 2531 2540 2541 2547 2550 2559 2561 2566 2586 2590 2595\n",
      " 2597 2600 2603 2605 2608 2609 2611 2612 2613 2622 2623 2624 2627 2629 2630\n",
      " 2637 2639 2644 2648 2653 2655 2658 2674 2682 2690 2697 2708 2716 2718 2723\n",
      " 2726 2730 2739 2752 2771 2775 2786 2791 2793 2796 2809 2824 2834 2835 2836\n",
      " 2843 2845 2846 2851 2858 2861 2864 2871 2874 2879 2884 2897] are constant.\n",
      "  UserWarning)\n",
      "/Users/Izham/apps/miniconda3/lib/python3.4/site-packages/sklearn/feature_selection/univariate_selection.py:111: UserWarning: Features [  12  191  200  214  218  220  223  227  237  239  252  253  263  265  267\n",
      "  270  274  283  289  290  301  313  316  317  318  319  323  331  336  347\n",
      "  348  350  351  354  357  364  365  371  376  377  378  380  385  391  395\n",
      "  396  407  409  425  427  429  442  444  453  458  463  500  506  507  517\n",
      "  520  521  525  528  533  534  542  546  547  548  555  559  560  566  568\n",
      "  570  572  573  575  580  583  584  586  589  593  594  596  599  600  603\n",
      "  607  609  611  613  617  620  626  628  629  630  637  640  647  648  651\n",
      "  652  656  661  666  668  672  676  682  683  689  690  696  698  700  701\n",
      "  702  705  707  709  710  711  712  719  723  725  727  728  729  735  751\n",
      "  762  770  771  772  779  789  794  802  803  808  809  810  813  814  817\n",
      "  818  819  827  831  833  838  839  844  846  850  857  862  868  871  874\n",
      "  882  887  891  893  901  903  907  914  915  919  921  932  936  940  942\n",
      "  951  952  955  958  960  965  977  979  980  986 1000 1006 1007 1011 1020\n",
      " 1027 1028 1038 1042 1045 1048 1055 1056 1075 1090 1093 1098 1099 1102 1105\n",
      " 1116 1117 1118 1126 1128 1136 1146 1149 1155 1156 1157 1158 1159 1162 1165\n",
      " 1172 1173 1176 1184 1185 1195 1196 1199 1210 1231 1242 1246 1249 1253 1264\n",
      " 1265 1268 1271 1307 1309 1312 1313 1319 1332 1338 1340 1342 1347 1356 1364\n",
      " 1370 1373 1385 1392 1395 1404 1408 1413 1423 1424 1430 1431 1435 1440 1442\n",
      " 1449 1450 1452 1458 1460 1477 1480 1483 1489 1490 1491 1505 1511 1515 1517\n",
      " 1528 1535 1542 1543 1546 1552 1553 1556 1561 1571 1574 1579 1581 1582 1589\n",
      " 1600 1602 1611 1619 1622 1623 1627 1628 1630 1636 1640 1644 1652 1655 1670\n",
      " 1672 1678 1680 1681 1691 1695 1700 1704 1711 1714 1722 1724 1727 1731 1747\n",
      " 1760 1763 1779 1780 1781 1783 1804 1808 1810 1814 1815 1817 1819 1820 1822\n",
      " 1825 1826 1838 1843 1846 1849 1850 1853 1859 1862 1864 1869 1870 1873 1876\n",
      " 1879 1890 1892 1897 1898 1912 1917 1920 1931 1932 1933 1941 1953 1954 1955\n",
      " 1958 1962 1964 1973 1975 1980 1983 1984 1986 1987 1995 2003 2012 2013 2017\n",
      " 2019 2031 2035 2040 2043 2047 2048 2069 2075 2081 2082 2086 2092 2096 2097\n",
      " 2110 2113 2115 2116 2121 2126 2134 2141 2152 2159 2161 2164 2165 2167 2168\n",
      " 2172 2176 2179 2180 2181 2193 2196 2201 2204 2211 2212 2213 2215 2230 2232\n",
      " 2239 2240 2247 2248 2252 2253 2255 2261 2270 2282 2284 2285 2291 2302 2311\n",
      " 2313 2315 2320 2327 2342 2345 2346 2351 2352 2357 2364 2374 2375 2377 2378\n",
      " 2382 2383 2384 2393 2401 2410 2412 2415 2419 2422 2425 2430 2433 2434 2436\n",
      " 2442 2443 2446 2459 2465 2471 2478 2494 2500 2502 2513 2518 2524 2531 2535\n",
      " 2540 2542 2547 2554 2560 2561 2566 2570 2581 2587 2597 2600 2605 2606 2610\n",
      " 2611 2612 2624 2628 2637 2644 2646 2648 2651 2653 2658 2660 2680 2688 2694\n",
      " 2697 2704 2708 2711 2714 2715 2717 2726 2730 2731 2734 2736 2739 2744 2751\n",
      " 2753 2763 2773 2791 2793 2797 2809 2814 2824 2831 2834 2835 2843 2845 2846\n",
      " 2853 2855 2861 2864 2868 2874 2880 2883 2884] are constant.\n",
      "  UserWarning)\n",
      "/Users/Izham/apps/miniconda3/lib/python3.4/site-packages/sklearn/feature_selection/univariate_selection.py:111: UserWarning: Features [  12  191  210  211  214  218  220  221  223  227  239  240  242  251  252\n",
      "  259  267  274  281  283  284  286  289  290  295  301  312  313  316  318\n",
      "  319  323  325  330  338  346  354  358  364  365  378  380  383  391  409\n",
      "  417  425  427  434  442  444  448  457  458  462  463  464  489  495  500\n",
      "  503  505  506  507  511  512  515  520  524  526  528  533  534  546  548\n",
      "  559  566  570  572  575  577  586  589  590  592  593  594  599  600  601\n",
      "  603  606  608  612  613  619  622  626  628  637  640  641  648  664  665\n",
      "  674  676  682  689  690  696  700  702  703  709  711  712  719  727  729\n",
      "  744  751  752  761  762  766  770  771  772  774  779  789  794  799  802\n",
      "  808  809  810  813  819  820  821  826  827  838  844  846  850  855  860\n",
      "  866  868  874  876  877  880  887  889  891  893  895  899  901  907  914\n",
      "  915  919  922  927  931  935  936  939  942  949  952  955  960  963  979\n",
      "  997  998 1000 1011 1018 1021 1026 1028 1035 1038 1042 1045 1048 1054 1055\n",
      " 1056 1058 1087 1090 1092 1097 1098 1099 1102 1105 1116 1117 1126 1128 1131\n",
      " 1134 1136 1141 1145 1156 1159 1165 1169 1176 1178 1180 1194 1195 1217 1233\n",
      " 1238 1242 1246 1249 1253 1256 1257 1262 1265 1271 1272 1274 1307 1309 1312\n",
      " 1315 1319 1331 1340 1342 1348 1353 1356 1359 1363 1366 1370 1373 1376 1390\n",
      " 1413 1418 1426 1431 1433 1437 1440 1449 1451 1452 1458 1460 1468 1476 1480\n",
      " 1482 1489 1490 1491 1499 1505 1507 1511 1525 1528 1535 1542 1552 1553 1610\n",
      " 1622 1626 1628 1631 1644 1652 1658 1667 1670 1672 1673 1678 1682 1690 1691\n",
      " 1700 1704 1709 1710 1711 1719 1720 1722 1726 1733 1744 1747 1748 1760 1769\n",
      " 1776 1779 1780 1783 1784 1786 1790 1797 1799 1804 1817 1819 1820 1822 1824\n",
      " 1825 1831 1838 1843 1844 1846 1849 1850 1853 1861 1865 1868 1869 1870 1873\n",
      " 1879 1883 1888 1903 1904 1912 1920 1928 1929 1932 1939 1943 1945 1952 1953\n",
      " 1954 1955 1958 1964 1965 1973 1974 1979 1982 1984 1986 2007 2017 2019 2031\n",
      " 2035 2037 2040 2047 2063 2067 2073 2076 2081 2082 2083 2086 2100 2101 2102\n",
      " 2110 2112 2115 2116 2118 2121 2131 2134 2138 2139 2147 2152 2161 2164 2165\n",
      " 2166 2167 2168 2177 2179 2191 2193 2195 2196 2197 2198 2201 2208 2211 2213\n",
      " 2214 2215 2223 2224 2225 2229 2230 2232 2239 2244 2247 2253 2255 2260 2263\n",
      " 2265 2270 2283 2285 2291 2311 2312 2315 2317 2318 2319 2320 2339 2342 2344\n",
      " 2345 2346 2349 2351 2355 2357 2377 2378 2382 2389 2393 2401 2402 2408 2410\n",
      " 2412 2415 2419 2422 2423 2430 2434 2435 2436 2438 2443 2446 2451 2467 2471\n",
      " 2494 2499 2501 2502 2505 2512 2516 2520 2531 2540 2543 2545 2547 2561 2566\n",
      " 2576 2592 2593 2597 2600 2604 2605 2611 2612 2624 2637 2638 2644 2648 2649\n",
      " 2653 2658 2661 2670 2678 2697 2702 2707 2708 2726 2730 2733 2739 2749 2759\n",
      " 2764 2766 2770 2774 2779 2780 2787 2791 2793 2805 2806 2809 2812 2813 2820\n",
      " 2824 2826 2827 2834 2835 2837 2838 2843 2844 2845 2846 2849 2852 2854 2861\n",
      " 2862 2864 2874 2878 2884 2886] are constant.\n",
      "  UserWarning)\n",
      "/Users/Izham/apps/miniconda3/lib/python3.4/site-packages/sklearn/feature_selection/univariate_selection.py:111: UserWarning: Features [  12  157  191  214  215  218  220  223  227  232  239  243  244  252  254\n",
      "  260  262  267  274  283  287  289  290  297  298  301  309  313  316  318\n",
      "  319  323  327  328  341  354  364  365  368  378  380  391  394  398  409\n",
      "  425  427  441  442  444  452  458  463  467  471  474  500  506  507  508\n",
      "  518  520  528  533  534  540  546  548  552  554  556  559  566  570  572\n",
      "  575  576  586  589  593  594  597  599  600  602  603  604  613  625  626\n",
      "  628  636  637  638  640  646  648  649  658  662  667  676  682  689  690\n",
      "  696  700  702  704  709  711  712  713  719  727  729  751  753  762  770\n",
      "  771  772  779  789  793  794  802  808  809  810  813  819  827  828  829\n",
      "  832  834  838  844  846  848  850  868  874  887  890  891  892  893  897\n",
      "  900  901  907  908  914  915  919  928  936  942  943  944  945  952  954\n",
      "  955  956  960  979  996  999 1000 1001 1011 1016 1025 1028 1030 1033 1034\n",
      " 1038 1042 1045 1048 1053 1055 1056 1057 1060 1070 1073 1090 1098 1099 1102\n",
      " 1104 1105 1116 1117 1124 1126 1127 1128 1136 1137 1150 1156 1159 1165 1166\n",
      " 1167 1176 1182 1188 1195 1197 1198 1216 1220 1230 1237 1242 1246 1249 1253\n",
      " 1265 1267 1271 1288 1299 1306 1307 1309 1312 1319 1323 1328 1333 1334 1340\n",
      " 1342 1356 1357 1370 1371 1373 1393 1397 1405 1406 1413 1427 1431 1440 1441\n",
      " 1444 1449 1452 1454 1458 1459 1460 1479 1480 1481 1484 1489 1490 1491 1500\n",
      " 1502 1505 1511 1512 1523 1527 1528 1535 1537 1542 1548 1552 1553 1557 1562\n",
      " 1569 1576 1580 1587 1613 1615 1622 1628 1644 1648 1652 1669 1670 1672 1674\n",
      " 1675 1678 1686 1691 1700 1704 1711 1721 1722 1740 1747 1749 1755 1760 1764\n",
      " 1779 1780 1783 1792 1794 1802 1804 1806 1809 1813 1816 1817 1819 1820 1822\n",
      " 1825 1834 1838 1843 1846 1849 1850 1853 1856 1866 1869 1870 1873 1874 1879\n",
      " 1882 1896 1900 1906 1912 1920 1932 1942 1949 1951 1953 1954 1955 1956 1957\n",
      " 1958 1960 1964 1967 1973 1984 1985 1986 1991 2004 2005 2011 2014 2017 2019\n",
      " 2021 2026 2031 2033 2035 2040 2042 2046 2047 2052 2055 2068 2078 2081 2082\n",
      " 2085 2086 2098 2106 2110 2115 2116 2117 2120 2121 2122 2134 2144 2148 2152\n",
      " 2157 2161 2164 2165 2167 2168 2179 2185 2193 2196 2201 2207 2211 2213 2215\n",
      " 2221 2230 2232 2233 2239 2245 2247 2253 2255 2262 2267 2270 2276 2285 2287\n",
      " 2291 2294 2297 2300 2306 2309 2311 2315 2320 2321 2323 2334 2342 2345 2346\n",
      " 2351 2354 2357 2358 2367 2377 2378 2382 2385 2390 2393 2401 2403 2410 2412\n",
      " 2415 2419 2422 2424 2426 2428 2430 2434 2436 2443 2446 2450 2452 2471 2488\n",
      " 2490 2494 2502 2509 2531 2540 2541 2547 2550 2559 2561 2566 2586 2590 2595\n",
      " 2597 2600 2603 2605 2608 2609 2611 2612 2613 2622 2623 2624 2627 2629 2630\n",
      " 2637 2639 2644 2648 2653 2655 2658 2674 2682 2690 2697 2708 2716 2718 2723\n",
      " 2726 2730 2739 2752 2771 2775 2786 2791 2793 2796 2809 2824 2834 2835 2836\n",
      " 2843 2845 2846 2851 2858 2861 2864 2871 2874 2879 2884 2897] are constant.\n",
      "  UserWarning)\n",
      "/Users/Izham/apps/miniconda3/lib/python3.4/site-packages/sklearn/feature_selection/univariate_selection.py:111: UserWarning: Features [  12  191  214  218  220  223  227  239  252  267  274  283  289  290  301\n",
      "  313  316  318  319  323  354  364  365  378  380  391  409  425  427  442\n",
      "  444  458  463  500  506  507  520  528  533  534  546  548  559  566  570\n",
      "  572  575  586  589  593  594  599  600  603  613  626  628  637  640  648\n",
      "  676  682  689  690  696  700  702  709  711  712  719  727  729  751  762\n",
      "  770  771  772  779  789  794  802  808  809  810  813  819  827  838  844\n",
      "  846  850  868  874  887  891  893  901  907  914  915  919  936  942  952\n",
      "  955  960  979 1000 1011 1028 1038 1042 1045 1048 1055 1056 1090 1098 1099\n",
      " 1102 1105 1116 1117 1126 1128 1136 1156 1159 1165 1176 1195 1242 1246 1249\n",
      " 1253 1265 1271 1307 1309 1312 1319 1340 1342 1356 1370 1373 1413 1431 1440\n",
      " 1449 1452 1458 1460 1480 1489 1490 1491 1505 1511 1528 1535 1542 1552 1553\n",
      " 1622 1628 1644 1652 1670 1672 1678 1691 1700 1704 1711 1722 1747 1760 1779\n",
      " 1780 1783 1804 1817 1819 1820 1822 1825 1838 1843 1846 1849 1850 1853 1869\n",
      " 1870 1873 1879 1912 1920 1932 1953 1954 1955 1958 1964 1973 1984 1986 2017\n",
      " 2019 2031 2035 2040 2047 2081 2082 2086 2110 2115 2116 2121 2134 2152 2161\n",
      " 2164 2165 2167 2168 2179 2193 2196 2201 2211 2213 2215 2230 2232 2239 2247\n",
      " 2253 2255 2270 2285 2291 2311 2315 2320 2342 2345 2346 2351 2357 2377 2378\n",
      " 2382 2393 2401 2410 2412 2415 2419 2422 2430 2434 2436 2443 2446 2471 2494\n",
      " 2502 2531 2540 2547 2561 2566 2597 2600 2605 2611 2612 2624 2637 2644 2648\n",
      " 2653 2658 2697 2708 2726 2730 2739 2791 2793 2809 2824 2834 2835 2843 2845\n",
      " 2846 2861 2864 2874 2884] are constant.\n",
      "  UserWarning)\n"
     ]
    }
   ],
   "source": []
  },
  {
   "cell_type": "code",
   "execution_count": 44,
   "metadata": {
    "collapsed": false
   },
   "outputs": [
    {
     "name": "stdout",
     "output_type": "stream",
     "text": [
      "             precision    recall  f1-score   support\n",
      "\n",
      "          0       0.83      0.69      0.76      7458\n",
      "          1       0.63      0.19      0.30      1425\n",
      "          2       0.76      0.91      0.83     10719\n",
      "\n",
      "avg / total       0.77      0.78      0.76     19602\n",
      "\n"
     ]
    }
   ],
   "source": [
    "print(report)"
   ]
  },
  {
   "cell_type": "markdown",
   "metadata": {},
   "source": [
    "### Stratified Shuffle Split Sample"
   ]
  },
  {
   "cell_type": "code",
   "execution_count": 67,
   "metadata": {
    "collapsed": false
   },
   "outputs": [
    {
     "name": "stdout",
     "output_type": "stream",
     "text": [
      "TRAIN indices: [56033 42149 50644 ..., 23965 52811 37112] TEST indices: [52237  4107 28169 ..., 54782  2110  3833]\n",
      "TRAIN indices: [31788 54920  3600 ..., 37340 40168 39623] TEST indices: [21495  5759  4607 ..., 28518   447 26835]\n"
     ]
    }
   ],
   "source": [
    "from sklearn.cross_validation import StratifiedShuffleSplit\n",
    "sss = StratifiedShuffleSplit(y,2, test_size=0.2, random_state=42)\n",
    "for train_index, test_index in sss:\n",
    "    print(\"TRAIN indices:\", train_index, \"TEST indices:\", test_index)"
   ]
  },
  {
   "cell_type": "code",
   "execution_count": 139,
   "metadata": {
    "collapsed": false
   },
   "outputs": [
    {
     "data": {
      "text/plain": [
       "(59400, 3031)"
      ]
     },
     "execution_count": 139,
     "metadata": {},
     "output_type": "execute_result"
    }
   ],
   "source": [
    "X.shape"
   ]
  },
  {
   "cell_type": "code",
   "execution_count": 173,
   "metadata": {
    "collapsed": false
   },
   "outputs": [
    {
     "name": "stdout",
     "output_type": "stream",
     "text": [
      "47520\n",
      "11880\n",
      "59400\n"
     ]
    }
   ],
   "source": [
    "#X_train = X[train_index]\n",
    "print(len(train_index))\n",
    "print(len(test_index))\n",
    "print(len(train_index) + len(test_index))"
   ]
  },
  {
   "cell_type": "code",
   "execution_count": 192,
   "metadata": {
    "collapsed": false
   },
   "outputs": [
    {
     "name": "stdout",
     "output_type": "stream",
     "text": [
      "(47520, 3031)\n",
      "(11880, 3031)\n"
     ]
    }
   ],
   "source": [
    "X_train = X.iloc[train_index,]\n",
    "X_test = X.iloc[test_index,]\n",
    "y_train = labels_df.values[train_index]\n",
    "y_test = labels_df.values[test_index]\n",
    "print(X_train.shape)\n",
    "print(X_test.shape)"
   ]
  },
  {
   "cell_type": "code",
   "execution_count": 193,
   "metadata": {
    "collapsed": false
   },
   "outputs": [
    {
     "data": {
      "text/plain": [
       "pandas.core.frame.DataFrame"
      ]
     },
     "execution_count": 193,
     "metadata": {},
     "output_type": "execute_result"
    }
   ],
   "source": [
    "type(labels_df)"
   ]
  },
  {
   "cell_type": "code",
   "execution_count": 166,
   "metadata": {
    "collapsed": false
   },
   "outputs": [
    {
     "name": "stdout",
     "output_type": "stream",
     "text": [
      "47520\n",
      "11880\n"
     ]
    }
   ],
   "source": [
    "#y_train = y_train.tolist()\n",
    "#y_test = y_test.tolist()\n",
    "#print(len(y_train))\n",
    "#print(len(y_test))"
   ]
  },
  {
   "cell_type": "code",
   "execution_count": 169,
   "metadata": {
    "collapsed": false
   },
   "outputs": [
    {
     "data": {
      "text/plain": [
       "(47520, 3031)"
      ]
     },
     "execution_count": 169,
     "metadata": {},
     "output_type": "execute_result"
    }
   ],
   "source": [
    "X_train.dropna().shape"
   ]
  },
  {
   "cell_type": "code",
   "execution_count": 157,
   "metadata": {
    "collapsed": false
   },
   "outputs": [
    {
     "data": {
      "text/plain": [
       "(11880, 3031)"
      ]
     },
     "execution_count": 157,
     "metadata": {},
     "output_type": "execute_result"
    }
   ],
   "source": [
    "X_test.dropna().shape"
   ]
  },
  {
   "cell_type": "code",
   "execution_count": 200,
   "metadata": {
    "collapsed": false
   },
   "outputs": [
    {
     "data": {
      "text/plain": [
       "47520"
      ]
     },
     "execution_count": 200,
     "metadata": {},
     "output_type": "execute_result"
    }
   ],
   "source": [
    "len(y_train)"
   ]
  },
  {
   "cell_type": "code",
   "execution_count": 233,
   "metadata": {
    "collapsed": false
   },
   "outputs": [
    {
     "name": "stdout",
     "output_type": "stream",
     "text": [
      "<class 'list'>\n",
      "11880\n"
     ]
    }
   ],
   "source": [
    "y_test = labels_df.iloc[test_index] # iloc does not give those spurious NaNs\n",
    "y_test0 = y_test['status_group'].tolist()\n",
    "print(type(y_test0))\n",
    "print(len(y_test0))"
   ]
  },
  {
   "cell_type": "code",
   "execution_count": 236,
   "metadata": {
    "collapsed": false
   },
   "outputs": [
    {
     "name": "stdout",
     "output_type": "stream",
     "text": [
      "<class 'list'>\n",
      "47520\n"
     ]
    }
   ],
   "source": [
    "y_train = labels_df.iloc[train_index]\n",
    "y_train0 = y_train['status_group'].tolist()\n",
    "print(type(y_train0))\n",
    "print(len(y_train0))"
   ]
  },
  {
   "cell_type": "code",
   "execution_count": 205,
   "metadata": {
    "collapsed": false
   },
   "outputs": [],
   "source": [
    "#out = np.concatenate(input_list).ravel().tolist()"
   ]
  },
  {
   "cell_type": "code",
   "execution_count": 237,
   "metadata": {
    "collapsed": false
   },
   "outputs": [
    {
     "name": "stdout",
     "output_type": "stream",
     "text": [
      "[ 0.74788537  0.75042616  0.74272366]\n"
     ]
    }
   ],
   "source": [
    "# random forest\n",
    "import sklearn.tree\n",
    "import sklearn.ensemble\n",
    "\n",
    "clf = sklearn.tree.DecisionTreeClassifier()\n",
    "score = sklearn.cross_validation.cross_val_score( clf, X_train, y_train0 )\n",
    "print( score )"
   ]
  },
  {
   "cell_type": "code",
   "execution_count": 238,
   "metadata": {
    "collapsed": false
   },
   "outputs": [
    {
     "name": "stdout",
     "output_type": "stream",
     "text": [
      "[ 0.77477591  0.77441758  0.77214471]\n"
     ]
    }
   ],
   "source": [
    "clf = sklearn.ensemble.RandomForestClassifier()\n",
    "score = sklearn.cross_validation.cross_val_score( clf, X_train, y_train0 )\n",
    "print( score )"
   ]
  },
  {
   "cell_type": "code",
   "execution_count": 239,
   "metadata": {
    "collapsed": false
   },
   "outputs": [
    {
     "name": "stderr",
     "output_type": "stream",
     "text": [
      "/Users/Izham/apps/miniconda3/lib/python3.4/site-packages/sklearn/feature_selection/univariate_selection.py:111: UserWarning: Features [  12  191  200  210  211  214  215  218  238  240  243  251  252  267  286\n",
      "  287  289  290  292  295  298  309  316  325  327  328  331  341  346  348\n",
      "  364  369  377  378  380  392  395  398  409  425  427  434  448  452  457\n",
      "  463  467  474  494  495  501  503  505  507  508  511  515  529  534  552\n",
      "  556  572  576  594  596  602  603  606  607  608  609  612  620  626  628\n",
      "  630  636  637  651  662  665  674  682  689  691  700  702  710  711  713\n",
      "  721  725  727  734  735  747  751  752  753  770  772  802  811  813  828\n",
      "  829  836  848  862  889  891  900  903  907  931  932  944  954  955  960\n",
      "  963  979 1000 1001 1011 1016 1021 1033 1035 1037 1048 1053 1082 1090 1093\n",
      " 1097 1098 1105 1116 1117 1120 1127 1128 1131 1136 1155 1157 1159 1162 1165\n",
      " 1167 1172 1176 1180 1184 1185 1194 1195 1210 1216 1238 1249 1264 1312 1316\n",
      " 1322 1328 1334 1336 1340 1356 1357 1363 1367 1373 1385 1393 1404 1408 1416\n",
      " 1424 1427 1431 1435 1437 1451 1452 1454 1458 1468 1479 1490 1499 1507 1511\n",
      " 1512 1525 1528 1535 1548 1552 1553 1556 1561 1574 1576 1579 1580 1581 1587\n",
      " 1613 1615 1631 1644 1648 1655 1665 1670 1672 1673 1678 1681 1682 1686 1687\n",
      " 1688 1700 1704 1733 1755 1764 1771 1783 1809 1814 1816 1824 1825 1827 1828\n",
      " 1834 1843 1854 1861 1870 1873 1879 1883 1892 1900 1903 1932 1936 1942 1960\n",
      " 1973 1974 1979 1985 1986 1998 2003 2004 2005 2011 2012 2017 2021 2035 2037\n",
      " 2040 2043 2046 2052 2061 2063 2073 2075 2076 2078 2081 2083 2101 2106 2120\n",
      " 2126 2131 2134 2148 2159 2176 2177 2179 2181 2191 2195 2196 2197 2213 2215\n",
      " 2220 2223 2225 2239 2240 2247 2251 2255 2265 2275 2276 2281 2284 2285 2291\n",
      " 2294 2302 2312 2319 2339 2342 2352 2354 2364 2367 2383 2384 2385 2390 2402\n",
      " 2403 2410 2433 2434 2436 2443 2446 2451 2467 2478 2479 2497 2500 2502 2508\n",
      " 2509 2513 2520 2531 2541 2547 2554 2560 2592 2603 2604 2605 2609 2611 2622\n",
      " 2629 2637 2638 2639 2648 2649 2655 2658 2681 2690 2694 2697 2705 2707 2708\n",
      " 2711 2716 2717 2730 2731 2734 2736 2739 2751 2763 2764 2787 2797 2803 2805\n",
      " 2809 2812 2824 2838 2844 2845 2846 2851 2852 2854 2858 2861 2862 2874 2878\n",
      " 2884 2897] are constant.\n",
      "  UserWarning)\n",
      "/Users/Izham/apps/miniconda3/lib/python3.4/site-packages/sklearn/feature_selection/univariate_selection.py:111: UserWarning: Features [  12  157  191  214  215  227  252  263  270  274  283  286  289  290  292\n",
      "  297  298  309  316  325  328  331  338  341  348  351  357  358  365  368\n",
      "  378  383  393  394  395  396  420  425  429  434  441  444  448  453  457\n",
      "  458  461  471  495  503  507  511  524  525  528  540  542  556  560  572\n",
      "  575  593  596  597  600  602  604  607  608  611  617  626  636  637  646\n",
      "  648  652  656  658  661  662  664  668  670  677  682  689  690  695  700\n",
      "  702  713  725  729  744  752  762  766  770  774  779  789  791  794  803\n",
      "  809  813  821  827  828  844  846  847  850  855  857  860  862  866  868\n",
      "  874  877  887  891  892  899  915  919  921  935  939  940  942  949  952\n",
      "  955  960  968  977  984  991  992  998 1001 1007 1011 1020 1026 1030 1037\n",
      " 1060 1070 1090 1092 1097 1104 1105 1117 1118 1127 1128 1129 1131 1137 1146\n",
      " 1155 1160 1165 1178 1185 1188 1194 1195 1199 1216 1220 1221 1233 1237 1242\n",
      " 1253 1257 1264 1298 1312 1319 1323 1328 1332 1340 1342 1357 1363 1366 1370\n",
      " 1376 1393 1408 1413 1423 1424 1427 1435 1442 1450 1468 1472 1479 1480 1484\n",
      " 1489 1490 1515 1523 1525 1548 1552 1557 1562 1578 1580 1582 1587 1596 1602\n",
      " 1613 1622 1624 1630 1631 1640 1652 1669 1670 1672 1674 1681 1682 1683 1690\n",
      " 1700 1711 1722 1727 1733 1736 1740 1747 1763 1764 1776 1780 1783 1784 1793\n",
      " 1799 1809 1814 1815 1824 1826 1838 1844 1846 1853 1856 1860 1869 1876 1879\n",
      " 1883 1892 1896 1903 1907 1914 1920 1921 1930 1931 1941 1943 1945 1948 1952\n",
      " 1953 1954 1958 1960 1965 1966 1973 1979 1980 1986 1995 2003 2012 2017 2031\n",
      " 2035 2037 2042 2047 2063 2076 2083 2085 2089 2090 2092 2094 2097 2099 2101\n",
      " 2110 2115 2118 2121 2139 2148 2159 2176 2181 2185 2191 2197 2198 2213 2214\n",
      " 2215 2223 2225 2232 2240 2255 2270 2276 2278 2282 2297 2302 2314 2315 2318\n",
      " 2323 2327 2334 2342 2345 2351 2354 2375 2382 2385 2401 2403 2425 2426 2428\n",
      " 2430 2442 2443 2450 2451 2452 2467 2471 2478 2479 2490 2494 2499 2500 2502\n",
      " 2509 2512 2518 2520 2531 2540 2541 2545 2550 2576 2600 2603 2611 2622 2653\n",
      " 2661 2678 2688 2690 2704 2707 2715 2717 2730 2731 2733 2734 2739 2763 2764\n",
      " 2774 2777 2780 2791 2793 2796 2797 2812 2814 2827 2834 2843 2849 2852 2853\n",
      " 2854 2862 2873 2874 2878 2879 2883 2884 2897] are constant.\n",
      "  UserWarning)\n",
      "/Users/Izham/apps/miniconda3/lib/python3.4/site-packages/sklearn/feature_selection/univariate_selection.py:111: UserWarning: Features [  12  191  214  215  220  221  223  237  239  252  259  284  286  289  290\n",
      "  292  298  299  304  309  312  313  316  318  323  325  328  330  331  340\n",
      "  341  347  348  350  354  371  378  391  395  407  413  417  425  433  434\n",
      "  442  448  457  495  500  503  506  507  511  517  518  520  521  526  530\n",
      "  533  546  554  556  565  568  570  572  577  584  586  589  590  592  596\n",
      "  602  607  608  613  618  619  622  625  626  636  637  639  640  662  667\n",
      "  672  676  682  689  696  698  700  701  702  704  707  709  712  713  719\n",
      "  720  723  725  752  761  770  771  793  801  810  813  819  826  828  833\n",
      "  834  838  862  871  873  882  890  891  893  895  897  901  908  914  922\n",
      "  928  936  943  951  955  956  958  960  965  986  997  999 1001 1011 1034\n",
      " 1037 1042 1045 1054 1056 1085 1090 1097 1099 1102 1105 1117 1124 1126 1127\n",
      " 1128 1131 1141 1145 1150 1155 1156 1158 1164 1165 1166 1169 1185 1194 1195\n",
      " 1197 1212 1216 1217 1232 1246 1264 1265 1267 1268 1271 1272 1274 1280 1288\n",
      " 1307 1309 1312 1315 1328 1338 1340 1348 1349 1353 1357 1359 1363 1372 1393\n",
      " 1395 1408 1418 1424 1426 1427 1435 1440 1444 1456 1459 1460 1468 1479 1481\n",
      " 1490 1491 1500 1505 1524 1525 1527 1542 1543 1546 1548 1552 1580 1587 1600\n",
      " 1611 1613 1623 1626 1628 1631 1658 1664 1670 1672 1679 1681 1682 1695 1700\n",
      " 1721 1726 1733 1748 1764 1769 1779 1781 1783 1790 1792 1797 1804 1806 1809\n",
      " 1810 1813 1814 1817 1819 1820 1822 1823 1824 1849 1850 1859 1868 1879 1883\n",
      " 1892 1897 1903 1904 1934 1939 1951 1955 1960 1962 1973 1975 1979 1982 1983\n",
      " 1986 1987 2003 2012 2013 2014 2017 2019 2034 2035 2037 2055 2056 2063 2067\n",
      " 2069 2076 2082 2083 2086 2096 2098 2101 2112 2113 2133 2138 2141 2144 2147\n",
      " 2148 2149 2152 2157 2159 2166 2167 2168 2172 2176 2181 2191 2193 2197 2201\n",
      " 2204 2213 2215 2221 2223 2225 2229 2230 2233 2240 2242 2244 2245 2255 2262\n",
      " 2276 2283 2300 2302 2306 2309 2310 2311 2317 2321 2342 2346 2349 2354 2355\n",
      " 2357 2377 2378 2385 2393 2403 2412 2415 2419 2422 2423 2424 2435 2443 2451\n",
      " 2459 2466 2467 2478 2479 2488 2500 2501 2502 2509 2516 2520 2524 2531 2541\n",
      " 2542 2543 2556 2561 2562 2566 2570 2578 2581 2584 2586 2587 2593 2595 2603\n",
      " 2606 2608 2610 2611 2612 2613 2617 2622 2624 2628 2644 2660 2671 2690 2707\n",
      " 2714 2717 2718 2723 2726 2730 2731 2732 2734 2739 2748 2749 2750 2752 2759\n",
      " 2763 2764 2770 2775 2779 2786 2797 2812 2835 2837 2852 2854 2857 2862 2868\n",
      " 2871 2874 2878 2880 2884 2886 2897 2916] are constant.\n",
      "  UserWarning)\n",
      "/Users/Izham/apps/miniconda3/lib/python3.4/site-packages/sklearn/feature_selection/univariate_selection.py:111: UserWarning: Features [  12  191  200  210  211  214  215  218  238  240  243  251  252  267  286\n",
      "  287  289  290  292  295  298  309  316  325  327  328  331  341  346  348\n",
      "  364  369  377  378  380  392  395  398  409  425  427  434  448  452  457\n",
      "  463  467  474  494  495  501  503  505  507  508  511  515  529  534  552\n",
      "  556  572  576  594  596  602  603  606  607  608  609  612  620  626  628\n",
      "  630  636  637  651  662  665  674  682  689  691  700  702  710  711  713\n",
      "  721  725  727  734  735  747  751  752  753  770  772  802  811  813  828\n",
      "  829  836  848  862  889  891  900  903  907  931  932  944  954  955  960\n",
      "  963  979 1000 1001 1011 1016 1021 1033 1035 1037 1048 1053 1082 1090 1093\n",
      " 1097 1098 1105 1116 1117 1120 1127 1128 1131 1136 1155 1157 1159 1162 1165\n",
      " 1167 1172 1176 1180 1184 1185 1194 1195 1210 1216 1238 1249 1264 1312 1316\n",
      " 1322 1328 1334 1336 1340 1356 1357 1363 1367 1373 1385 1393 1404 1408 1416\n",
      " 1424 1427 1431 1435 1437 1451 1452 1454 1458 1468 1479 1490 1499 1507 1511\n",
      " 1512 1525 1528 1535 1548 1552 1553 1556 1561 1574 1576 1579 1580 1581 1587\n",
      " 1613 1615 1631 1644 1648 1655 1665 1670 1672 1673 1678 1681 1682 1686 1687\n",
      " 1688 1700 1704 1733 1755 1764 1771 1783 1809 1814 1816 1824 1825 1827 1828\n",
      " 1834 1843 1854 1861 1870 1873 1879 1883 1892 1900 1903 1932 1936 1942 1960\n",
      " 1973 1974 1979 1985 1986 1998 2003 2004 2005 2011 2012 2017 2021 2035 2037\n",
      " 2040 2043 2046 2052 2061 2063 2073 2075 2076 2078 2081 2083 2101 2106 2120\n",
      " 2126 2131 2134 2148 2159 2176 2177 2179 2181 2191 2195 2196 2197 2213 2215\n",
      " 2220 2223 2225 2239 2240 2247 2251 2255 2265 2275 2276 2281 2284 2285 2291\n",
      " 2294 2302 2312 2319 2339 2342 2352 2354 2364 2367 2383 2384 2385 2390 2402\n",
      " 2403 2410 2433 2434 2436 2443 2446 2451 2467 2478 2479 2497 2500 2502 2508\n",
      " 2509 2513 2520 2531 2541 2547 2554 2560 2592 2603 2604 2605 2609 2611 2622\n",
      " 2629 2637 2638 2639 2648 2649 2655 2658 2681 2690 2694 2697 2705 2707 2708\n",
      " 2711 2716 2717 2730 2731 2734 2736 2739 2751 2763 2764 2787 2797 2803 2805\n",
      " 2809 2812 2824 2838 2844 2845 2846 2851 2852 2854 2858 2861 2862 2874 2878\n",
      " 2884 2897] are constant.\n",
      "  UserWarning)\n",
      "/Users/Izham/apps/miniconda3/lib/python3.4/site-packages/sklearn/feature_selection/univariate_selection.py:111: UserWarning: Features [  12  157  191  214  215  227  252  263  270  274  283  286  289  290  292\n",
      "  297  298  309  316  325  328  331  338  341  348  351  357  358  365  368\n",
      "  378  383  393  394  395  396  420  425  429  434  441  444  448  453  457\n",
      "  458  461  471  495  503  507  511  524  525  528  540  542  556  560  572\n",
      "  575  593  596  597  600  602  604  607  608  611  617  626  636  637  646\n",
      "  648  652  656  658  661  662  664  668  670  677  682  689  690  695  700\n",
      "  702  713  725  729  744  752  762  766  770  774  779  789  791  794  803\n",
      "  809  813  821  827  828  844  846  847  850  855  857  860  862  866  868\n",
      "  874  877  887  891  892  899  915  919  921  935  939  940  942  949  952\n",
      "  955  960  968  977  984  991  992  998 1001 1007 1011 1020 1026 1030 1037\n",
      " 1060 1070 1090 1092 1097 1104 1105 1117 1118 1127 1128 1129 1131 1137 1146\n",
      " 1155 1160 1165 1178 1185 1188 1194 1195 1199 1216 1220 1221 1233 1237 1242\n",
      " 1253 1257 1264 1298 1312 1319 1323 1328 1332 1340 1342 1357 1363 1366 1370\n",
      " 1376 1393 1408 1413 1423 1424 1427 1435 1442 1450 1468 1472 1479 1480 1484\n",
      " 1489 1490 1515 1523 1525 1548 1552 1557 1562 1578 1580 1582 1587 1596 1602\n",
      " 1613 1622 1624 1630 1631 1640 1652 1669 1670 1672 1674 1681 1682 1683 1690\n",
      " 1700 1711 1722 1727 1733 1736 1740 1747 1763 1764 1776 1780 1783 1784 1793\n",
      " 1799 1809 1814 1815 1824 1826 1838 1844 1846 1853 1856 1860 1869 1876 1879\n",
      " 1883 1892 1896 1903 1907 1914 1920 1921 1930 1931 1941 1943 1945 1948 1952\n",
      " 1953 1954 1958 1960 1965 1966 1973 1979 1980 1986 1995 2003 2012 2017 2031\n",
      " 2035 2037 2042 2047 2063 2076 2083 2085 2089 2090 2092 2094 2097 2099 2101\n",
      " 2110 2115 2118 2121 2139 2148 2159 2176 2181 2185 2191 2197 2198 2213 2214\n",
      " 2215 2223 2225 2232 2240 2255 2270 2276 2278 2282 2297 2302 2314 2315 2318\n",
      " 2323 2327 2334 2342 2345 2351 2354 2375 2382 2385 2401 2403 2425 2426 2428\n",
      " 2430 2442 2443 2450 2451 2452 2467 2471 2478 2479 2490 2494 2499 2500 2502\n",
      " 2509 2512 2518 2520 2531 2540 2541 2545 2550 2576 2600 2603 2611 2622 2653\n",
      " 2661 2678 2688 2690 2704 2707 2715 2717 2730 2731 2733 2734 2739 2763 2764\n",
      " 2774 2777 2780 2791 2793 2796 2797 2812 2814 2827 2834 2843 2849 2852 2853\n",
      " 2854 2862 2873 2874 2878 2879 2883 2884 2897] are constant.\n",
      "  UserWarning)\n",
      "/Users/Izham/apps/miniconda3/lib/python3.4/site-packages/sklearn/feature_selection/univariate_selection.py:111: UserWarning: Features [  12  191  214  215  220  221  223  237  239  252  259  284  286  289  290\n",
      "  292  298  299  304  309  312  313  316  318  323  325  328  330  331  340\n",
      "  341  347  348  350  354  371  378  391  395  407  413  417  425  433  434\n",
      "  442  448  457  495  500  503  506  507  511  517  518  520  521  526  530\n",
      "  533  546  554  556  565  568  570  572  577  584  586  589  590  592  596\n",
      "  602  607  608  613  618  619  622  625  626  636  637  639  640  662  667\n",
      "  672  676  682  689  696  698  700  701  702  704  707  709  712  713  719\n",
      "  720  723  725  752  761  770  771  793  801  810  813  819  826  828  833\n",
      "  834  838  862  871  873  882  890  891  893  895  897  901  908  914  922\n",
      "  928  936  943  951  955  956  958  960  965  986  997  999 1001 1011 1034\n",
      " 1037 1042 1045 1054 1056 1085 1090 1097 1099 1102 1105 1117 1124 1126 1127\n",
      " 1128 1131 1141 1145 1150 1155 1156 1158 1164 1165 1166 1169 1185 1194 1195\n",
      " 1197 1212 1216 1217 1232 1246 1264 1265 1267 1268 1271 1272 1274 1280 1288\n",
      " 1307 1309 1312 1315 1328 1338 1340 1348 1349 1353 1357 1359 1363 1372 1393\n",
      " 1395 1408 1418 1424 1426 1427 1435 1440 1444 1456 1459 1460 1468 1479 1481\n",
      " 1490 1491 1500 1505 1524 1525 1527 1542 1543 1546 1548 1552 1580 1587 1600\n",
      " 1611 1613 1623 1626 1628 1631 1658 1664 1670 1672 1679 1681 1682 1695 1700\n",
      " 1721 1726 1733 1748 1764 1769 1779 1781 1783 1790 1792 1797 1804 1806 1809\n",
      " 1810 1813 1814 1817 1819 1820 1822 1823 1824 1849 1850 1859 1868 1879 1883\n",
      " 1892 1897 1903 1904 1934 1939 1951 1955 1960 1962 1973 1975 1979 1982 1983\n",
      " 1986 1987 2003 2012 2013 2014 2017 2019 2034 2035 2037 2055 2056 2063 2067\n",
      " 2069 2076 2082 2083 2086 2096 2098 2101 2112 2113 2133 2138 2141 2144 2147\n",
      " 2148 2149 2152 2157 2159 2166 2167 2168 2172 2176 2181 2191 2193 2197 2201\n",
      " 2204 2213 2215 2221 2223 2225 2229 2230 2233 2240 2242 2244 2245 2255 2262\n",
      " 2276 2283 2300 2302 2306 2309 2310 2311 2317 2321 2342 2346 2349 2354 2355\n",
      " 2357 2377 2378 2385 2393 2403 2412 2415 2419 2422 2423 2424 2435 2443 2451\n",
      " 2459 2466 2467 2478 2479 2488 2500 2501 2502 2509 2516 2520 2524 2531 2541\n",
      " 2542 2543 2556 2561 2562 2566 2570 2578 2581 2584 2586 2587 2593 2595 2603\n",
      " 2606 2608 2610 2611 2612 2613 2617 2622 2624 2628 2644 2660 2671 2690 2707\n",
      " 2714 2717 2718 2723 2726 2730 2731 2732 2734 2739 2748 2749 2750 2752 2759\n",
      " 2763 2764 2770 2775 2779 2786 2797 2812 2835 2837 2852 2854 2857 2862 2868\n",
      " 2871 2874 2878 2880 2884 2886 2897 2916] are constant.\n",
      "  UserWarning)\n",
      "/Users/Izham/apps/miniconda3/lib/python3.4/site-packages/sklearn/feature_selection/univariate_selection.py:111: UserWarning: Features [  12  191  200  210  211  214  215  218  238  240  243  251  252  267  286\n",
      "  287  289  290  292  295  298  309  316  325  327  328  331  341  346  348\n",
      "  364  369  377  378  380  392  395  398  409  425  427  434  448  452  457\n",
      "  463  467  474  494  495  501  503  505  507  508  511  515  529  534  552\n",
      "  556  572  576  594  596  602  603  606  607  608  609  612  620  626  628\n",
      "  630  636  637  651  662  665  674  682  689  691  700  702  710  711  713\n",
      "  721  725  727  734  735  747  751  752  753  770  772  802  811  813  828\n",
      "  829  836  848  862  889  891  900  903  907  931  932  944  954  955  960\n",
      "  963  979 1000 1001 1011 1016 1021 1033 1035 1037 1048 1053 1082 1090 1093\n",
      " 1097 1098 1105 1116 1117 1120 1127 1128 1131 1136 1155 1157 1159 1162 1165\n",
      " 1167 1172 1176 1180 1184 1185 1194 1195 1210 1216 1238 1249 1264 1312 1316\n",
      " 1322 1328 1334 1336 1340 1356 1357 1363 1367 1373 1385 1393 1404 1408 1416\n",
      " 1424 1427 1431 1435 1437 1451 1452 1454 1458 1468 1479 1490 1499 1507 1511\n",
      " 1512 1525 1528 1535 1548 1552 1553 1556 1561 1574 1576 1579 1580 1581 1587\n",
      " 1613 1615 1631 1644 1648 1655 1665 1670 1672 1673 1678 1681 1682 1686 1687\n",
      " 1688 1700 1704 1733 1755 1764 1771 1783 1809 1814 1816 1824 1825 1827 1828\n",
      " 1834 1843 1854 1861 1870 1873 1879 1883 1892 1900 1903 1932 1936 1942 1960\n",
      " 1973 1974 1979 1985 1986 1998 2003 2004 2005 2011 2012 2017 2021 2035 2037\n",
      " 2040 2043 2046 2052 2061 2063 2073 2075 2076 2078 2081 2083 2101 2106 2120\n",
      " 2126 2131 2134 2148 2159 2176 2177 2179 2181 2191 2195 2196 2197 2213 2215\n",
      " 2220 2223 2225 2239 2240 2247 2251 2255 2265 2275 2276 2281 2284 2285 2291\n",
      " 2294 2302 2312 2319 2339 2342 2352 2354 2364 2367 2383 2384 2385 2390 2402\n",
      " 2403 2410 2433 2434 2436 2443 2446 2451 2467 2478 2479 2497 2500 2502 2508\n",
      " 2509 2513 2520 2531 2541 2547 2554 2560 2592 2603 2604 2605 2609 2611 2622\n",
      " 2629 2637 2638 2639 2648 2649 2655 2658 2681 2690 2694 2697 2705 2707 2708\n",
      " 2711 2716 2717 2730 2731 2734 2736 2739 2751 2763 2764 2787 2797 2803 2805\n",
      " 2809 2812 2824 2838 2844 2845 2846 2851 2852 2854 2858 2861 2862 2874 2878\n",
      " 2884 2897] are constant.\n",
      "  UserWarning)\n",
      "/Users/Izham/apps/miniconda3/lib/python3.4/site-packages/sklearn/feature_selection/univariate_selection.py:111: UserWarning: Features [  12  157  191  214  215  227  252  263  270  274  283  286  289  290  292\n",
      "  297  298  309  316  325  328  331  338  341  348  351  357  358  365  368\n",
      "  378  383  393  394  395  396  420  425  429  434  441  444  448  453  457\n",
      "  458  461  471  495  503  507  511  524  525  528  540  542  556  560  572\n",
      "  575  593  596  597  600  602  604  607  608  611  617  626  636  637  646\n",
      "  648  652  656  658  661  662  664  668  670  677  682  689  690  695  700\n",
      "  702  713  725  729  744  752  762  766  770  774  779  789  791  794  803\n",
      "  809  813  821  827  828  844  846  847  850  855  857  860  862  866  868\n",
      "  874  877  887  891  892  899  915  919  921  935  939  940  942  949  952\n",
      "  955  960  968  977  984  991  992  998 1001 1007 1011 1020 1026 1030 1037\n",
      " 1060 1070 1090 1092 1097 1104 1105 1117 1118 1127 1128 1129 1131 1137 1146\n",
      " 1155 1160 1165 1178 1185 1188 1194 1195 1199 1216 1220 1221 1233 1237 1242\n",
      " 1253 1257 1264 1298 1312 1319 1323 1328 1332 1340 1342 1357 1363 1366 1370\n",
      " 1376 1393 1408 1413 1423 1424 1427 1435 1442 1450 1468 1472 1479 1480 1484\n",
      " 1489 1490 1515 1523 1525 1548 1552 1557 1562 1578 1580 1582 1587 1596 1602\n",
      " 1613 1622 1624 1630 1631 1640 1652 1669 1670 1672 1674 1681 1682 1683 1690\n",
      " 1700 1711 1722 1727 1733 1736 1740 1747 1763 1764 1776 1780 1783 1784 1793\n",
      " 1799 1809 1814 1815 1824 1826 1838 1844 1846 1853 1856 1860 1869 1876 1879\n",
      " 1883 1892 1896 1903 1907 1914 1920 1921 1930 1931 1941 1943 1945 1948 1952\n",
      " 1953 1954 1958 1960 1965 1966 1973 1979 1980 1986 1995 2003 2012 2017 2031\n",
      " 2035 2037 2042 2047 2063 2076 2083 2085 2089 2090 2092 2094 2097 2099 2101\n",
      " 2110 2115 2118 2121 2139 2148 2159 2176 2181 2185 2191 2197 2198 2213 2214\n",
      " 2215 2223 2225 2232 2240 2255 2270 2276 2278 2282 2297 2302 2314 2315 2318\n",
      " 2323 2327 2334 2342 2345 2351 2354 2375 2382 2385 2401 2403 2425 2426 2428\n",
      " 2430 2442 2443 2450 2451 2452 2467 2471 2478 2479 2490 2494 2499 2500 2502\n",
      " 2509 2512 2518 2520 2531 2540 2541 2545 2550 2576 2600 2603 2611 2622 2653\n",
      " 2661 2678 2688 2690 2704 2707 2715 2717 2730 2731 2733 2734 2739 2763 2764\n",
      " 2774 2777 2780 2791 2793 2796 2797 2812 2814 2827 2834 2843 2849 2852 2853\n",
      " 2854 2862 2873 2874 2878 2879 2883 2884 2897] are constant.\n",
      "  UserWarning)\n",
      "/Users/Izham/apps/miniconda3/lib/python3.4/site-packages/sklearn/feature_selection/univariate_selection.py:111: UserWarning: Features [  12  191  214  215  220  221  223  237  239  252  259  284  286  289  290\n",
      "  292  298  299  304  309  312  313  316  318  323  325  328  330  331  340\n",
      "  341  347  348  350  354  371  378  391  395  407  413  417  425  433  434\n",
      "  442  448  457  495  500  503  506  507  511  517  518  520  521  526  530\n",
      "  533  546  554  556  565  568  570  572  577  584  586  589  590  592  596\n",
      "  602  607  608  613  618  619  622  625  626  636  637  639  640  662  667\n",
      "  672  676  682  689  696  698  700  701  702  704  707  709  712  713  719\n",
      "  720  723  725  752  761  770  771  793  801  810  813  819  826  828  833\n",
      "  834  838  862  871  873  882  890  891  893  895  897  901  908  914  922\n",
      "  928  936  943  951  955  956  958  960  965  986  997  999 1001 1011 1034\n",
      " 1037 1042 1045 1054 1056 1085 1090 1097 1099 1102 1105 1117 1124 1126 1127\n",
      " 1128 1131 1141 1145 1150 1155 1156 1158 1164 1165 1166 1169 1185 1194 1195\n",
      " 1197 1212 1216 1217 1232 1246 1264 1265 1267 1268 1271 1272 1274 1280 1288\n",
      " 1307 1309 1312 1315 1328 1338 1340 1348 1349 1353 1357 1359 1363 1372 1393\n",
      " 1395 1408 1418 1424 1426 1427 1435 1440 1444 1456 1459 1460 1468 1479 1481\n",
      " 1490 1491 1500 1505 1524 1525 1527 1542 1543 1546 1548 1552 1580 1587 1600\n",
      " 1611 1613 1623 1626 1628 1631 1658 1664 1670 1672 1679 1681 1682 1695 1700\n",
      " 1721 1726 1733 1748 1764 1769 1779 1781 1783 1790 1792 1797 1804 1806 1809\n",
      " 1810 1813 1814 1817 1819 1820 1822 1823 1824 1849 1850 1859 1868 1879 1883\n",
      " 1892 1897 1903 1904 1934 1939 1951 1955 1960 1962 1973 1975 1979 1982 1983\n",
      " 1986 1987 2003 2012 2013 2014 2017 2019 2034 2035 2037 2055 2056 2063 2067\n",
      " 2069 2076 2082 2083 2086 2096 2098 2101 2112 2113 2133 2138 2141 2144 2147\n",
      " 2148 2149 2152 2157 2159 2166 2167 2168 2172 2176 2181 2191 2193 2197 2201\n",
      " 2204 2213 2215 2221 2223 2225 2229 2230 2233 2240 2242 2244 2245 2255 2262\n",
      " 2276 2283 2300 2302 2306 2309 2310 2311 2317 2321 2342 2346 2349 2354 2355\n",
      " 2357 2377 2378 2385 2393 2403 2412 2415 2419 2422 2423 2424 2435 2443 2451\n",
      " 2459 2466 2467 2478 2479 2488 2500 2501 2502 2509 2516 2520 2524 2531 2541\n",
      " 2542 2543 2556 2561 2562 2566 2570 2578 2581 2584 2586 2587 2593 2595 2603\n",
      " 2606 2608 2610 2611 2612 2613 2617 2622 2624 2628 2644 2660 2671 2690 2707\n",
      " 2714 2717 2718 2723 2726 2730 2731 2732 2734 2739 2748 2749 2750 2752 2759\n",
      " 2763 2764 2770 2775 2779 2786 2797 2812 2835 2837 2852 2854 2857 2862 2868\n",
      " 2871 2874 2878 2880 2884 2886 2897 2916] are constant.\n",
      "  UserWarning)\n",
      "/Users/Izham/apps/miniconda3/lib/python3.4/site-packages/sklearn/feature_selection/univariate_selection.py:111: UserWarning: Features [  12  191  200  210  211  214  215  218  238  240  243  251  252  267  286\n",
      "  287  289  290  292  295  298  309  316  325  327  328  331  341  346  348\n",
      "  364  369  377  378  380  392  395  398  409  425  427  434  448  452  457\n",
      "  463  467  474  494  495  501  503  505  507  508  511  515  529  534  552\n",
      "  556  572  576  594  596  602  603  606  607  608  609  612  620  626  628\n",
      "  630  636  637  651  662  665  674  682  689  691  700  702  710  711  713\n",
      "  721  725  727  734  735  747  751  752  753  770  772  802  811  813  828\n",
      "  829  836  848  862  889  891  900  903  907  931  932  944  954  955  960\n",
      "  963  979 1000 1001 1011 1016 1021 1033 1035 1037 1048 1053 1082 1090 1093\n",
      " 1097 1098 1105 1116 1117 1120 1127 1128 1131 1136 1155 1157 1159 1162 1165\n",
      " 1167 1172 1176 1180 1184 1185 1194 1195 1210 1216 1238 1249 1264 1312 1316\n",
      " 1322 1328 1334 1336 1340 1356 1357 1363 1367 1373 1385 1393 1404 1408 1416\n",
      " 1424 1427 1431 1435 1437 1451 1452 1454 1458 1468 1479 1490 1499 1507 1511\n",
      " 1512 1525 1528 1535 1548 1552 1553 1556 1561 1574 1576 1579 1580 1581 1587\n",
      " 1613 1615 1631 1644 1648 1655 1665 1670 1672 1673 1678 1681 1682 1686 1687\n",
      " 1688 1700 1704 1733 1755 1764 1771 1783 1809 1814 1816 1824 1825 1827 1828\n",
      " 1834 1843 1854 1861 1870 1873 1879 1883 1892 1900 1903 1932 1936 1942 1960\n",
      " 1973 1974 1979 1985 1986 1998 2003 2004 2005 2011 2012 2017 2021 2035 2037\n",
      " 2040 2043 2046 2052 2061 2063 2073 2075 2076 2078 2081 2083 2101 2106 2120\n",
      " 2126 2131 2134 2148 2159 2176 2177 2179 2181 2191 2195 2196 2197 2213 2215\n",
      " 2220 2223 2225 2239 2240 2247 2251 2255 2265 2275 2276 2281 2284 2285 2291\n",
      " 2294 2302 2312 2319 2339 2342 2352 2354 2364 2367 2383 2384 2385 2390 2402\n",
      " 2403 2410 2433 2434 2436 2443 2446 2451 2467 2478 2479 2497 2500 2502 2508\n",
      " 2509 2513 2520 2531 2541 2547 2554 2560 2592 2603 2604 2605 2609 2611 2622\n",
      " 2629 2637 2638 2639 2648 2649 2655 2658 2681 2690 2694 2697 2705 2707 2708\n",
      " 2711 2716 2717 2730 2731 2734 2736 2739 2751 2763 2764 2787 2797 2803 2805\n",
      " 2809 2812 2824 2838 2844 2845 2846 2851 2852 2854 2858 2861 2862 2874 2878\n",
      " 2884 2897] are constant.\n",
      "  UserWarning)\n",
      "/Users/Izham/apps/miniconda3/lib/python3.4/site-packages/sklearn/feature_selection/univariate_selection.py:111: UserWarning: Features [  12  157  191  214  215  227  252  263  270  274  283  286  289  290  292\n",
      "  297  298  309  316  325  328  331  338  341  348  351  357  358  365  368\n",
      "  378  383  393  394  395  396  420  425  429  434  441  444  448  453  457\n",
      "  458  461  471  495  503  507  511  524  525  528  540  542  556  560  572\n",
      "  575  593  596  597  600  602  604  607  608  611  617  626  636  637  646\n",
      "  648  652  656  658  661  662  664  668  670  677  682  689  690  695  700\n",
      "  702  713  725  729  744  752  762  766  770  774  779  789  791  794  803\n",
      "  809  813  821  827  828  844  846  847  850  855  857  860  862  866  868\n",
      "  874  877  887  891  892  899  915  919  921  935  939  940  942  949  952\n",
      "  955  960  968  977  984  991  992  998 1001 1007 1011 1020 1026 1030 1037\n",
      " 1060 1070 1090 1092 1097 1104 1105 1117 1118 1127 1128 1129 1131 1137 1146\n",
      " 1155 1160 1165 1178 1185 1188 1194 1195 1199 1216 1220 1221 1233 1237 1242\n",
      " 1253 1257 1264 1298 1312 1319 1323 1328 1332 1340 1342 1357 1363 1366 1370\n",
      " 1376 1393 1408 1413 1423 1424 1427 1435 1442 1450 1468 1472 1479 1480 1484\n",
      " 1489 1490 1515 1523 1525 1548 1552 1557 1562 1578 1580 1582 1587 1596 1602\n",
      " 1613 1622 1624 1630 1631 1640 1652 1669 1670 1672 1674 1681 1682 1683 1690\n",
      " 1700 1711 1722 1727 1733 1736 1740 1747 1763 1764 1776 1780 1783 1784 1793\n",
      " 1799 1809 1814 1815 1824 1826 1838 1844 1846 1853 1856 1860 1869 1876 1879\n",
      " 1883 1892 1896 1903 1907 1914 1920 1921 1930 1931 1941 1943 1945 1948 1952\n",
      " 1953 1954 1958 1960 1965 1966 1973 1979 1980 1986 1995 2003 2012 2017 2031\n",
      " 2035 2037 2042 2047 2063 2076 2083 2085 2089 2090 2092 2094 2097 2099 2101\n",
      " 2110 2115 2118 2121 2139 2148 2159 2176 2181 2185 2191 2197 2198 2213 2214\n",
      " 2215 2223 2225 2232 2240 2255 2270 2276 2278 2282 2297 2302 2314 2315 2318\n",
      " 2323 2327 2334 2342 2345 2351 2354 2375 2382 2385 2401 2403 2425 2426 2428\n",
      " 2430 2442 2443 2450 2451 2452 2467 2471 2478 2479 2490 2494 2499 2500 2502\n",
      " 2509 2512 2518 2520 2531 2540 2541 2545 2550 2576 2600 2603 2611 2622 2653\n",
      " 2661 2678 2688 2690 2704 2707 2715 2717 2730 2731 2733 2734 2739 2763 2764\n",
      " 2774 2777 2780 2791 2793 2796 2797 2812 2814 2827 2834 2843 2849 2852 2853\n",
      " 2854 2862 2873 2874 2878 2879 2883 2884 2897] are constant.\n",
      "  UserWarning)\n",
      "/Users/Izham/apps/miniconda3/lib/python3.4/site-packages/sklearn/feature_selection/univariate_selection.py:111: UserWarning: Features [  12  191  214  215  220  221  223  237  239  252  259  284  286  289  290\n",
      "  292  298  299  304  309  312  313  316  318  323  325  328  330  331  340\n",
      "  341  347  348  350  354  371  378  391  395  407  413  417  425  433  434\n",
      "  442  448  457  495  500  503  506  507  511  517  518  520  521  526  530\n",
      "  533  546  554  556  565  568  570  572  577  584  586  589  590  592  596\n",
      "  602  607  608  613  618  619  622  625  626  636  637  639  640  662  667\n",
      "  672  676  682  689  696  698  700  701  702  704  707  709  712  713  719\n",
      "  720  723  725  752  761  770  771  793  801  810  813  819  826  828  833\n",
      "  834  838  862  871  873  882  890  891  893  895  897  901  908  914  922\n",
      "  928  936  943  951  955  956  958  960  965  986  997  999 1001 1011 1034\n",
      " 1037 1042 1045 1054 1056 1085 1090 1097 1099 1102 1105 1117 1124 1126 1127\n",
      " 1128 1131 1141 1145 1150 1155 1156 1158 1164 1165 1166 1169 1185 1194 1195\n",
      " 1197 1212 1216 1217 1232 1246 1264 1265 1267 1268 1271 1272 1274 1280 1288\n",
      " 1307 1309 1312 1315 1328 1338 1340 1348 1349 1353 1357 1359 1363 1372 1393\n",
      " 1395 1408 1418 1424 1426 1427 1435 1440 1444 1456 1459 1460 1468 1479 1481\n",
      " 1490 1491 1500 1505 1524 1525 1527 1542 1543 1546 1548 1552 1580 1587 1600\n",
      " 1611 1613 1623 1626 1628 1631 1658 1664 1670 1672 1679 1681 1682 1695 1700\n",
      " 1721 1726 1733 1748 1764 1769 1779 1781 1783 1790 1792 1797 1804 1806 1809\n",
      " 1810 1813 1814 1817 1819 1820 1822 1823 1824 1849 1850 1859 1868 1879 1883\n",
      " 1892 1897 1903 1904 1934 1939 1951 1955 1960 1962 1973 1975 1979 1982 1983\n",
      " 1986 1987 2003 2012 2013 2014 2017 2019 2034 2035 2037 2055 2056 2063 2067\n",
      " 2069 2076 2082 2083 2086 2096 2098 2101 2112 2113 2133 2138 2141 2144 2147\n",
      " 2148 2149 2152 2157 2159 2166 2167 2168 2172 2176 2181 2191 2193 2197 2201\n",
      " 2204 2213 2215 2221 2223 2225 2229 2230 2233 2240 2242 2244 2245 2255 2262\n",
      " 2276 2283 2300 2302 2306 2309 2310 2311 2317 2321 2342 2346 2349 2354 2355\n",
      " 2357 2377 2378 2385 2393 2403 2412 2415 2419 2422 2423 2424 2435 2443 2451\n",
      " 2459 2466 2467 2478 2479 2488 2500 2501 2502 2509 2516 2520 2524 2531 2541\n",
      " 2542 2543 2556 2561 2562 2566 2570 2578 2581 2584 2586 2587 2593 2595 2603\n",
      " 2606 2608 2610 2611 2612 2613 2617 2622 2624 2628 2644 2660 2671 2690 2707\n",
      " 2714 2717 2718 2723 2726 2730 2731 2732 2734 2739 2748 2749 2750 2752 2759\n",
      " 2763 2764 2770 2775 2779 2786 2797 2812 2835 2837 2852 2854 2857 2862 2868\n",
      " 2871 2874 2878 2880 2884 2886 2897 2916] are constant.\n",
      "  UserWarning)\n",
      "/Users/Izham/apps/miniconda3/lib/python3.4/site-packages/sklearn/feature_selection/univariate_selection.py:111: UserWarning: Features [  12  191  214  215  252  286  289  290  292  298  309  316  325  328  331\n",
      "  341  348  378  395  425  434  448  457  495  503  507  511  556  572  596\n",
      "  602  607  608  626  636  637  662  682  689  700  702  713  725  752  770\n",
      "  813  828  862  891  955  960 1001 1011 1037 1090 1097 1105 1117 1127 1128\n",
      " 1131 1155 1165 1185 1194 1195 1216 1264 1312 1328 1340 1357 1363 1393 1408\n",
      " 1424 1427 1435 1468 1479 1490 1525 1548 1552 1580 1587 1613 1631 1670 1672\n",
      " 1681 1682 1700 1733 1764 1783 1809 1814 1824 1879 1883 1892 1903 1960 1973\n",
      " 1979 1986 2003 2012 2017 2035 2037 2063 2076 2083 2101 2148 2159 2176 2181\n",
      " 2191 2197 2213 2215 2223 2225 2240 2255 2276 2302 2342 2354 2385 2403 2443\n",
      " 2451 2467 2478 2479 2500 2502 2509 2520 2531 2541 2603 2611 2622 2690 2707\n",
      " 2717 2730 2731 2734 2739 2763 2764 2797 2812 2852 2854 2862 2874 2878 2884\n",
      " 2897] are constant.\n",
      "  UserWarning)\n"
     ]
    }
   ],
   "source": [
    "import sklearn.grid_search\n",
    "\n",
    "\n",
    "parameters = dict(feature_selection__k=[100], # could be more [100, 200] \n",
    "              #random_forest__n_estimators=[50], # [50, 100, 200] # the number of trees\n",
    "              random_forest__min_samples_split=[10], # [2, 3, 4, 5, 10]\n",
    "              random_forest__min_samples_leaf = [5, 10],\n",
    "              random_forest__n_estimators = [10, 20])\n",
    "\n",
    "cv = sklearn.grid_search.GridSearchCV(pipeline, param_grid=parameters)\n",
    "\n",
    "cv.fit(X_train, y_train0)\n",
    "y_predictions = cv.predict(X_test)\n",
    "report = sklearn.metrics.classification_report( y_test0, y_predictions )"
   ]
  },
  {
   "cell_type": "code",
   "execution_count": 240,
   "metadata": {
    "collapsed": false
   },
   "outputs": [
    {
     "name": "stdout",
     "output_type": "stream",
     "text": [
      "             precision    recall  f1-score   support\n",
      "\n",
      "          0       0.83      0.70      0.76      4565\n",
      "          1       0.68      0.20      0.30       863\n",
      "          2       0.76      0.91      0.83      6452\n",
      "\n",
      "avg / total       0.78      0.78      0.76     11880\n",
      "\n"
     ]
    }
   ],
   "source": [
    "print(report)"
   ]
  },
  {
   "cell_type": "code",
   "execution_count": null,
   "metadata": {
    "collapsed": true
   },
   "outputs": [],
   "source": []
  }
 ],
 "metadata": {
  "kernelspec": {
   "display_name": "Python 3",
   "language": "python",
   "name": "python3"
  },
  "language_info": {
   "codemirror_mode": {
    "name": "ipython",
    "version": 3
   },
   "file_extension": ".py",
   "mimetype": "text/x-python",
   "name": "python",
   "nbconvert_exporter": "python",
   "pygments_lexer": "ipython3",
   "version": "3.4.5"
  }
 },
 "nbformat": 4,
 "nbformat_minor": 0
}
